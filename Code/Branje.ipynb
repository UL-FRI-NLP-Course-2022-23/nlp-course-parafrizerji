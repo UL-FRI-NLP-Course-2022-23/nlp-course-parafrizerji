{
 "cells": [
  {
   "cell_type": "markdown",
   "id": "ab2fdaf2-7d22-4ba5-ab23-63c6a904d672",
   "metadata": {},
   "source": [
    "Program, ki iz baze podatkov GigaFida (tekstovne datoteke baze), prebere vse stavke iz baze, in jih spravi v datoteko za poznejšo obdelavo.\n",
    "\n",
    "Ta pristop sem uporabil zato, da imam nadzor nad tem, kateri stavki se lahko še prevajajo. Namreč, ta program samo zapiše celotno bazo v eno datoteko. Program, kjer se dejansko stavki prevajajo, potem iz te baze izbere določeno količino stavko, ki jih prevede, potem pa te stavke iz datoteke neprevedeniSloStavki.npy izbriše te stavke, jih prevede ter potem doda v datoteko prevedeniStavki.npy\n",
    "\n",
    "Pri meni je ta program tekel 4:15 minut. Je pa res, da nisem preverjal, če v spisku že obstaja isti stavek. Preverjanje namreč traja precej časa, tako da je bolje to preverjati pozneje."
   ]
  },
  {
   "cell_type": "code",
   "execution_count": 1,
   "id": "8d8cd12b-9cbc-403b-9e7c-5505ca8c2f16",
   "metadata": {
    "tags": []
   },
   "outputs": [],
   "source": [
    "import os\n",
    "import datetime\n",
    "from requests.structures import CaseInsensitiveDict\n",
    "import numpy as np"
   ]
  },
  {
   "cell_type": "code",
   "execution_count": 2,
   "id": "7df21332-ab65-4943-aac6-5957e3e1d9ff",
   "metadata": {
    "tags": []
   },
   "outputs": [],
   "source": [
    "path = \"C:\\\\Studij\\\\Magistrski\\\\Letnik01\\\\02_ObdelavaNaravnegaJezika\\\\projekt\\\\korpus_ccGigafida\\\\ccGigafidaV1_0-text\"\n",
    "dir_list = os.listdir(path)"
   ]
  },
  {
   "cell_type": "code",
   "execution_count": 3,
   "id": "8818906f-1566-4580-8f3c-b826e68a2bad",
   "metadata": {
    "tags": []
   },
   "outputs": [],
   "source": [
    "# Bere stavke in preskoči tiste, ki so krajši od 10 znakov.\n",
    "\n",
    "vsiStavki = []\n",
    "\n",
    "for i in dir_list:\n",
    "    #print(i)\n",
    "    \n",
    "    # preveri, če ima datoteko konico txt\n",
    "    if not (i.endswith(\".txt\")):\n",
    "        continue\n",
    "        \n",
    "    file = open(path+\"\\\\\"+i, 'r', encoding=\"utf8\")\n",
    "    for j in file:\n",
    "        if len(j.strip()) > 10: \n",
    "            # izloči znake, ki so povzročali težave pri prevajanju\n",
    "            vsiStavki.append(j.strip().replace(\"'\",\"\").replace('\"','').replace(\"“\",\"\").replace(\"»\",\"\").replace(\"«\",\"\").replace('”',''))\n"
   ]
  },
  {
   "cell_type": "code",
   "execution_count": 4,
   "id": "29e35345-c9cd-4c69-9027-6baff8308e3d",
   "metadata": {
    "tags": []
   },
   "outputs": [],
   "source": [
    "# shranjevanje stavkov v izvorni obliki na disk\n",
    "np.save('neprevedeniSloStavki',np.asanyarray(vsiStavki,dtype=object))"
   ]
  },
  {
   "cell_type": "code",
   "execution_count": 5,
   "id": "3657ff19-902f-49e0-8a55-beefde69ce95",
   "metadata": {
    "tags": []
   },
   "outputs": [
    {
     "name": "stdout",
     "output_type": "stream",
     "text": [
      "6730038\n"
     ]
    }
   ],
   "source": [
    "# Število nabranih stavkov\n",
    "print(len(vsiStavki))"
   ]
  }
 ],
 "metadata": {
  "kernelspec": {
   "display_name": "Python 3 (ipykernel)",
   "language": "python",
   "name": "python3"
  },
  "language_info": {
   "codemirror_mode": {
    "name": "ipython",
    "version": 3
   },
   "file_extension": ".py",
   "mimetype": "text/x-python",
   "name": "python",
   "nbconvert_exporter": "python",
   "pygments_lexer": "ipython3",
   "version": "3.10.10"
  }
 },
 "nbformat": 4,
 "nbformat_minor": 5
}
