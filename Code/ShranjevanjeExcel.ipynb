{
 "cells": [
  {
   "cell_type": "markdown",
   "id": "e7b1fa69-6b4f-4225-8a72-a38fb84928b9",
   "metadata": {},
   "source": [
    "Program, ki datoteki neprevedeniSloStavki.npy in prevedeniStavki.npy shrani v Excel datoteki. To sem uporabil potem za to, da sem pregledal stavke in jih uporabil za delovanje modela."
   ]
  },
  {
   "cell_type": "code",
   "execution_count": 1,
   "id": "1477c0f8-d53e-49f8-924b-63bee587964f",
   "metadata": {
    "tags": []
   },
   "outputs": [],
   "source": [
    "import numpy as np\n",
    "import pandas as pd"
   ]
  },
  {
   "cell_type": "code",
   "execution_count": 2,
   "id": "892cccd7-66df-4d2a-a870-9c89745896af",
   "metadata": {
    "tags": []
   },
   "outputs": [],
   "source": [
    "# Slovar oznak za Excel tabelo\n",
    "# Oznaka je sestavljena iz postopka prevajanje in prevajalca, ki je prevajal\n",
    "# Primer SLO_AN_SLO_GOOGLE_DEEPL pomeni, da je najprej prevedel Google iz slovenščine v angleščino\n",
    "#    potem pa je Deepl prevedel iz angleščine v slovenščino \n",
    "\n",
    "slovar = dict({\"original\":0, \n",
    "               \"SLO_AN_CLARIN\":1, \"SLO_AN_GOOGLE\":2, \"SLO_AN_DEEPL\":3, \n",
    "               \"SLO_AN_SLO_CLARIN_CLARIN\":4, \"SLO_AN_SLO_CLARIN_GOOGLE\":5, \"SLO_AN_SLO_CLARIN_DEEPL\":6,\n",
    "               \"SLO_AN_SLO_GOOGLE_CLARIN\":7, \"SLO_AN_SLO_GOOGLE_GOOGLE\":8, \"SLO_AN_SLO_GOOGLE_DEEPL\":9,\n",
    "               \"SLO_AN_SLO_DEEPL_CLARIN\":10, \"SLO_AN_SLO_DEEPL_GOOGLE\":11, \"SLO_AN_SLO_DEEPL_DEEPL\":12\n",
    "              })\n",
    "spisekPoljPrevodi = list(slovar.keys())\n",
    "#print(spisekPoljPrevodi)\n",
    "#print(len(spisekPoljPrevodi))"
   ]
  },
  {
   "cell_type": "code",
   "execution_count": 3,
   "id": "479bcf46-8aca-4ef8-8136-8f060e8eac30",
   "metadata": {
    "tags": []
   },
   "outputs": [
    {
     "ename": "MemoryError",
     "evalue": "Unable to allocate 390. GiB for an array with shape (6714971,) and data type <U15605",
     "output_type": "error",
     "traceback": [
      "\u001b[1;31m---------------------------------------------------------------------------\u001b[0m",
      "\u001b[1;31mMemoryError\u001b[0m                               Traceback (most recent call last)",
      "Cell \u001b[1;32mIn[3], line 5\u001b[0m\n\u001b[0;32m      1\u001b[0m \u001b[38;5;66;03m# Branje in Shranjevanje neprevedenih stavkov v Excel\u001b[39;00m\n\u001b[0;32m      2\u001b[0m \u001b[38;5;66;03m# Javlja napako, da je preveč podatkov.\u001b[39;00m\n\u001b[0;32m      4\u001b[0m neprevedeniStavki \u001b[38;5;241m=\u001b[39m np\u001b[38;5;241m.\u001b[39mload(\u001b[38;5;124m'\u001b[39m\u001b[38;5;124mneprevedeniSloStavki.npy\u001b[39m\u001b[38;5;124m'\u001b[39m,allow_pickle\u001b[38;5;241m=\u001b[39m\u001b[38;5;28;01mTrue\u001b[39;00m)\u001b[38;5;241m.\u001b[39mtolist()\n\u001b[1;32m----> 5\u001b[0m skupna \u001b[38;5;241m=\u001b[39m pd\u001b[38;5;241m.\u001b[39mDataFrame(\u001b[43mnp\u001b[49m\u001b[38;5;241;43m.\u001b[39;49m\u001b[43mcolumn_stack\u001b[49m\u001b[43m(\u001b[49m\u001b[43m[\u001b[49m\u001b[43mneprevedeniStavki\u001b[49m\u001b[43m]\u001b[49m\u001b[43m)\u001b[49m, \n\u001b[0;32m      6\u001b[0m                                columns\u001b[38;5;241m=\u001b[39m[\u001b[38;5;124m'\u001b[39m\u001b[38;5;124mneprevedeni\u001b[39m\u001b[38;5;124m'\u001b[39m])\n\u001b[0;32m      8\u001b[0m skupna\u001b[38;5;241m.\u001b[39mto_excel(\u001b[38;5;124m\"\u001b[39m\u001b[38;5;124mNeprevedeniStavki.xlsx\u001b[39m\u001b[38;5;124m\"\u001b[39m)\n",
      "File \u001b[1;32m<__array_function__ internals>:180\u001b[0m, in \u001b[0;36mcolumn_stack\u001b[1;34m(*args, **kwargs)\u001b[0m\n",
      "File \u001b[1;32mC:\\Studij\\Magistrski\\Letnik01\\02_ObdelavaNaravnegaJezika\\projekt\\NLPprojekt\\lib\\site-packages\\numpy\\lib\\shape_base.py:652\u001b[0m, in \u001b[0;36mcolumn_stack\u001b[1;34m(tup)\u001b[0m\n\u001b[0;32m    650\u001b[0m arrays \u001b[38;5;241m=\u001b[39m []\n\u001b[0;32m    651\u001b[0m \u001b[38;5;28;01mfor\u001b[39;00m v \u001b[38;5;129;01min\u001b[39;00m tup:\n\u001b[1;32m--> 652\u001b[0m     arr \u001b[38;5;241m=\u001b[39m \u001b[43masanyarray\u001b[49m\u001b[43m(\u001b[49m\u001b[43mv\u001b[49m\u001b[43m)\u001b[49m\n\u001b[0;32m    653\u001b[0m     \u001b[38;5;28;01mif\u001b[39;00m arr\u001b[38;5;241m.\u001b[39mndim \u001b[38;5;241m<\u001b[39m \u001b[38;5;241m2\u001b[39m:\n\u001b[0;32m    654\u001b[0m         arr \u001b[38;5;241m=\u001b[39m array(arr, copy\u001b[38;5;241m=\u001b[39m\u001b[38;5;28;01mFalse\u001b[39;00m, subok\u001b[38;5;241m=\u001b[39m\u001b[38;5;28;01mTrue\u001b[39;00m, ndmin\u001b[38;5;241m=\u001b[39m\u001b[38;5;241m2\u001b[39m)\u001b[38;5;241m.\u001b[39mT\n",
      "\u001b[1;31mMemoryError\u001b[0m: Unable to allocate 390. GiB for an array with shape (6714971,) and data type <U15605"
     ]
    }
   ],
   "source": [
    "# Branje in Shranjevanje neprevedenih stavkov v Excel\n",
    "# Javlja napako, da je preveč podatkov.\n",
    "\n",
    "neprevedeniStavki = np.load('neprevedeniSloStavki.npy',allow_pickle=True).tolist()\n",
    "skupna = pd.DataFrame(np.column_stack([neprevedeniStavki]), \n",
    "                               columns=['neprevedeni'])\n",
    "\n",
    "skupna.to_excel(\"NeprevedeniStavki.xlsx\")"
   ]
  },
  {
   "cell_type": "code",
   "execution_count": 4,
   "id": "920b0cd5-6137-4e50-b5fc-e10e9e6810b7",
   "metadata": {
    "tags": []
   },
   "outputs": [],
   "source": [
    "# Shranjevanje prevedenih stavkov v Excel\n",
    "\n",
    "tabelaPrevedenihStavkov = np.load('prevedeniStavki.npy',allow_pickle=True).tolist()\n",
    "skupna = pd.DataFrame(np.column_stack([tabelaPrevedenihStavkov]), \n",
    "                               columns=spisekPoljPrevodi)\n",
    "\n",
    "skupna.to_excel(\"PrevedeniStavki.xlsx\")"
   ]
  },
  {
   "cell_type": "code",
   "execution_count": null,
   "id": "ccd299d2-9d5d-4272-9fff-cc09c40d8b0f",
   "metadata": {},
   "outputs": [],
   "source": []
  }
 ],
 "metadata": {
  "kernelspec": {
   "display_name": "Python 3 (ipykernel)",
   "language": "python",
   "name": "python3"
  },
  "language_info": {
   "codemirror_mode": {
    "name": "ipython",
    "version": 3
   },
   "file_extension": ".py",
   "mimetype": "text/x-python",
   "name": "python",
   "nbconvert_exporter": "python",
   "pygments_lexer": "ipython3",
   "version": "3.10.10"
  }
 },
 "nbformat": 4,
 "nbformat_minor": 5
}
