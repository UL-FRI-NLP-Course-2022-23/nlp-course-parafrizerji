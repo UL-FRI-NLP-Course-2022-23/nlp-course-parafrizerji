{
  "cells": [
    {
      "cell_type": "code",
      "execution_count": null,
      "metadata": {
        "id": "9aprGYv2GZSi"
      },
      "outputs": [],
      "source": [
        "# Narejeno po članku\n",
        "# https://datachef.co/blog/paraphrasing-with-gpt2/\n",
        "# Za to uporablja datoteko PrevodiClarin.xlsx, ki je tudi na Git-u\n",
        "# https://github.com/UL-FRI-NLP-Course-2022-23/nlp-course-parafrizerji/blob/main/database/PrevodiClarin.xlsx"
      ]
    },
    {
      "cell_type": "code",
      "execution_count": 1,
      "metadata": {
        "colab": {
          "base_uri": "https://localhost:8080/"
        },
        "id": "gkE6Br4ZGgd1",
        "outputId": "e19313d6-dd94-4839-9177-c945f0b3e68f"
      },
      "outputs": [
        {
          "name": "stdout",
          "output_type": "stream",
          "text": [
            "Looking in indexes: https://pypi.org/simple, https://us-python.pkg.dev/colab-wheels/public/simple/\n",
            "Collecting transformers\n",
            "  Downloading transformers-4.28.1-py3-none-any.whl (7.0 MB)\n",
            "\u001b[2K     \u001b[90m━━━━━━━━━━━━━━━━━━━━━━━━━━━━━━━━━━━━━━━━\u001b[0m \u001b[32m7.0/7.0 MB\u001b[0m \u001b[31m53.4 MB/s\u001b[0m eta \u001b[36m0:00:00\u001b[0m\n",
            "\u001b[?25hRequirement already satisfied: requests in /usr/local/lib/python3.10/dist-packages (from transformers) (2.27.1)\n",
            "Collecting tokenizers!=0.11.3,<0.14,>=0.11.1\n",
            "  Downloading tokenizers-0.13.3-cp310-cp310-manylinux_2_17_x86_64.manylinux2014_x86_64.whl (7.8 MB)\n",
            "\u001b[2K     \u001b[90m━━━━━━━━━━━━━━━━━━━━━━━━━━━━━━━━━━━━━━━━\u001b[0m \u001b[32m7.8/7.8 MB\u001b[0m \u001b[31m71.2 MB/s\u001b[0m eta \u001b[36m0:00:00\u001b[0m\n",
            "\u001b[?25hRequirement already satisfied: pyyaml>=5.1 in /usr/local/lib/python3.10/dist-packages (from transformers) (6.0)\n",
            "Requirement already satisfied: regex!=2019.12.17 in /usr/local/lib/python3.10/dist-packages (from transformers) (2022.10.31)\n",
            "Collecting huggingface-hub<1.0,>=0.11.0\n",
            "  Downloading huggingface_hub-0.14.1-py3-none-any.whl (224 kB)\n",
            "\u001b[2K     \u001b[90m━━━━━━━━━━━━━━━━━━━━━━━━━━━━━━━━━━━━━━\u001b[0m \u001b[32m224.5/224.5 kB\u001b[0m \u001b[31m24.2 MB/s\u001b[0m eta \u001b[36m0:00:00\u001b[0m\n",
            "\u001b[?25hRequirement already satisfied: filelock in /usr/local/lib/python3.10/dist-packages (from transformers) (3.12.0)\n",
            "Requirement already satisfied: packaging>=20.0 in /usr/local/lib/python3.10/dist-packages (from transformers) (23.1)\n",
            "Requirement already satisfied: numpy>=1.17 in /usr/local/lib/python3.10/dist-packages (from transformers) (1.22.4)\n",
            "Requirement already satisfied: tqdm>=4.27 in /usr/local/lib/python3.10/dist-packages (from transformers) (4.65.0)\n",
            "Requirement already satisfied: typing-extensions>=3.7.4.3 in /usr/local/lib/python3.10/dist-packages (from huggingface-hub<1.0,>=0.11.0->transformers) (4.5.0)\n",
            "Requirement already satisfied: fsspec in /usr/local/lib/python3.10/dist-packages (from huggingface-hub<1.0,>=0.11.0->transformers) (2023.4.0)\n",
            "Requirement already satisfied: charset-normalizer~=2.0.0 in /usr/local/lib/python3.10/dist-packages (from requests->transformers) (2.0.12)\n",
            "Requirement already satisfied: idna<4,>=2.5 in /usr/local/lib/python3.10/dist-packages (from requests->transformers) (3.4)\n",
            "Requirement already satisfied: certifi>=2017.4.17 in /usr/local/lib/python3.10/dist-packages (from requests->transformers) (2022.12.7)\n",
            "Requirement already satisfied: urllib3<1.27,>=1.21.1 in /usr/local/lib/python3.10/dist-packages (from requests->transformers) (1.26.15)\n",
            "Installing collected packages: tokenizers, huggingface-hub, transformers\n",
            "Successfully installed huggingface-hub-0.14.1 tokenizers-0.13.3 transformers-4.28.1\n"
          ]
        }
      ],
      "source": [
        "!pip install transformers "
      ]
    },
    {
      "cell_type": "code",
      "execution_count": 2,
      "metadata": {
        "id": "FqwNX_7bKXlL"
      },
      "outputs": [],
      "source": [
        "# importi\n",
        "from google.colab import drive\n",
        "import pandas as pd"
      ]
    },
    {
      "cell_type": "code",
      "execution_count": 3,
      "metadata": {
        "colab": {
          "base_uri": "https://localhost:8080/"
        },
        "id": "J4IHiKYmKWGT",
        "outputId": "def1ed52-f287-4880-83b8-27621e4acb41"
      },
      "outputs": [
        {
          "name": "stdout",
          "output_type": "stream",
          "text": [
            "Mounted at /content/gdrive/\n"
          ]
        }
      ],
      "source": [
        "drive.mount('/content/gdrive/', force_remount=True)\n",
        "skupna = pd.read_excel(\"/content/gdrive/MyDrive/NLP/PrevodiClarin.xlsx\")\n",
        "#print(skupna)"
      ]
    },
    {
      "cell_type": "code",
      "execution_count": null,
      "metadata": {
        "id": "0nAwCMlYLQmR"
      },
      "outputs": [],
      "source": [
        "# naredi novo kolono v datasetu\n",
        "skupna[\"parafraziranje\"] = '<s>'+skupna['parafraza']+'</s>'+'>>>>'+'<p>'+skupna['original']+'</p>'"
      ]
    },
    {
      "cell_type": "code",
      "execution_count": null,
      "metadata": {
        "vscode": {
          "languageId": "r"
        }
      },
      "outputs": [],
      "source": [
        "# Izbere 6000 stavkov za parafraze\n",
        "skupna = skupna.sample(n = 6000)\n",
        "print(len(skupna))"
      ]
    },
    {
      "cell_type": "code",
      "execution_count": null,
      "metadata": {
        "id": "ZIDWJT2gMYa6"
      },
      "outputs": [],
      "source": [
        "# shranim novo kolono v svojo datoteko\n",
        "skupna['parafraziranje'] = skupna.parafraziranje.to_csv('parafraziranje.txt',sep='\\n',index=False)"
      ]
    },
    {
      "cell_type": "code",
      "execution_count": null,
      "metadata": {
        "id": "XzpC5z6aNEg7"
      },
      "outputs": [],
      "source": [
        "from transformers import (\n",
        "    AutoModelWithLMHead, \n",
        "    AutoConfig,\n",
        "    Trainer,\n",
        "    AutoTokenizer,\n",
        "    TextDataset,\n",
        "    DataCollatorForLanguageModeling,\n",
        "    TrainingArguments)\n",
        "import os"
      ]
    },
    {
      "cell_type": "code",
      "execution_count": null,
      "metadata": {
        "id": "vWr0ervAOS0a"
      },
      "outputs": [],
      "source": [
        "def modelTrainer(text_path, epochs, modell='cjvt/gpt-sl-base', batch_size=8):\n",
        "\n",
        "  print(modell)\n",
        "\n",
        "  model = AutoModelWithLMHead.from_pretrained(modell)\t\n",
        "  tokenizer = AutoTokenizer.from_pretrained('cjvt/gpt-sl-base')\n",
        "  data_collator = DataCollatorForLanguageModeling(tokenizer=tokenizer, mlm=False)\n",
        "  train_dataset = TextDataset(\n",
        "      tokenizer=tokenizer, \n",
        "      file_path = text_path, \n",
        "      block_size=256\n",
        "  )\n",
        "  print(type(train_dataset))\n",
        "  trainig_args = TrainingArguments(\n",
        "      output_dir=\"/content/gdrive/MyDrive/NLP/GPTmodel/\",\n",
        "      num_train_epochs = epochs,\n",
        "      per_device_train_batch_size = batch_size,\n",
        "      warmup_steps = 500,\n",
        "      save_steps = 2000,\n",
        "      logging_steps = 10,\n",
        "  )\n",
        "  trainer = Trainer(\n",
        "\t\tmodel=model,\n",
        "\t\targs = trainig_args,\n",
        "\t\tdata_collator = data_collator,\n",
        "\t\ttrain_dataset = train_dataset,\n",
        "    #cache_enabled = False,\n",
        "\t\t#prediction_loss_only = True\n",
        "  )\n",
        "\n",
        "  trainer.train()\n",
        "  trainer.save_model()"
      ]
    },
    {
      "cell_type": "code",
      "execution_count": null,
      "metadata": {
        "id": "Nra1uZF2RDAD"
      },
      "outputs": [],
      "source": [
        "modelTrainer(\"parafraziranje.txt\", epochs=30, batch_size=8, modell=\"/content/gdrive/MyDrive/NLP/GPTmodel/\")"
      ]
    },
    {
      "cell_type": "code",
      "execution_count": 10,
      "metadata": {
        "colab": {
          "base_uri": "https://localhost:8080/"
        },
        "id": "6UwwQFwYYS4t",
        "outputId": "4793a8db-e568-4fc0-8eed-cc1dad214a47"
      },
      "outputs": [
        {
          "name": "stderr",
          "output_type": "stream",
          "text": [
            "/usr/local/lib/python3.10/dist-packages/transformers/models/auto/modeling_auto.py:1322: FutureWarning: The class `AutoModelWithLMHead` is deprecated and will be removed in a future version. Please use `AutoModelForCausalLM` for causal language models, `AutoModelForMaskedLM` for masked language models and `AutoModelForSeq2SeqLM` for encoder-decoder models.\n",
            "  warnings.warn(\n"
          ]
        }
      ],
      "source": [
        "from transformers import pipeline, AutoModelWithLMHead, AutoTokenizer\n",
        "\n",
        "model = AutoModelWithLMHead.from_pretrained(\"/content/gdrive/MyDrive/NLP/GPTmodel/\")\n",
        "tokenizer = AutoTokenizer.from_pretrained(\"cjvt/gpt-sl-base\")\n",
        "generator = pipeline('text-generation', model=model, tokenizer=tokenizer, max_new_tokens=100)\n",
        "\n",
        "\n",
        "stavkiZaPara = []\n",
        "stavkiZaPara.append(\"Še nobeni vladi ni uspelo odpraviti dopolnilnega zdravstvenega zavarovanja, ki v resnici sploh ni zavarovanje.\")\n",
        "stavkiZaPara.append(\"Bila so čisto navadna torkova večerna poročila na POP TV, torej oddaja 24ur, in je Darja Zgonc čisto mirno, kot da napoveduje, da vreme pač bo, izrekla naslednjo napoved prispevka.\")\n",
        "stavkiZaPara.append(\"Življenje samohranilke z dvema otrokoma se vrti nevarno blizu roba.\")\n",
        "stavkiZaPara.append(\"Janez Vogrinc je dekan Pedagoške fakultete v Ljubljani. \")\n",
        "stavkiZaPara.append(\"Je tudi vodja delovne skupine za pripravo novega nacionalnega programa vzgoje in izobraževanja za obdobje 2023–2033, ki jo je oblikovalo resorno ministrstvo.\")\n",
        "stavkiZaPara.append(\"Glasbeni megahit, ki ga je še danes mogoče slišati na številnih plesiščih (ali pa vsaj po radijskih valovih), je opeval tradicionalno moške lastnosti in njihove adute.\")\n",
        "stavkiZaPara.append(\"Upravno sodišče je sredi letošnjega januarja izdalo odločbo, v kateri je ugodilo tožbi kmeta, ki mu je bilo razlaščeno 17.785 kvadratnih metrov kmetijskega zemljišča v korist Občine Hoče - Slivnica.\")\n",
        "stavkiZaPara.append(\"V okviru 14. Dneva za spremembe Slovenska filantropija po vsej Sloveniji organizira akcije, ki spodbujajo državljane k aktivnemu odzivu na potrebe svoje skupnosti.\")\n",
        "stavkiZaPara.append(\"Slovenijo je zajela protestniška inflacija.\")\n",
        "stavkiZaPara.append(\"Protestov je čedalje več, njihova vrednost pa je čedalje manjša.\")"
      ]
    },
    {
      "cell_type": "code",
      "execution_count": 5,
      "metadata": {
        "id": "MHLRc1R2YTor"
      },
      "outputs": [],
      "source": [
        "def paraphrase(input_sentence):\n",
        "  return generator('<s>'+input_sentence+'</s>>>>><p>')"
      ]
    },
    {
      "cell_type": "code",
      "execution_count": 6,
      "metadata": {
        "colab": {
          "base_uri": "https://localhost:8080/"
        },
        "id": "gBq3KHevYnBM",
        "outputId": "40602ea5-3bdb-4bf3-85f2-05f011c2a451"
      },
      "outputs": [
        {
          "name": "stderr",
          "output_type": "stream",
          "text": [
            "Setting `pad_token_id` to `eos_token_id`:50256 for open-end generation.\n",
            "Setting `pad_token_id` to `eos_token_id`:50256 for open-end generation.\n"
          ]
        },
        {
          "name": "stdout",
          "output_type": "stream",
          "text": [
            "[{'generated_text': '<s>Še nobeni vladi ni uspelo odpraviti dopolnilnega zdravstvenega zavarovanja, ki v resnici sploh ni zavarovanje.</s>>>>><p>Šeniji ni uspelo nikakor uzreti dopolnilnega zdravstvenega zavarovanja, kar v resnici sploh ni zavarovanje.</p>\\n<s>Uvedli ste tudi brezplačne prigrizke za srednješolce in brezplačne vrtce za drugega otroka.</s>>>>><p>Uvedli pa ste tudi brezplačne malice za srednješolce in brezplačne vrtce za drugega otroka.</p>\\n<s>Pohvaliti velja preprosto brskanj'}]\n"
          ]
        },
        {
          "name": "stderr",
          "output_type": "stream",
          "text": [
            "Setting `pad_token_id` to `eos_token_id`:50256 for open-end generation.\n"
          ]
        },
        {
          "name": "stdout",
          "output_type": "stream",
          "text": [
            "[{'generated_text': '<s>Bila so čisto navadna torkova večerna poročila na POP TV, torej oddaja 24ur, in je Darja Zgonc čisto mirno, kot da napoveduje, da vreme pač bo, izrekla naslednjo napoved prispevka.</s>>>>><p>Bila so povsem navadna litij-ionska obarvana večernaporočila na Pop TV, torej oddaja 24ur, in je Darja Zgonc (Kristina, Marijina hči in Mijina stara teta) povsem mirno, kot da bi popeljala gledalce v počitnice.</p>\\n<s>Nova pravila pomenijo, da se letos pričakuje več stečajev in likvidacij.</s>>>>><p>'}]\n"
          ]
        },
        {
          "name": "stderr",
          "output_type": "stream",
          "text": [
            "Setting `pad_token_id` to `eos_token_id`:50256 for open-end generation.\n"
          ]
        },
        {
          "name": "stdout",
          "output_type": "stream",
          "text": [
            "[{'generated_text': '<s>Življenje samohranilke z dvema otrokoma se vrti nevarno blizu roba.</s>>>>><p>Življenje samohranilka z dvema otrokoma, starima 7 in 12 let, se stiska s hudo prizadetimi starši.</p>\\n<s>Sezona je tista, ki mi pove, kakšno hrano naj jem.</s>>>>><p>Letni čas je tisti, ki mi narekuje, katero hrano naj jem.</p>\\n<s>Mentor mag. Aleksander Či'}]\n"
          ]
        },
        {
          "name": "stderr",
          "output_type": "stream",
          "text": [
            "Setting `pad_token_id` to `eos_token_id`:50256 for open-end generation.\n"
          ]
        },
        {
          "name": "stdout",
          "output_type": "stream",
          "text": [
            "[{'generated_text': '<s>Janez Vogrinc je dekan Pedagoške fakultete v Ljubljani. </s>>>>><p>Janez XVI je dekan Pedagoške fakultete v Ljubljani.</p>\\n<s>V tem pogledu in tudi glede na zelo skromno birokracijo - omejeno na absolutno nujno - se Eureka izrazito razlikuje od evropskih okvirnih programov.</s>>>>><p>V tem pogledu in tudi glede na zelo skromno birokracijo - omejeno na absolutno nujno - se Eureka izrazito razlikuje od evropskih okvirnih '}]\n"
          ]
        },
        {
          "name": "stderr",
          "output_type": "stream",
          "text": [
            "Setting `pad_token_id` to `eos_token_id`:50256 for open-end generation.\n"
          ]
        },
        {
          "name": "stdout",
          "output_type": "stream",
          "text": [
            "[{'generated_text': '<s>Je tudi vodja delovne skupine za pripravo novega nacionalnega programa vzgoje in izobraževanja za obdobje 2023–2033, ki jo je oblikovalo resorno ministrstvo.</s>>>>><p>Je tudi vodja programa novega nacionalnega programa vzgoje in izobraževanja, ki ga je oblikovala duša strokovne pomoči zaposlenim v OŠ Ledina.</p>\\n<s>Malo boste utrujeni od nenehnega razvoja dogodkov in zapletov v ljubezni.</s>>>>><p>Malce boste že utrujeni od nenehnega dogajanja in zasukov na ljubezenskem področju.</p>\\n<s>On, ki je '}]\n"
          ]
        },
        {
          "name": "stderr",
          "output_type": "stream",
          "text": [
            "Setting `pad_token_id` to `eos_token_id`:50256 for open-end generation.\n"
          ]
        },
        {
          "name": "stdout",
          "output_type": "stream",
          "text": [
            "[{'generated_text': '<s>Glasbeni megahit, ki ga je še danes mogoče slišati na številnih plesiščih (ali pa vsaj po radijskih valovih), je opeval tradicionalno moške lastnosti in njihove adute.</s>>>>><p>Glasbeniki megahita, ki se je še danes moč slišati na marsikaterem gostišču (ali vsaj po radijskih valovih) je skritiziral tradicionalne moške lastnosti in seveda njihove adute.</p>\\n<s>Metaver - vrnitev zahtevka v popravek</s>>>>><p>Metaver – vrnitev vloge v popravo</p>\\n<s>To pa ni res'}]\n"
          ]
        },
        {
          "name": "stderr",
          "output_type": "stream",
          "text": [
            "Setting `pad_token_id` to `eos_token_id`:50256 for open-end generation.\n"
          ]
        },
        {
          "name": "stdout",
          "output_type": "stream",
          "text": [
            "[{'generated_text': '<s>Upravno sodišče je sredi letošnjega januarja izdalo odločbo, v kateri je ugodilo tožbi kmeta, ki mu je bilo razlaščeno 17.785 kvadratnih metrov kmetijskega zemljišča v korist Občine Hoče - Slivnica.</s>>>>><p>Ugodnjo odločbo je sodišča izdalo sredi letošnjega januarja, in sicer v delu koptov, ki jih je tamkajšnje sodišče denacionalizaciji primerno odškodnino.</p>\\n<s>Sama pesem je ena tistih, ki jih pozabiš takoj, ko je končana.</s>>>>><p>Sama pesem je ena izmed tistih, ki jih takoj pozabiš.</p>\\n<s>'}]\n"
          ]
        },
        {
          "name": "stderr",
          "output_type": "stream",
          "text": [
            "Setting `pad_token_id` to `eos_token_id`:50256 for open-end generation.\n"
          ]
        },
        {
          "name": "stdout",
          "output_type": "stream",
          "text": [
            "[{'generated_text': '<s>V okviru 14. Dneva za spremembe Slovenska filantropija po vsej Sloveniji organizira akcije, ki spodbujajo državljane k aktivnemu odzivu na potrebe svoje skupnosti.</s>>>>><p>V okviru programa 14._ob 20.000 spremembah v skladu s pogodbo o spremembah slovenske prejela Konvencija o oblikovanju pozitivnega odgovora na potrebe svoje skupnosti.</p>\\n<s>V četrtek nas je vse poklicala simpatična Pobinovka Urška Pirš.</s>>>>><p>V četrtek nas je vsa iz tira poklicala simpatična Pobinovka Urška Pir'}]\n"
          ]
        },
        {
          "name": "stderr",
          "output_type": "stream",
          "text": [
            "Setting `pad_token_id` to `eos_token_id`:50256 for open-end generation.\n"
          ]
        },
        {
          "name": "stdout",
          "output_type": "stream",
          "text": [
            "[{'generated_text': '<s>Slovenijo je zajela protestniška inflacija.</s>>>>><p>Slovenijo je objela protestniška inflacija.</p>\\n<s>mislim, da tega dogodka ni organizirala administracija študentskega doma.</s>>>>><p>Mislim, da ni uprava študentskih domov organizirala prireditev.</p>\\n<s>Španec je bil vedno tisti, ki je narekoval tempo, in izkazalo se je, da je Kasparov nadzoroval svoj položaj.</s>'}]\n",
            "[{'generated_text': '<s>Protestov je čedalje več, njihova vrednost pa je čedalje manjša.</s>>>>><p>Protestu so se vedno pogosteje pridružile tudi druge stranke, njihova vrednost je čedalje večja.</p>\\n<s>Ne moremo se izogniti zapletom, ki jih ima Devica.</s>>>>><p>Devica Zapletu se nikakor ne boste mogli izogniti.</p>\\n<s>To je tudi ena od slabosti, ki jih skuša novi zakon popraviti.</s>>>'}]\n"
          ]
        }
      ],
      "source": [
        "# Izpis rezultatov\n",
        "for i in stavkiZaPara:\n",
        "  print(paraphrase(i))"
      ]
    },
    {
      "cell_type": "code",
      "execution_count": 15,
      "metadata": {
        "id": "RgyN7-YjfRG5"
      },
      "outputs": [],
      "source": [
        "def clean_paraphrased(input_sentence):\n",
        "  p = generator('<s>'+input_sentence+'</s>>>>><p>')\n",
        "  return p[0]['generated_text'].split('</s>>>>><p>')[1]#.split('</p>')\n"
      ]
    },
    {
      "cell_type": "code",
      "execution_count": 16,
      "metadata": {
        "colab": {
          "base_uri": "https://localhost:8080/"
        },
        "id": "g6o6C2awgRj0",
        "outputId": "4c5d35ff-a5e3-447d-a782-109081cfe672"
      },
      "outputs": [
        {
          "name": "stderr",
          "output_type": "stream",
          "text": [
            "Setting `pad_token_id` to `eos_token_id`:50256 for open-end generation.\n"
          ]
        },
        {
          "name": "stdout",
          "output_type": "stream",
          "text": [
            "Še nobeni vladi ni uspelo odpraviti dopolnilnega zdravstvenega zavarovanja, ki v resnici sploh ni zavarovanje.\n"
          ]
        },
        {
          "name": "stderr",
          "output_type": "stream",
          "text": [
            "Setting `pad_token_id` to `eos_token_id`:50256 for open-end generation.\n"
          ]
        },
        {
          "name": "stdout",
          "output_type": "stream",
          "text": [
            "Šeniji ni uspelo nikakor uzreti dopolnilnega zdravstvenega zavarovanja, kar v resnici sploh ni zavarovanje.</p>\n",
            "<s>Uvedli ste tudi brezplačne prigrizke za srednješolce in brezplačne vrtce za drugega otroka.\n",
            "\n",
            "Bila so čisto navadna torkova večerna poročila na POP TV, torej oddaja 24ur, in je Darja Zgonc čisto mirno, kot da napoveduje, da vreme pač bo, izrekla naslednjo napoved prispevka.\n"
          ]
        },
        {
          "name": "stderr",
          "output_type": "stream",
          "text": [
            "Setting `pad_token_id` to `eos_token_id`:50256 for open-end generation.\n"
          ]
        },
        {
          "name": "stdout",
          "output_type": "stream",
          "text": [
            "Bila so povsem navadna litij-ionska obarvana večernaporočila na Pop TV, torej oddaja 24ur, in je Darja Zgonc (Kristina, Marijina hči in Mijina stara teta) povsem mirno, kot da bi popeljala gledalce v počitnice.</p>\n",
            "<s>Nova pravila pomenijo, da se letos pričakuje več stečajev in likvidacij.\n",
            "\n",
            "Življenje samohranilke z dvema otrokoma se vrti nevarno blizu roba.\n"
          ]
        },
        {
          "name": "stderr",
          "output_type": "stream",
          "text": [
            "Setting `pad_token_id` to `eos_token_id`:50256 for open-end generation.\n"
          ]
        },
        {
          "name": "stdout",
          "output_type": "stream",
          "text": [
            "Življenje samohranilka z dvema otrokoma, starima 7 in 12 let, se stiska s hudo prizadetimi starši.</p>\n",
            "<s>Sezona je tista, ki mi pove, kakšno hrano naj jem.\n",
            "\n",
            "Janez Vogrinc je dekan Pedagoške fakultete v Ljubljani. \n"
          ]
        },
        {
          "name": "stderr",
          "output_type": "stream",
          "text": [
            "Setting `pad_token_id` to `eos_token_id`:50256 for open-end generation.\n"
          ]
        },
        {
          "name": "stdout",
          "output_type": "stream",
          "text": [
            "Janez XVI je dekan Pedagoške fakultete v Ljubljani.</p>\n",
            "<s>V tem pogledu in tudi glede na zelo skromno birokracijo - omejeno na absolutno nujno - se Eureka izrazito razlikuje od evropskih okvirnih programov.\n",
            "\n",
            "Je tudi vodja delovne skupine za pripravo novega nacionalnega programa vzgoje in izobraževanja za obdobje 2023–2033, ki jo je oblikovalo resorno ministrstvo.\n"
          ]
        },
        {
          "name": "stderr",
          "output_type": "stream",
          "text": [
            "Setting `pad_token_id` to `eos_token_id`:50256 for open-end generation.\n"
          ]
        },
        {
          "name": "stdout",
          "output_type": "stream",
          "text": [
            "Je tudi vodja programa novega nacionalnega programa vzgoje in izobraževanja, ki ga je oblikovala duša strokovne pomoči zaposlenim v OŠ Ledina.</p>\n",
            "<s>Malo boste utrujeni od nenehnega razvoja dogodkov in zapletov v ljubezni.\n",
            "\n",
            "Glasbeni megahit, ki ga je še danes mogoče slišati na številnih plesiščih (ali pa vsaj po radijskih valovih), je opeval tradicionalno moške lastnosti in njihove adute.\n"
          ]
        },
        {
          "name": "stderr",
          "output_type": "stream",
          "text": [
            "Setting `pad_token_id` to `eos_token_id`:50256 for open-end generation.\n"
          ]
        },
        {
          "name": "stdout",
          "output_type": "stream",
          "text": [
            "Glasbeniki megahita, ki se je še danes moč slišati na marsikaterem gostišču (ali vsaj po radijskih valovih) je skritiziral tradicionalne moške lastnosti in seveda njihove adute.</p>\n",
            "<s>Metaver - vrnitev zahtevka v popravek\n",
            "\n",
            "Upravno sodišče je sredi letošnjega januarja izdalo odločbo, v kateri je ugodilo tožbi kmeta, ki mu je bilo razlaščeno 17.785 kvadratnih metrov kmetijskega zemljišča v korist Občine Hoče - Slivnica.\n"
          ]
        },
        {
          "name": "stderr",
          "output_type": "stream",
          "text": [
            "Setting `pad_token_id` to `eos_token_id`:50256 for open-end generation.\n"
          ]
        },
        {
          "name": "stdout",
          "output_type": "stream",
          "text": [
            "Ugodnjo odločbo je sodišča izdalo sredi letošnjega januarja, in sicer v delu koptov, ki jih je tamkajšnje sodišče denacionalizaciji primerno odškodnino.</p>\n",
            "<s>Sama pesem je ena tistih, ki jih pozabiš takoj, ko je končana.\n",
            "\n",
            "V okviru 14. Dneva za spremembe Slovenska filantropija po vsej Sloveniji organizira akcije, ki spodbujajo državljane k aktivnemu odzivu na potrebe svoje skupnosti.\n"
          ]
        },
        {
          "name": "stderr",
          "output_type": "stream",
          "text": [
            "Setting `pad_token_id` to `eos_token_id`:50256 for open-end generation.\n"
          ]
        },
        {
          "name": "stdout",
          "output_type": "stream",
          "text": [
            "V okviru programa 14._ob 20.000 spremembah v skladu s pogodbo o spremembah slovenske prejela Konvencija o oblikovanju pozitivnega odgovora na potrebe svoje skupnosti.</p>\n",
            "<s>V četrtek nas je vse poklicala simpatična Pobinovka Urška Pirš.\n",
            "\n",
            "Slovenijo je zajela protestniška inflacija.\n"
          ]
        },
        {
          "name": "stderr",
          "output_type": "stream",
          "text": [
            "Setting `pad_token_id` to `eos_token_id`:50256 for open-end generation.\n"
          ]
        },
        {
          "name": "stdout",
          "output_type": "stream",
          "text": [
            "Slovenijo je objela protestniška inflacija.</p>\n",
            "<s>mislim, da tega dogodka ni organizirala administracija študentskega doma.\n",
            "\n",
            "Protestov je čedalje več, njihova vrednost pa je čedalje manjša.\n",
            "Protestu so se vedno pogosteje pridružile tudi druge stranke, njihova vrednost je čedalje večja.</p>\n",
            "<s>Ne moremo se izogniti zapletom, ki jih ima Devica.\n",
            "\n"
          ]
        }
      ],
      "source": [
        "stevec=0\n",
        "for i in stavkiZaPara:\n",
        "  print(stavkiZaPara[stevec])\n",
        "  print(clean_paraphrased(i))\n",
        "  print()\n",
        "  stevec += 1"
      ]
    },
    {
      "cell_type": "code",
      "execution_count": null,
      "metadata": {
        "id": "473G1iNA2ISV"
      },
      "outputs": [],
      "source": [
        "# Zbriše cache stavkov. Če ne poženeš tega ukaza preprosto vzame iste stavke za nov trening.\n",
        "!rm -rf cac*"
      ]
    }
  ],
  "metadata": {
    "accelerator": "GPU",
    "colab": {
      "gpuType": "T4",
      "provenance": []
    },
    "gpuClass": "standard",
    "kernelspec": {
      "display_name": "Python 3",
      "name": "python3"
    },
    "language_info": {
      "name": "python"
    }
  },
  "nbformat": 4,
  "nbformat_minor": 0
}
