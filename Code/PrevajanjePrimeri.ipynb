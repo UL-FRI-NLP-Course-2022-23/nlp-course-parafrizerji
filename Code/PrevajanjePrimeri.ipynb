{
 "cells": [
  {
   "cell_type": "markdown",
   "id": "7bb45d97-554b-4e19-a7c0-2abdd208f5a2",
   "metadata": {},
   "source": [
    "V tem zvezku so primeri prevajanja za vsak prevajalnik posebej. \n",
    "\n",
    "Obravnavam tri prevajalnike\n",
    "- Clarin\n",
    "- Googl translate\n",
    "- Deepl"
   ]
  },
  {
   "cell_type": "markdown",
   "id": "a94d2ecc-92da-46f2-b819-9b280b5590f8",
   "metadata": {
    "tags": []
   },
   "source": [
    "### CLARIN\n",
    "\n",
    "Nahaja se na naslovu https://www.clarin.si/repository/xmlui/handle/11356/1736\n",
    "Navodila za uporabo so na naslovu https://github.com/clarinsi/Slovene_NMT\n",
    "\n",
    "Za uporabo je potrebno imeti nameščen Docker, ki ga dobimo na naslovu https://www.docker.com/\n",
    "\n",
    "Po namestitvi prevajalnika je potrebno še v poddirekoriju NMT\\models\\v1.2.6 narediti še dva poddirektorija ()ensl in slen) \n",
    "ter skopirati modela, ki se nahajata na naslovu https://www.clarin.si/repository/xmlui/handle/11356/1736 spodaj. \n",
    "Vsak izmed modelov je velik 1,85 GB.\n",
    "\n",
    "Prevajalnik je načeloma pripravljen za prevajanje, ko se na naslovu http://localhost:4000/ pojavi {\"detail\":\"Not Found\"}"
   ]
  },
  {
   "cell_type": "markdown",
   "id": "1178a426-51e1-44cf-ab62-e11f4e98c7a9",
   "metadata": {},
   "source": [
    "### GOOGLE TRANSLATE\n",
    "\n",
    "V pythonu je potrebno samo namestiti paket googletrans, ostalo je potem samo klicanje ukazov preko API vmesnika.\n",
    "Paziti je potrebno samo, da ne pošiljamo stavkov prepogosto, drugače za nekaj časa zablokira IP številko pošiljatelja\n",
    "Na spletu priporočajo sekunsno pavzo pri pošiljanju."
   ]
  },
  {
   "cell_type": "markdown",
   "id": "b5eb29cd-e1ff-4e29-80c2-39f2a791435d",
   "metadata": {},
   "source": [
    "### DEEPL\n",
    "\n",
    "Za prevajanje z Deeplom je potebno biti registriran, tudi za brezpločno uporabo. Pri prijavi je potebno dati podatke o Mastercard bančni kartici. Kot omenjajo zaradi tega, da ne bi kdo izkoriščal oziroma presegel količino prevodov. Zastonjska uporaba je omejena na 500.000 znakov, se mi zdi, porabo lahko spremljaš v svojem računu. Za prevajanje pa potebuješ kodo, ki jo je potrebno vnesti v ukaz. Kodo dobiš v svojem uporabniškem računu.\n",
    "\n",
    "Poleg copy-paste tehnologije, Deepl pozna tudi zastonjsko prevajanje dokumentov (pdf, docx, pptx), kjer se ni potrebno registrirati, vendar je tudi ta omejena. Ne vem čisto dobro, kakšna je omejitev. Ko dosežeš omejitev, s tistega računalnika ni mogoče več pošiljati dokuente, ne vem pa, ali se upošteva IP številka ali prepozna računalnik.\n",
    "\n",
    "Morda bi bila ena možnost zastonjskega prevajnja ta, da bi iz vsakega računalnika v učilnici pošiljal dokumente dokler bi šlo. "
   ]
  },
  {
   "cell_type": "code",
   "execution_count": 1,
   "id": "a0ee1683-ce89-4942-add9-b8d733da19c5",
   "metadata": {
    "tags": []
   },
   "outputs": [],
   "source": [
    "stavekZaPrevod = \"Gre za že kdo ve kateri popravek proračuna za leto, ki se ni še niti začelo.\""
   ]
  },
  {
   "cell_type": "code",
   "execution_count": 2,
   "id": "d8b0f23e-af01-48fc-aa28-6c49dcd32077",
   "metadata": {
    "tags": []
   },
   "outputs": [
    {
     "name": "stdout",
     "output_type": "stream",
     "text": [
      "Izvorni stavek:\n",
      " Gre za že kdo ve kateri popravek proračuna za leto, ki se ni še niti začelo.\n",
      "Prevod izvornega stavka Clarin:\n",
      " It's about who knows what budget correction for the year that hasn't even started yet.\n",
      "Prevod prevedenega stavka Clarin:\n",
      " gre za to, kdo ve, kakšen popravek proračuna za leto, ki se sploh še ni začelo.\n"
     ]
    }
   ],
   "source": [
    "# Clarin\n",
    "\n",
    "import requests\n",
    "from requests.structures import CaseInsensitiveDict\n",
    "\n",
    "url = \"http://localhost:4000/api/translate\"\n",
    "headers = CaseInsensitiveDict()\n",
    "headers[\"Content-Type\"] = \"application/json\"\n",
    "\n",
    "data = '{ \"src_language\":\"sl\",\"tgt_language\":\"en\",\"text\":\"'+stavekZaPrevod+'\"}'\n",
    "data = data.encode(\"utf-8\")\n",
    "resp = requests.post(url, headers=headers, data=data)\n",
    "StavekClarin_SloAn = eval(resp.text)['result']\n",
    "data = '{ \"src_language\":\"en\",\"tgt_language\":\"sl\",\"text\":\"'+StavekClarin_SloAn+'\"}'\n",
    "data = data.encode(\"utf-8\")\n",
    "resp = requests.post(url, headers=headers, data=data)\n",
    "StavekClarin_SloAnSlo = eval(resp.text)['result']\n",
    "\n",
    "print(\"Izvorni stavek:\\n\", stavekZaPrevod)\n",
    "print(\"Prevod izvornega stavka Clarin:\\n\", StavekClarin_SloAn)\n",
    "print(\"Prevod prevedenega stavka Clarin:\\n\",StavekClarin_SloAnSlo)"
   ]
  },
  {
   "cell_type": "code",
   "execution_count": 3,
   "id": "d047adde-9c4f-454a-a1ec-fab3385717f1",
   "metadata": {
    "tags": []
   },
   "outputs": [
    {
     "name": "stdout",
     "output_type": "stream",
     "text": [
      "Izvorni stavek:\n",
      " Gre za že kdo ve kateri popravek proračuna za leto, ki se ni še niti začelo.\n",
      "Prevod izvornega stavka Google:\n",
      " It is already anyone who knows what budget correction for the year, which has not yet begun.\n",
      "Prevod prevedenega stavka Google:\n",
      " To je že vsak, ki ve, kakšen popravek proračuna za leto se še ni začelo.\n"
     ]
    }
   ],
   "source": [
    "# Google translate\n",
    "\n",
    "import googletrans\n",
    "from googletrans import Translator\n",
    "\n",
    "translator = Translator()\n",
    "\n",
    "result = translator.translate(stavekZaPrevod, src='sl', dest='en')\n",
    "StavekGoogle_SloAn = result.text\n",
    "time.sleep(1)\n",
    "result = translator.translate(StavekGoogle_SloAn, src='en', dest='sl')\n",
    "StavekGoogle_SloAnSlo = result.text\n",
    "\n",
    "print(\"Izvorni stavek:\\n\", stavekZaPrevod)\n",
    "print(\"Prevod izvornega stavka Google:\\n\", StavekGoogle_SloAn)\n",
    "print(\"Prevod prevedenega stavka Google:\\n\",StavekGoogle_SloAnSlo)"
   ]
  },
  {
   "cell_type": "code",
   "execution_count": 4,
   "id": "46d0544f-e3b7-4813-bcc7-f0b300a07f49",
   "metadata": {
    "tags": []
   },
   "outputs": [
    {
     "name": "stdout",
     "output_type": "stream",
     "text": [
      "Izvorni stavek:\n",
      " Gre za že kdo ve kateri popravek proračuna za leto, ki se ni še niti začelo.\n",
      "Prevod izvornega stavka Google:\n",
      " It is a revision of who knows what budget for a year that has not even started yet.\n",
      "Prevod prevedenega stavka Google:\n",
      " Gre za revizijo kdo ve kakšnega proračuna za leto, ki se sploh še ni začelo.\n"
     ]
    }
   ],
   "source": [
    "# Deepl\n",
    "import deepl\n",
    "\n",
    "auth_key = \"0237a978-df9a-da8b-275a-5b664b40feb0:fx\"  # Replace with your key\n",
    "translator = deepl.Translator(auth_key)\n",
    "\n",
    "result = translator.translate_text(stavekZaPrevod, source_lang=\"SL\", target_lang=\"EN-GB\")\n",
    "StavekDeepl_SloAn = result.text\n",
    "result = translator.translate_text(StavekDeepl_SloAn, source_lang=\"EN\", target_lang=\"SL\")\n",
    "StavekDeepl_SloAnSlo = result.text\n",
    "\n",
    "print(\"Izvorni stavek:\\n\", stavekZaPrevod)\n",
    "print(\"Prevod izvornega stavka Google:\\n\", StavekDeepl_SloAn)\n",
    "print(\"Prevod prevedenega stavka Google:\\n\",StavekDeepl_SloAnSlo)\n"
   ]
  }
 ],
 "metadata": {
  "kernelspec": {
   "display_name": "Python 3 (ipykernel)",
   "language": "python",
   "name": "python3"
  },
  "language_info": {
   "codemirror_mode": {
    "name": "ipython",
    "version": 3
   },
   "file_extension": ".py",
   "mimetype": "text/x-python",
   "name": "python",
   "nbconvert_exporter": "python",
   "pygments_lexer": "ipython3",
   "version": "3.10.10"
  }
 },
 "nbformat": 4,
 "nbformat_minor": 5
}
