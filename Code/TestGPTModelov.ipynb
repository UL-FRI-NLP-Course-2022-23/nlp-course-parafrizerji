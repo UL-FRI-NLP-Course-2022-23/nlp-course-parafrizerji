{
 "cells": [
  {
   "cell_type": "code",
   "execution_count": 1,
   "id": "944b80a3-f616-48ee-8d81-992fb392c232",
   "metadata": {},
   "outputs": [],
   "source": [
    "# Testiranje GPT modelov"
   ]
  },
  {
   "cell_type": "code",
   "execution_count": 2,
   "id": "f4d4bac3-7e72-4f80-a527-0101d5775d77",
   "metadata": {
    "tags": []
   },
   "outputs": [],
   "source": [
    "# importi\n",
    "import pandas as pd\n",
    "import numpy as np\n",
    "from transformers import AutoTokenizer, AutoModelForCausalLM, pipeline\n",
    "import torch"
   ]
  },
  {
   "cell_type": "code",
   "execution_count": 3,
   "id": "92e55860-73d8-484c-aaa8-eae5b0bd959b",
   "metadata": {},
   "outputs": [],
   "source": [
    "stStavkov = 100\n",
    "potDoModela = \"modeli\\\\GPT_Clarin_50\"\n",
    "potDoModela = \"modeli\\\\GPT_Clarin_100\"\n",
    "potDoModela = \"modeli\\\\GPT_Clarin_150\"\n",
    "potDoModela = \"modeli\\\\GPT_Clarin_200\"\n",
    "potDoModela = \"modeli\\\\GPT_Google_50\"\n",
    "potDoModela = \"modeli\\\\GPT_Google_100\"\n",
    "potDoModela = \"modeli\\\\GPT_Google_150\"\n",
    "potDoModela = \"modeli\\\\GPT_Google_200\"\n",
    "potDoModela = \"modeli\\\\GPT_Deepl_50\"\n",
    "potDoModela = \"modeli\\\\GPT_Deepl_100\"\n",
    "potDoModela = \"modeli\\\\GPT_Deepl_150\"\n",
    "potDoModela = \"modeli\\\\GPT_Deepl_200\"\n",
    "stParafraz = 1"
   ]
  },
  {
   "cell_type": "code",
   "execution_count": 4,
   "id": "57bc906d-bfc5-488b-8cef-c55775a9bf4d",
   "metadata": {},
   "outputs": [
    {
     "name": "stdout",
     "output_type": "stream",
     "text": [
      "100\n"
     ]
    }
   ],
   "source": [
    "testniStavki = pd.read_excel(\"TestniStavki_ZaTest.xlsx\")\n",
    "testniStavki = testniStavki.values.tolist()\n",
    "testniStavki = [i[0] for i in testniStavki]\n",
    "testniStavki = testniStavki[:stStavkov] #Zadokumentirat če bi celotno bazo\n",
    "print(len(testniStavki))"
   ]
  },
  {
   "cell_type": "code",
   "execution_count": 5,
   "id": "3ef4375b-79af-4bee-bdd5-ef7025e92b97",
   "metadata": {},
   "outputs": [],
   "source": [
    "model = AutoModelForCausalLM.from_pretrained(potDoModela)\n",
    "tokenizer = AutoTokenizer.from_pretrained(\"cjvt/gpt-sl-base\")\n",
    "generator = pipeline('text-generation', model=model, tokenizer=tokenizer, max_new_tokens=100)\n",
    "\n",
    "#device = torch.device(\"cuda\") if torch.cuda.is_available() else torch.device(\"cpu\")\n",
    "#model.to(device)\n"
   ]
  },
  {
   "cell_type": "code",
   "execution_count": 6,
   "id": "58ffaf83-5d8a-44fd-8577-cad493d5d57e",
   "metadata": {
    "tags": []
   },
   "outputs": [],
   "source": [
    "celotnaTabela2 = pd.DataFrame(index=range(len(testniStavki)),columns=range(stParafraz+1))"
   ]
  },
  {
   "cell_type": "code",
   "execution_count": 7,
   "id": "efdaa756-fdbe-46cd-998e-90e4e060f1d9",
   "metadata": {},
   "outputs": [],
   "source": [
    "def clean_paraphrased(input_sentence):\n",
    "    p = generator('<s>'+input_sentence+'</s>>>>><p>') #generator(''+input_sentence+'>>>>')\n",
    "    return p[0]['generated_text'].split('</s>>>>><p>')[1].split('</p>')[0]"
   ]
  },
  {
   "cell_type": "code",
   "execution_count": 8,
   "id": "4f03f14b-da1f-486e-bb77-b063c51d4668",
   "metadata": {},
   "outputs": [
    {
     "name": "stderr",
     "output_type": "stream",
     "text": [
      "Setting `pad_token_id` to `eos_token_id`:50256 for open-end generation.\n",
      "Setting `pad_token_id` to `eos_token_id`:50256 for open-end generation.\n"
     ]
    },
    {
     "name": "stdout",
     "output_type": "stream",
     "text": [
      "Vsaka občinska volilna komisija mora v občini določiti najmanj eno volišče, ki je dostopno invalidom.\n",
      "Vsaka Občina naj bi v občini določila najmanj dve volilni komisiji, ki naj bi bila glede na strankarske preference določili najmanj dve.\n",
      "\n"
     ]
    },
    {
     "name": "stderr",
     "output_type": "stream",
     "text": [
      "Setting `pad_token_id` to `eos_token_id`:50256 for open-end generation.\n"
     ]
    },
    {
     "name": "stdout",
     "output_type": "stream",
     "text": [
      "Če nič ne delajo, ne morejo nič narediti narobe in jih nihče ne more pribijati na križ, pravi Simič.\n",
      "Če nič ne delaš, ne moreš nič slabega, pa tudi ne znaš šteti do tri...\n",
      "\n"
     ]
    },
    {
     "name": "stderr",
     "output_type": "stream",
     "text": [
      "Setting `pad_token_id` to `eos_token_id`:50256 for open-end generation.\n"
     ]
    },
    {
     "name": "stdout",
     "output_type": "stream",
     "text": [
      "Po svoji naravi je svetovljanka in se znajde v katerikoli deželi, povsod je lahko doma.\n",
      "Po svoji naravi je pravo nekakšen svet, je povedala po svoji naravi.\n",
      "\n"
     ]
    },
    {
     "name": "stderr",
     "output_type": "stream",
     "text": [
      "Setting `pad_token_id` to `eos_token_id`:50256 for open-end generation.\n"
     ]
    },
    {
     "name": "stdout",
     "output_type": "stream",
     "text": [
      "Zgodba z Oswaldom je bila namreč na tako trhlih nogah, da so ji v resnici verjeli samo največji naivneži.\n",
      "Zgodba, pri kateri je z vidika uporabnosti manj vredno, je torej na tako škripanju zob, da so v resnici verjeli le Največji naivneži.\n",
      "\n"
     ]
    },
    {
     "name": "stderr",
     "output_type": "stream",
     "text": [
      "Setting `pad_token_id` to `eos_token_id`:50256 for open-end generation.\n"
     ]
    },
    {
     "name": "stdout",
     "output_type": "stream",
     "text": [
      "Ameriški psihologi, jezikoslovci in sociologi na grozo politikov ugotavljajo, da je celo v slengu mladih prišlo do korenitih sprememb.\n",
      " ameriškice in policiste je nemškega alternativnega župana, violista in sociologa zelo težko dosegel.\n",
      "\n"
     ]
    },
    {
     "name": "stderr",
     "output_type": "stream",
     "text": [
      "Setting `pad_token_id` to `eos_token_id`:50256 for open-end generation.\n"
     ]
    },
    {
     "name": "stdout",
     "output_type": "stream",
     "text": [
      "Ni se mi dalo več seksati, ne vem zakaj, ženske so se mi nekako upirale, celo planika vseh žensk Ariana.\n",
      "Ni bilo mogoče več sexati, dokler mi ni uspelo več sexati, pa še ženske so se mi nekako utegnile, češ zakaj, šele potem so mi parne-\n",
      "\n"
     ]
    },
    {
     "name": "stderr",
     "output_type": "stream",
     "text": [
      "Setting `pad_token_id` to `eos_token_id`:50256 for open-end generation.\n"
     ]
    },
    {
     "name": "stdout",
     "output_type": "stream",
     "text": [
      "Pravzaprav je že gotova, samo preproga in zavese še manjkajo.\n",
      "Pravzaprav je že kar gotova, samo plemenitejšega blaga in zavese še manjka.\n",
      "\n"
     ]
    },
    {
     "name": "stderr",
     "output_type": "stream",
     "text": [
      "Setting `pad_token_id` to `eos_token_id`:50256 for open-end generation.\n"
     ]
    },
    {
     "name": "stdout",
     "output_type": "stream",
     "text": [
      "Praznujeva ga z obiskom kina, na sprehodu po okolici naše domače Višnje Gore ali s skupno kavico.\n",
      "Praznujeva ga namreč kar nekaj dni, kolikor traja izmena, in na sprehodu z javnim prevozom, kar kmalu odpravi.\n",
      "\n"
     ]
    },
    {
     "name": "stderr",
     "output_type": "stream",
     "text": [
      "Setting `pad_token_id` to `eos_token_id`:50256 for open-end generation.\n"
     ]
    },
    {
     "name": "stdout",
     "output_type": "stream",
     "text": [
      "Sledilo je uigravanje novega materiala in posebni promocijski nastopi (show-case), ki so namenjeni predstavnikom gramofonskih hiš.\n",
      "Temu je sledilo ufašeno novega materiala in posebni promocijski nastop (iz bunica) z namenom, da bi bil dodatek še posebej primeren za predstavnike odjemnih mest.\n",
      "\n"
     ]
    },
    {
     "name": "stderr",
     "output_type": "stream",
     "text": [
      "Setting `pad_token_id` to `eos_token_id`:50256 for open-end generation.\n"
     ]
    },
    {
     "name": "stdout",
     "output_type": "stream",
     "text": [
      "Tam se bomo v petek in v soboto pomerili z vrsto Bratislave.\n",
      "V okviru programa Phare bodo potekali na petek in v soboto tekmovanje z vrsto iz tujine.\n",
      "\n"
     ]
    },
    {
     "name": "stderr",
     "output_type": "stream",
     "text": [
      "Setting `pad_token_id` to `eos_token_id`:50256 for open-end generation.\n"
     ]
    },
    {
     "name": "stdout",
     "output_type": "stream",
     "text": [
      "McCourt je v Dublinu končal Belvedere College, doktoriral pa leta 1991 na University College .\n",
      "Strokovnjaki Evropskega visokega šolstva so v ducatih opustili članstvo v EU in se od leta 1991 do danes omenjajo na University College.\n",
      "\n"
     ]
    },
    {
     "name": "stderr",
     "output_type": "stream",
     "text": [
      "Setting `pad_token_id` to `eos_token_id`:50256 for open-end generation.\n"
     ]
    },
    {
     "name": "stdout",
     "output_type": "stream",
     "text": [
      "Pod točilnim pultom vidimo Novice malega Pariza, ki so jih času primerno bolj ali manj posvetili ptičji gripi.\n",
      "Na pol leta beremo o klubu Candyjevih kozic, ki so jih povzročile zaradi lastne gripe ali pa so jih preprosto poginile.\n",
      "\n"
     ]
    },
    {
     "name": "stderr",
     "output_type": "stream",
     "text": [
      "Setting `pad_token_id` to `eos_token_id`:50256 for open-end generation.\n"
     ]
    },
    {
     "name": "stdout",
     "output_type": "stream",
     "text": [
      "Zagotovo pa ne bi imel nič proti, če bi v vlogi gosta nastopil tudi kateri od mojih pevskih partnerjev.\n",
      "Verjetno je ne bi imela še kje, še posebej, ker bi v tej vlogi tudi sama nastopila.\n",
      "\n"
     ]
    },
    {
     "name": "stderr",
     "output_type": "stream",
     "text": [
      "Setting `pad_token_id` to `eos_token_id`:50256 for open-end generation.\n"
     ]
    },
    {
     "name": "stdout",
     "output_type": "stream",
     "text": [
      "Potrudila se bom, da ju bom redno jahala.\n",
      "Potrudila se bom, da bom čim bolj uspešna pri preskakovanju ovir in da jo bom sčasoma tudi zrušila.\n",
      "\n"
     ]
    },
    {
     "name": "stderr",
     "output_type": "stream",
     "text": [
      "Setting `pad_token_id` to `eos_token_id`:50256 for open-end generation.\n"
     ]
    },
    {
     "name": "stdout",
     "output_type": "stream",
     "text": [
      "Zato jo je po opravljenem postopku njenega preizkusa sprejelo.\n",
      "Zaradi navedenega jo je po njenem mnenju brez dlake na jeziku zapustilo.\n",
      "\n"
     ]
    },
    {
     "name": "stderr",
     "output_type": "stream",
     "text": [
      "Setting `pad_token_id` to `eos_token_id`:50256 for open-end generation.\n"
     ]
    },
    {
     "name": "stdout",
     "output_type": "stream",
     "text": [
      "Za Everest ste se torej odločili, ker to ni uspelo še nikomur?\n",
      "Za pol ure pa so se odločili za Kencijana, saj to takrat ni bilo mogoče.\n",
      "\n"
     ]
    },
    {
     "name": "stderr",
     "output_type": "stream",
     "text": [
      "Setting `pad_token_id` to `eos_token_id`:50256 for open-end generation.\n"
     ]
    },
    {
     "name": "stdout",
     "output_type": "stream",
     "text": [
      "Lahko se zgolj vprašamo, ali je barva fasade odraz kulture bivanja.\n",
      "Lahko se samo vprašamo, ali je bila določena barva fasade posledica kulturo bivanja.\n",
      "\n"
     ]
    },
    {
     "name": "stderr",
     "output_type": "stream",
     "text": [
      "Setting `pad_token_id` to `eos_token_id`:50256 for open-end generation.\n"
     ]
    },
    {
     "name": "stdout",
     "output_type": "stream",
     "text": [
      "Moški v uniformah je ne privlačijo.\n",
      "Moški v enem zavodu je niti ne privlačijo.\n",
      "\n"
     ]
    },
    {
     "name": "stderr",
     "output_type": "stream",
     "text": [
      "Setting `pad_token_id` to `eos_token_id`:50256 for open-end generation.\n"
     ]
    },
    {
     "name": "stdout",
     "output_type": "stream",
     "text": [
      "Pozna vse skrivnosti družine Montenegro in molči, saj skriva veliko bolečih podrobnosti.\n",
      "Enako spoznamo sebe in molčimo, saj imamo v stanovanju kar nekaj težkih podrobnosti.\n",
      "\n"
     ]
    },
    {
     "name": "stderr",
     "output_type": "stream",
     "text": [
      "Setting `pad_token_id` to `eos_token_id`:50256 for open-end generation.\n"
     ]
    },
    {
     "name": "stdout",
     "output_type": "stream",
     "text": [
      "ZAKAJ PA ŠEPETAŠ, MALI, SI ŠE V ŠOKU, KO SI ZVEDEL, DA BOŠ TATA, KAJ?\n",
      "ZAKAJ pa ŠE ENKRAT PREGLEDAŠ WALLANDERJA, SAJ SI ŠE V ŠOKU, KO BUŠNI K svoji BUŠNI\n",
      "\n"
     ]
    },
    {
     "name": "stderr",
     "output_type": "stream",
     "text": [
      "Setting `pad_token_id` to `eos_token_id`:50256 for open-end generation.\n"
     ]
    },
    {
     "name": "stdout",
     "output_type": "stream",
     "text": [
      "Razumljivo, saj ladjice izpuščajo svoje odplake, tako gospodinjske kot iztrebke, naravnost v vodo.\n",
      "Razumljivo, saj bi oba ladjarkama kmalu ušli.\n",
      "\n"
     ]
    },
    {
     "name": "stderr",
     "output_type": "stream",
     "text": [
      "Setting `pad_token_id` to `eos_token_id`:50256 for open-end generation.\n"
     ]
    },
    {
     "name": "stdout",
     "output_type": "stream",
     "text": [
      "Tako obdelano mleko je uporabno od 2 do 6 mesecev.\n",
      "Tako obdelano mleko je primerno tudi za kopanje, saj z njim od 2 do 6 mesecev nastaja sir.\n",
      "\n"
     ]
    },
    {
     "name": "stderr",
     "output_type": "stream",
     "text": [
      "Setting `pad_token_id` to `eos_token_id`:50256 for open-end generation.\n"
     ]
    },
    {
     "name": "stdout",
     "output_type": "stream",
     "text": [
      "To pot je slavilo z 8:1, oba naša hokejista pa sta prispevala po dve točki (po en gol in podajo).\n",
      "To pot je dobil Argentinec s 8:1, oba njegova hokejista pa sta prispevala po dvema zmagama (po en gol in po darijo).\n",
      "\n"
     ]
    },
    {
     "name": "stderr",
     "output_type": "stream",
     "text": [
      "Setting `pad_token_id` to `eos_token_id`:50256 for open-end generation.\n"
     ]
    },
    {
     "name": "stdout",
     "output_type": "stream",
     "text": [
      "Ta dokaj optimističen položaj kaže izkoristiti, saj pomeni zelo dobro naložbo za prihodnost.\n",
      "Ta dokaj nora zadeva pa kaže, da se na tem področju izjemno dobro sodelujemo.\n",
      "\n"
     ]
    },
    {
     "name": "stderr",
     "output_type": "stream",
     "text": [
      "Setting `pad_token_id` to `eos_token_id`:50256 for open-end generation.\n"
     ]
    },
    {
     "name": "stdout",
     "output_type": "stream",
     "text": [
      "Osebno se ne čutim odgovornega za zadeve, ki mi jih je pripisal NS.\n",
      "Osebno se ne čutim odgovoren za to, kar mi je pripisal napredek, to je namreč njegova naloga.\n",
      "\n"
     ]
    },
    {
     "name": "stderr",
     "output_type": "stream",
     "text": [
      "Setting `pad_token_id` to `eos_token_id`:50256 for open-end generation.\n"
     ]
    },
    {
     "name": "stdout",
     "output_type": "stream",
     "text": [
      "ŠKOFJA LOKA KAMNITNIK, prodamo 1192 m2 zazidljive parcele, ki se nahaja nad OMV-jem v Šk.\n",
      "ŠKOFJA LOKALEFOLIUM, prodamo 1192 m2 obdelovalne zemlje, ki jo obdajajo, zaradi česar je Humberto nezaupljiv do Marziine nove službe.\n",
      "\n"
     ]
    },
    {
     "name": "stderr",
     "output_type": "stream",
     "text": [
      "Setting `pad_token_id` to `eos_token_id`:50256 for open-end generation.\n"
     ]
    },
    {
     "name": "stdout",
     "output_type": "stream",
     "text": [
      "Že sama delitev ribičev v Pravilniku na športne in rekreacijske se mi zdi neumestna.\n",
      "Že samo delitev v pravilniku o športnih in  rekreativnih tekmovanjih se mi zdi optimalna.\n",
      "\n"
     ]
    },
    {
     "name": "stderr",
     "output_type": "stream",
     "text": [
      "Setting `pad_token_id` to `eos_token_id`:50256 for open-end generation.\n"
     ]
    },
    {
     "name": "stdout",
     "output_type": "stream",
     "text": [
      "Izvoznice nafte bodo načrpale samo 24 milijonov sodov na dan\n",
      "Strokovnjaki ocenjujejo, da se bo z operacijo nafte zbralo le še 40 milijonov kladov na dan\n",
      "\n"
     ]
    },
    {
     "name": "stderr",
     "output_type": "stream",
     "text": [
      "Setting `pad_token_id` to `eos_token_id`:50256 for open-end generation.\n"
     ]
    },
    {
     "name": "stdout",
     "output_type": "stream",
     "text": [
      "Šlo je, recimo, za to, ali boš samo pejorativno pisal o reakcionarnem pojavu ali boš v njem videl tudi kaj pozitivnega.\n",
      "Šlo je za vse, z izjemo, da bom zraven, ko bom v vlogi tekača nosila slušalko.\n",
      "\n"
     ]
    },
    {
     "name": "stderr",
     "output_type": "stream",
     "text": [
      "Setting `pad_token_id` to `eos_token_id`:50256 for open-end generation.\n"
     ]
    },
    {
     "name": "stdout",
     "output_type": "stream",
     "text": [
      "To, da megljenje vizirja izgine s hitrostjo, ni res.\n",
      "Ali da premalo zračna svežina uidejo, ali ni res?\n",
      "\n"
     ]
    },
    {
     "name": "stderr",
     "output_type": "stream",
     "text": [
      "Setting `pad_token_id` to `eos_token_id`:50256 for open-end generation.\n"
     ]
    },
    {
     "name": "stdout",
     "output_type": "stream",
     "text": [
      "Saj si oba tudi že končno zaslužita srečo.\n",
      "Si bosta pa oba zdaj lahko priborila srečo tudi z drugim.\n",
      "\n"
     ]
    },
    {
     "name": "stderr",
     "output_type": "stream",
     "text": [
      "Setting `pad_token_id` to `eos_token_id`:50256 for open-end generation.\n"
     ]
    },
    {
     "name": "stdout",
     "output_type": "stream",
     "text": [
      "Neporažene ekipe na prvenstvu so le še ZDA, Litva in Turčija.\n",
      "Ne glede na to, kakšen uspeh je dosegla v prvenstvuHlače, samo da so njegove igre včasih tudi brezplačne.\n",
      "\n"
     ]
    },
    {
     "name": "stderr",
     "output_type": "stream",
     "text": [
      "Setting `pad_token_id` to `eos_token_id`:50256 for open-end generation.\n"
     ]
    },
    {
     "name": "stdout",
     "output_type": "stream",
     "text": [
      "Srednja vrednost teh dveh ocen je 89 evrov, kar je le šest odstotkov več od včerajšnjega enotnega tečaja delnic Pivovarne Laško.\n",
      "Regionalna vrednost teh sredstev znaša kar 89 evrov, kar je za samo šest odstotkov več kot predlani.\n",
      "\n"
     ]
    },
    {
     "name": "stderr",
     "output_type": "stream",
     "text": [
      "Setting `pad_token_id` to `eos_token_id`:50256 for open-end generation.\n"
     ]
    },
    {
     "name": "stdout",
     "output_type": "stream",
     "text": [
      "V osnovi gre torej za eksistencialna vprašanja...\n",
      "V osnovi gre za vprašanje eksistencialnih vprašanj...\n",
      "\n"
     ]
    },
    {
     "name": "stderr",
     "output_type": "stream",
     "text": [
      "Setting `pad_token_id` to `eos_token_id`:50256 for open-end generation.\n"
     ]
    },
    {
     "name": "stdout",
     "output_type": "stream",
     "text": [
      "Svoje šolanje bodo zaključili na Ptuju, v tem majhnem, komornem in zelo specifičnem gledališču.\n",
      "Svojo šolanje bodo nadaljevali na Ptuju, v tem malem, komornem in zelo specifičnem smislu gledališča.\n",
      "\n"
     ]
    },
    {
     "name": "stderr",
     "output_type": "stream",
     "text": [
      "Setting `pad_token_id` to `eos_token_id`:50256 for open-end generation.\n"
     ]
    },
    {
     "name": "stdout",
     "output_type": "stream",
     "text": [
      "Linda skromno pravi: Storila sem tisto, kar bi storila vsaka sestra.\n",
      "predebelo pravi: Jaz sem tiste, ki bi mi podala, samo po sebi vzela vsega, kar bi mi dali vsi\n",
      "\n"
     ]
    },
    {
     "name": "stderr",
     "output_type": "stream",
     "text": [
      "Setting `pad_token_id` to `eos_token_id`:50256 for open-end generation.\n"
     ]
    },
    {
     "name": "stdout",
     "output_type": "stream",
     "text": [
      "Ker na njem ne bo nič.\n",
      "Ker ne bo nič, bodo domačini in gostje na njem ne bo nič.\n",
      "\n"
     ]
    },
    {
     "name": "stderr",
     "output_type": "stream",
     "text": [
      "Setting `pad_token_id` to `eos_token_id`:50256 for open-end generation.\n"
     ]
    },
    {
     "name": "stdout",
     "output_type": "stream",
     "text": [
      "Cene seveda niso navedene, vendar ob zanimanju zanje izveš, da so zelo pretirane za normalnega smrtnika.\n",
      "Cene se seveda niso navedene, a z zanimanjem o njih veš, da so z vidika uporabnosti manj zanimiva ali celo nezanimiva.\n",
      "\n"
     ]
    },
    {
     "name": "stderr",
     "output_type": "stream",
     "text": [
      "Setting `pad_token_id` to `eos_token_id`:50256 for open-end generation.\n"
     ]
    },
    {
     "name": "stdout",
     "output_type": "stream",
     "text": [
      "V imenu predlagateljev je dopolnilo pojasnjeval poslanec Vili Trofenik.\n",
      "V imenu predlagatelja je dopolnil poslanec Vili Rezman.\n",
      "\n"
     ]
    },
    {
     "name": "stderr",
     "output_type": "stream",
     "text": [
      "Setting `pad_token_id` to `eos_token_id`:50256 for open-end generation.\n"
     ]
    },
    {
     "name": "stdout",
     "output_type": "stream",
     "text": [
      "Finci so brez težav ugnali Latvijo.\n",
      "Ugnali so Švicarje in se z množico navdušenih navijačev uvrstili na spektakularni konec tedna v Pragi.\n",
      "\n"
     ]
    },
    {
     "name": "stderr",
     "output_type": "stream",
     "text": [
      "Setting `pad_token_id` to `eos_token_id`:50256 for open-end generation.\n"
     ]
    },
    {
     "name": "stdout",
     "output_type": "stream",
     "text": [
      "Za kaj več v Evropi ne le, da primanjkuje moči, ampak tudi prave volje ni.\n",
      "Kajti za kaj več v Evropi ne samo, da manjka en glas, dve roki pa itak nimate več.\n",
      "\n"
     ]
    },
    {
     "name": "stderr",
     "output_type": "stream",
     "text": [
      "Setting `pad_token_id` to `eos_token_id`:50256 for open-end generation.\n"
     ]
    },
    {
     "name": "stdout",
     "output_type": "stream",
     "text": [
      "Je to razumevajoč nasmešek najboljše prijateljice?\n",
      "Je že to kdo v tej državi kdaj gledalec ali pol ure?\n",
      "\n"
     ]
    },
    {
     "name": "stderr",
     "output_type": "stream",
     "text": [
      "Setting `pad_token_id` to `eos_token_id`:50256 for open-end generation.\n"
     ]
    },
    {
     "name": "stdout",
     "output_type": "stream",
     "text": [
      "Komisija je dobila tudi zahtevo, naj prepove uporabo električnih harpun, ki jih japonski kitolovci uporabljajo pri sekundarnem ubijanju kitov.\n",
      "Komisija je tudi dobila zahtevo, naj uporabo  električno-belih vragov prepreči, in sicer z namenom, da bi zaustavili njeno uporabo.\n",
      "\n"
     ]
    },
    {
     "name": "stderr",
     "output_type": "stream",
     "text": [
      "Setting `pad_token_id` to `eos_token_id`:50256 for open-end generation.\n"
     ]
    },
    {
     "name": "stdout",
     "output_type": "stream",
     "text": [
      "Turistično društvo Naklo je v petek povabilo v dom Janeza Filipiča dobitnike letošnjih priznanj za lepo urejene domove.\n",
      "V Turističnem društvu Semič se je v petek zbralo Društvo za turizem Kranj - združenje za lepo urejene domove.\n",
      "\n"
     ]
    },
    {
     "name": "stderr",
     "output_type": "stream",
     "text": [
      "Setting `pad_token_id` to `eos_token_id`:50256 for open-end generation.\n"
     ]
    },
    {
     "name": "stdout",
     "output_type": "stream",
     "text": [
      "Hkrati naj občina takoj začne s postopki za morebitno gradnjo novega vrtca.\n",
      "Hkrati pa naj občina takoj zaupata v postopek za gradnjo otroškega vrtca.\n",
      "\n"
     ]
    },
    {
     "name": "stderr",
     "output_type": "stream",
     "text": [
      "Setting `pad_token_id` to `eos_token_id`:50256 for open-end generation.\n"
     ]
    },
    {
     "name": "stdout",
     "output_type": "stream",
     "text": [
      "Finec zmagovalec tudi v teku na 50 km klasično - Srebro senzacionalnemu Estoncu Veerpaluju - Botvinov pritekel Avstriji bron\n",
      "Fatimidsko širjenje na Vzhod so zaustavili tudi vi - Nemec Sebastian Vettel - Aleksander Radosavljević (trener), ki je pivovarje leta 2004 popeljal do naslova svetovnega prvaka.\n",
      "\n"
     ]
    },
    {
     "name": "stderr",
     "output_type": "stream",
     "text": [
      "Setting `pad_token_id` to `eos_token_id`:50256 for open-end generation.\n"
     ]
    },
    {
     "name": "stdout",
     "output_type": "stream",
     "text": [
      "Leta so bežala in z njim tudi moja mladost.\n",
      "Leta so ti delali napake, zato tudi moj trud ni poplačan.\n",
      "\n"
     ]
    },
    {
     "name": "stderr",
     "output_type": "stream",
     "text": [
      "Setting `pad_token_id` to `eos_token_id`:50256 for open-end generation.\n"
     ]
    },
    {
     "name": "stdout",
     "output_type": "stream",
     "text": [
      "Upokojenci so se izkazali tudi v igranju taroka.\n",
      "Upokojenci so se tudi predstavili v ta namen.\n",
      "\n"
     ]
    },
    {
     "name": "stderr",
     "output_type": "stream",
     "text": [
      "Setting `pad_token_id` to `eos_token_id`:50256 for open-end generation.\n"
     ]
    },
    {
     "name": "stdout",
     "output_type": "stream",
     "text": [
      "Nebo Nebo nam podarilo je dež, padavine letijo po zraku. ...\n",
      "Ni čudno, da nam je zmanjkalo prostora in še snega je bilo treba....\n",
      "\n"
     ]
    },
    {
     "name": "stderr",
     "output_type": "stream",
     "text": [
      "Setting `pad_token_id` to `eos_token_id`:50256 for open-end generation.\n"
     ]
    },
    {
     "name": "stdout",
     "output_type": "stream",
     "text": [
      "Stražarji so me dvignili s tal in me stlačili v avto.\n",
      "Stražarji so me dvignili s tal, da bi me pobralo s seboj.\n",
      "\n"
     ]
    },
    {
     "name": "stderr",
     "output_type": "stream",
     "text": [
      "Setting `pad_token_id` to `eos_token_id`:50256 for open-end generation.\n"
     ]
    },
    {
     "name": "stdout",
     "output_type": "stream",
     "text": [
      "Dietrich - Naglič, Ladje - morja - pristanišča, Ljubljana, 1967.\n",
      "Diemerkurje - Ivan Skočir, Gale - ga je pred kratkim ustanovil v Ljubljani.\n",
      "\n"
     ]
    },
    {
     "name": "stderr",
     "output_type": "stream",
     "text": [
      "Setting `pad_token_id` to `eos_token_id`:50256 for open-end generation.\n"
     ]
    },
    {
     "name": "stdout",
     "output_type": "stream",
     "text": [
      "Navdušeni smo nad sodelovanjem s Patrickom Dempseyjem.\n",
      "Navdušeni smo nad sodelovanjem s poročnim cvetjem.\n",
      "\n"
     ]
    },
    {
     "name": "stderr",
     "output_type": "stream",
     "text": [
      "Setting `pad_token_id` to `eos_token_id`:50256 for open-end generation.\n"
     ]
    },
    {
     "name": "stdout",
     "output_type": "stream",
     "text": [
      "Za svetovno prvenstvo na Japonskem smo imeli visoka pričakovanja, ker je lansko evropsko prvenstvo napovedalo lepše čase za slovensko reprezentančno košarko.\n",
      "Ves čas sem pričakoval, da bodo bila njegova pričakovanja glede na lanskoletno SP v ZDA visoka, a jih je zaradi tega tudi načrtoval.\n",
      "\n"
     ]
    },
    {
     "name": "stderr",
     "output_type": "stream",
     "text": [
      "Setting `pad_token_id` to `eos_token_id`:50256 for open-end generation.\n"
     ]
    },
    {
     "name": "stdout",
     "output_type": "stream",
     "text": [
      "Na sodišču se izkaže, da je Sam sam sebi najslabša obramba.\n",
      "Na sodišču se pokazala, da je sam sebi najbolj slabo obranil.\n",
      "\n"
     ]
    },
    {
     "name": "stderr",
     "output_type": "stream",
     "text": [
      "Setting `pad_token_id` to `eos_token_id`:50256 for open-end generation.\n"
     ]
    },
    {
     "name": "stdout",
     "output_type": "stream",
     "text": [
      "Uprava v Gorici bo zaprta od 15. do 19. avgusta.\n",
      "Uprava v Gorici bo ob 15. uri izpred zapora na sodišču.\n",
      "\n"
     ]
    },
    {
     "name": "stderr",
     "output_type": "stream",
     "text": [
      "Setting `pad_token_id` to `eos_token_id`:50256 for open-end generation.\n"
     ]
    },
    {
     "name": "stdout",
     "output_type": "stream",
     "text": [
      "Italija - Bergamo, Gran Fondo Internazionale Felice Gimondi\n",
      "Italija - Centro Stampa delle Venezie Soc, a.r.l., Via Austria, 19/B - 35129 Padova PD,\n",
      "\n"
     ]
    },
    {
     "name": "stderr",
     "output_type": "stream",
     "text": [
      "Setting `pad_token_id` to `eos_token_id`:50256 for open-end generation.\n"
     ]
    },
    {
     "name": "stdout",
     "output_type": "stream",
     "text": [
      "Sedemmetrovke: Cimos Koper 6 (4), Gorenje 5 (4).\n",
      "Sedemmetrovke: Cimos 7 (4), Prevent -.\n",
      "\n"
     ]
    },
    {
     "name": "stderr",
     "output_type": "stream",
     "text": [
      "Setting `pad_token_id` to `eos_token_id`:50256 for open-end generation.\n"
     ]
    },
    {
     "name": "stdout",
     "output_type": "stream",
     "text": [
      "Laura se mu je predajala, ne da bi se zavedala, kaj sploh počne.\n",
      "Laura je popolnoma ponorela, ko je pomislila na to, kaj počne.\n",
      "\n"
     ]
    },
    {
     "name": "stderr",
     "output_type": "stream",
     "text": [
      "Setting `pad_token_id` to `eos_token_id`:50256 for open-end generation.\n"
     ]
    },
    {
     "name": "stdout",
     "output_type": "stream",
     "text": [
      "Korektor naj bo za kak ton svetlejši od tona kože; nikoli ne kupite pretemnega.\n",
      "Korekt naj bo za kakšna keta v kakem tonu ali pa kakšna keta v kakem telesu; nikoli ne kupite preške.\n",
      "\n"
     ]
    },
    {
     "name": "stderr",
     "output_type": "stream",
     "text": [
      "Setting `pad_token_id` to `eos_token_id`:50256 for open-end generation.\n"
     ]
    },
    {
     "name": "stdout",
     "output_type": "stream",
     "text": [
      "Staro stanovanje v centru mesta lahko spremenimo v romantično graščino, pusto hišo v prijeten domek.\n",
      "Staro stanovanje v centru mesta se lahko spremenimo v romantično vas, v romantično hišo v prijeten domek.\n",
      "\n"
     ]
    },
    {
     "name": "stderr",
     "output_type": "stream",
     "text": [
      "Setting `pad_token_id` to `eos_token_id`:50256 for open-end generation.\n"
     ]
    },
    {
     "name": "stdout",
     "output_type": "stream",
     "text": [
      "Torej, ne gre za avtosugestijio, pač pa za heterosugestijio.\n",
      "Torej je moj jok podoben njenemu, vendar pa ni RES.\n",
      "\n"
     ]
    },
    {
     "name": "stderr",
     "output_type": "stream",
     "text": [
      "Setting `pad_token_id` to `eos_token_id`:50256 for open-end generation.\n"
     ]
    },
    {
     "name": "stdout",
     "output_type": "stream",
     "text": [
      "Od izbruha vojne na Hrvaškem in v Bosni in Hercegovini so evropske države najprej priskrbele beguncem začasno zatočišče.\n",
      "Ustanovitelj reda je sv. Frančišek Asiški, ki se je rodil v Hrvaški in BiH pred nekaj leti.\n",
      "\n"
     ]
    },
    {
     "name": "stderr",
     "output_type": "stream",
     "text": [
      "Setting `pad_token_id` to `eos_token_id`:50256 for open-end generation.\n"
     ]
    },
    {
     "name": "stdout",
     "output_type": "stream",
     "text": [
      "Nič nismo slišali recimo o tem, ali se delovni absentizem v javnem sektorju povečuje ali zmanjšuje.\n",
      "Nič nismo slišali o tem, ali se delovna razmerja v javnem sektorju povečujejo ali ne.\n",
      "\n"
     ]
    },
    {
     "name": "stderr",
     "output_type": "stream",
     "text": [
      "Setting `pad_token_id` to `eos_token_id`:50256 for open-end generation.\n"
     ]
    },
    {
     "name": "stdout",
     "output_type": "stream",
     "text": [
      "To velja tako za medicino kot za novinarstvo, odvetnike in bankirje, inženirje in zobozdravnike.\n",
      "To velja tako v disciplinah medicine, čeprav se ti vse izide tako, kot se je izšlo pri filmu.\n",
      "\n"
     ]
    },
    {
     "name": "stderr",
     "output_type": "stream",
     "text": [
      "Setting `pad_token_id` to `eos_token_id`:50256 for open-end generation.\n"
     ]
    },
    {
     "name": "stdout",
     "output_type": "stream",
     "text": [
      "V moški četverki v zadnji predaji Tyson Gay ni dobil palice oziroma mu je padla iz rok.\n",
      "V moški konkurenci v moški konkurenci je zmagal France Slavko iz Celja, drugi je bil Makovec Dušan SD Milčnik Maribor in tretji Slavko Ivanovič Ptuj.\n",
      "\n"
     ]
    },
    {
     "name": "stderr",
     "output_type": "stream",
     "text": [
      "Setting `pad_token_id` to `eos_token_id`:50256 for open-end generation.\n"
     ]
    },
    {
     "name": "stdout",
     "output_type": "stream",
     "text": [
      "Na letošnjem 13. svetovnem prvenstvu bo nastopilo prek 8.000 veteranov in veterank iz več kot 120 držav sveta.\n",
      "Na letošnjem 13. svetovnem prvenstvu bo nastopilo okoli 8.000 veteranov in tekmovalk iz več kot 120 držav sveta.\n",
      "\n"
     ]
    },
    {
     "name": "stderr",
     "output_type": "stream",
     "text": [
      "Setting `pad_token_id` to `eos_token_id`:50256 for open-end generation.\n"
     ]
    },
    {
     "name": "stdout",
     "output_type": "stream",
     "text": [
      "Ob takšnem pristopu in pripravljenosti lahko igra še 10 let.\n",
      "Ob takem pristopu in visoki ravni tehničnega upravljanja z naprednimi računalniškimi orodji lahko igra še 10 let.\n",
      "\n"
     ]
    },
    {
     "name": "stderr",
     "output_type": "stream",
     "text": [
      "Setting `pad_token_id` to `eos_token_id`:50256 for open-end generation.\n"
     ]
    },
    {
     "name": "stdout",
     "output_type": "stream",
     "text": [
      "Za preživetje umetnosti je potrebno pravilno ravnovesje obeh polov.\n",
      "Za preživetje umetnosti je potrebno ustrezno ukrepati, kar velja za preživetje na obeh področjih.\n",
      "\n"
     ]
    },
    {
     "name": "stderr",
     "output_type": "stream",
     "text": [
      "Setting `pad_token_id` to `eos_token_id`:50256 for open-end generation.\n"
     ]
    },
    {
     "name": "stdout",
     "output_type": "stream",
     "text": [
      "To sem občutil že na lastni koži.\n",
      "V praksi sem že, ko sem ob trčenju dveh cistern steklo na svojo kožo.\n",
      "\n"
     ]
    },
    {
     "name": "stderr",
     "output_type": "stream",
     "text": [
      "Setting `pad_token_id` to `eos_token_id`:50256 for open-end generation.\n"
     ]
    },
    {
     "name": "stdout",
     "output_type": "stream",
     "text": [
      "Mesto, ki ga krasijo imenitni spomeniki preteklosti, ni več umazano, drzno se postavlja ob bok tudi modnim središčem na starem kontinentu\n",
      "V mestu se stikata dve imenitni središči preteklosti, to je mesto, ki ga prav zdaj sestavlja imenitni spomeniki preteklosti in na njem potekajo številni kulturni projekti.\n",
      "\n"
     ]
    },
    {
     "name": "stderr",
     "output_type": "stream",
     "text": [
      "Setting `pad_token_id` to `eos_token_id`:50256 for open-end generation.\n"
     ]
    },
    {
     "name": "stdout",
     "output_type": "stream",
     "text": [
      "V tovarni na Hrvaškem bo sprva dobilo delo 250 ljudi, ob koncu leta 2002 pa naj bi jih bilo zaposlenih 400.\n",
      "V pogovorih na Hrvaškem bo sprva dobila delo 250 ljudi, okoli 100 pa naj bi jih bilo zaposlenih.\n",
      "\n"
     ]
    },
    {
     "name": "stderr",
     "output_type": "stream",
     "text": [
      "Setting `pad_token_id` to `eos_token_id`:50256 for open-end generation.\n"
     ]
    },
    {
     "name": "stdout",
     "output_type": "stream",
     "text": [
      "Menim, da smo navajeni, da vidimo podobne stvari skupaj.\n",
      "Mislim, da smo se kar dobro naučili, kako skupaj gledamo.\n",
      "\n"
     ]
    },
    {
     "name": "stderr",
     "output_type": "stream",
     "text": [
      "Setting `pad_token_id` to `eos_token_id`:50256 for open-end generation.\n"
     ]
    },
    {
     "name": "stdout",
     "output_type": "stream",
     "text": [
      "Ravno obratno ima Rudar tudi v pokalu visoke ambicije.\n",
      "Tako tudi v Evropi deluje Rudar v ligi visokih ambicij.\n",
      "\n"
     ]
    },
    {
     "name": "stderr",
     "output_type": "stream",
     "text": [
      "Setting `pad_token_id` to `eos_token_id`:50256 for open-end generation.\n"
     ]
    },
    {
     "name": "stdout",
     "output_type": "stream",
     "text": [
      "Želim si spoznati čim več novih prijateljev in ob tem ohraniti tudi stare.\n",
      "Želim si, da bi mi bralci revije Jana pomagali pri iskanju novih prijateljev in pri ostajanju ob stara.\n",
      "\n"
     ]
    },
    {
     "name": "stderr",
     "output_type": "stream",
     "text": [
      "Setting `pad_token_id` to `eos_token_id`:50256 for open-end generation.\n"
     ]
    },
    {
     "name": "stdout",
     "output_type": "stream",
     "text": [
      "Sploh pa ni jasno, zakaj male države sploh kupujejo orožje, razen za krotitev lastnega naroda.\n",
      "Vendar pa tudi ni jasno, zakaj naposled k sreči prodajajo orožje vse bolj za okras lastnega naroda.\n",
      "\n"
     ]
    },
    {
     "name": "stderr",
     "output_type": "stream",
     "text": [
      "Setting `pad_token_id` to `eos_token_id`:50256 for open-end generation.\n"
     ]
    },
    {
     "name": "stdout",
     "output_type": "stream",
     "text": [
      "Primož Peterka je blestel v najstniških letih, potem pa ni nikoli več našel vrhunstva.\n",
      "Prireditev, ki je jo organiziral sam, je blestela v prezgodaj naZato.\n",
      "\n"
     ]
    },
    {
     "name": "stderr",
     "output_type": "stream",
     "text": [
      "Setting `pad_token_id` to `eos_token_id`:50256 for open-end generation.\n"
     ]
    },
    {
     "name": "stdout",
     "output_type": "stream",
     "text": [
      "Vendar pa podrobnejša analiza energetske panoge kaže na dokaj kompleksne razmere, ki narekujejo primerno strategijo energetskih družb.\n",
      "Vendar pa je izbira same prakse, dolžine in vrste, vedno odvisna od narave problema.\n",
      "\n"
     ]
    },
    {
     "name": "stderr",
     "output_type": "stream",
     "text": [
      "Setting `pad_token_id` to `eos_token_id`:50256 for open-end generation.\n"
     ]
    },
    {
     "name": "stdout",
     "output_type": "stream",
     "text": [
      "Zdaj je revše, tajkunček, ki je preganjal tajkune.\n",
      "Zdaj je ni več, tisti iz serije je parne-Kaka in še koga drugega.\n",
      "\n"
     ]
    },
    {
     "name": "stderr",
     "output_type": "stream",
     "text": [
      "Setting `pad_token_id` to `eos_token_id`:50256 for open-end generation.\n"
     ]
    },
    {
     "name": "stdout",
     "output_type": "stream",
     "text": [
      "SOBO s souporabo kuhinje in kopalnice oddam urejeni osebi.\n",
      "SOBO s souporabo kuhinje in kopalnice  oddam v najem urejeni osebi.\n",
      "\n"
     ]
    },
    {
     "name": "stderr",
     "output_type": "stream",
     "text": [
      "Setting `pad_token_id` to `eos_token_id`:50256 for open-end generation.\n"
     ]
    },
    {
     "name": "stdout",
     "output_type": "stream",
     "text": [
      "Zanimivosti iz moje šolske torbe DA\n",
      "Zanimivo je, da da da moja učiteljica s težavo iz mojega šolstva ne misli name\n",
      "\n"
     ]
    },
    {
     "name": "stderr",
     "output_type": "stream",
     "text": [
      "Setting `pad_token_id` to `eos_token_id`:50256 for open-end generation.\n"
     ]
    },
    {
     "name": "stdout",
     "output_type": "stream",
     "text": [
      "Jaz bi rekel, da temu zakonu lahko rečemo Zakon o prostorskem projektiranju, po urbanističnem projektiranju.\n",
      "Jaz bi pa rekel, da lahko rečem, da mu pravimo zakon o energetskih tokovih.\n",
      "\n"
     ]
    },
    {
     "name": "stderr",
     "output_type": "stream",
     "text": [
      "Setting `pad_token_id` to `eos_token_id`:50256 for open-end generation.\n"
     ]
    },
    {
     "name": "stdout",
     "output_type": "stream",
     "text": [
      "Tako imajo reke po daljših padavinah res barvo kave z mlekom in odbijajoč videz.\n",
      "Tako da imajo reke po dolgih letih res barvo kave z mlekom in to z mlekom.\n",
      "\n"
     ]
    },
    {
     "name": "stderr",
     "output_type": "stream",
     "text": [
      "Setting `pad_token_id` to `eos_token_id`:50256 for open-end generation.\n"
     ]
    },
    {
     "name": "stdout",
     "output_type": "stream",
     "text": [
      "Zaradi hudih poškodb se zdravi v brežiški bolnišnici.\n",
      "Zaradi hudih poškodb so ga z zdravljenja v brežiški bolnišnici poslali v bolnišnico.\n",
      "\n"
     ]
    },
    {
     "name": "stderr",
     "output_type": "stream",
     "text": [
      "Setting `pad_token_id` to `eos_token_id`:50256 for open-end generation.\n"
     ]
    },
    {
     "name": "stdout",
     "output_type": "stream",
     "text": [
      "Videoigre vedno privlačijo dvakrat žgano rođevino in teh je v Prekmurju kar precej.\n",
      "Videoigre vedno pritegnejo še enkrat toliko žgano roŽnijo in je prav v Prekmurju.\n",
      "\n"
     ]
    },
    {
     "name": "stderr",
     "output_type": "stream",
     "text": [
      "Setting `pad_token_id` to `eos_token_id`:50256 for open-end generation.\n"
     ]
    },
    {
     "name": "stdout",
     "output_type": "stream",
     "text": [
      "Ta proces socialnega dogovarjanja je bil dolg.\n",
      "Tisti, ki je bil začetek tega postopka, je bil dolg Stigma.\n",
      "\n"
     ]
    },
    {
     "name": "stderr",
     "output_type": "stream",
     "text": [
      "Setting `pad_token_id` to `eos_token_id`:50256 for open-end generation.\n"
     ]
    },
    {
     "name": "stdout",
     "output_type": "stream",
     "text": [
      "Pred leti je SSG premoglo tudi gledališko in baletno šolo.\n",
      "Pred leti je tako prepešačila tudi znanje tujih jezikov.\n",
      "\n"
     ]
    },
    {
     "name": "stderr",
     "output_type": "stream",
     "text": [
      "Setting `pad_token_id` to `eos_token_id`:50256 for open-end generation.\n"
     ]
    },
    {
     "name": "stdout",
     "output_type": "stream",
     "text": [
      "Mene pa zanima, kako se odpre nov blog.\n",
      "Mene pa zanima, kako se bo novi blog odzval na to vprašanje.\n",
      "\n"
     ]
    },
    {
     "name": "stderr",
     "output_type": "stream",
     "text": [
      "Setting `pad_token_id` to `eos_token_id`:50256 for open-end generation.\n"
     ]
    },
    {
     "name": "stdout",
     "output_type": "stream",
     "text": [
      "Tel.: (040) 828 855, (040) 747 874\n",
      "Tel.: 031/612 541 od 9. ure dalje.\n",
      "\n"
     ]
    },
    {
     "name": "stderr",
     "output_type": "stream",
     "text": [
      "Setting `pad_token_id` to `eos_token_id`:50256 for open-end generation.\n"
     ]
    },
    {
     "name": "stdout",
     "output_type": "stream",
     "text": [
      "V EU ga morajo opravljati poklicni vozniki, vozniki začetniki itd.\n",
      "V njem morajo biti vozniki, mi izvajalci vozniških storitev, voznikom naj bi sodelovali pri izbiri idealne sedmerice.\n",
      "\n"
     ]
    },
    {
     "name": "stderr",
     "output_type": "stream",
     "text": [
      "Setting `pad_token_id` to `eos_token_id`:50256 for open-end generation.\n"
     ]
    },
    {
     "name": "stdout",
     "output_type": "stream",
     "text": [
      "Očitno je bilo, da v nobenem primeru niso pripravljeni nadaljevati sodelovanja z mozirsko Komunalo.\n",
      "Očitno je bilo, da v nobenem primeru niso pripravljeni nadaljevati z izvajanjem delnih nalog z namenom, da bi zaustavili začetek snemanja.\n",
      "\n"
     ]
    },
    {
     "name": "stderr",
     "output_type": "stream",
     "text": [
      "Setting `pad_token_id` to `eos_token_id`:50256 for open-end generation.\n"
     ]
    },
    {
     "name": "stdout",
     "output_type": "stream",
     "text": [
      "Bomo torej kdaj iznašli zdravilo, ki bo epilepsijo preprečilo?\n",
      "Bomo torej kdaj našli zdravilo, ki bo zaigralo v prid zaigralo?\n",
      "\n"
     ]
    },
    {
     "name": "stderr",
     "output_type": "stream",
     "text": [
      "Setting `pad_token_id` to `eos_token_id`:50256 for open-end generation.\n"
     ]
    },
    {
     "name": "stdout",
     "output_type": "stream",
     "text": [
      "Zadnja leta je bila ena mojih boljših vlog lik dedka v Gospe poslančevi.\n",
      "Zadnja leta je bila ena najboljših vlog moja povprečna vGospah poslančeva.\n",
      "\n"
     ]
    },
    {
     "name": "stderr",
     "output_type": "stream",
     "text": [
      "Setting `pad_token_id` to `eos_token_id`:50256 for open-end generation.\n"
     ]
    },
    {
     "name": "stdout",
     "output_type": "stream",
     "text": [
      "S tem je amandma k naslovu seveda postal brezpredmeten.\n",
      "S tem je amandma k naslovu seveda postal nezamegljenen.\n",
      "\n"
     ]
    },
    {
     "name": "stderr",
     "output_type": "stream",
     "text": [
      "Setting `pad_token_id` to `eos_token_id`:50256 for open-end generation.\n"
     ]
    },
    {
     "name": "stdout",
     "output_type": "stream",
     "text": [
      "Vse, kar bo temu sledilo, pa bo omejeno.\n",
      "Vse, kar sledi, je torej omejeno z ustavnimi zakonskimi določbami.\n",
      "\n"
     ]
    },
    {
     "name": "stderr",
     "output_type": "stream",
     "text": [
      "Setting `pad_token_id` to `eos_token_id`:50256 for open-end generation.\n"
     ]
    },
    {
     "name": "stdout",
     "output_type": "stream",
     "text": [
      "Rak prostate navadno napreduje zelo počasi in ne povzroča težav, dokler ni že napredoval.\n",
      "Rak na prostati pa je navadno zelo počasi in ne povzroča težav, dokler ga ne začneš pospešeno rasti.\n",
      "\n"
     ]
    },
    {
     "name": "stderr",
     "output_type": "stream",
     "text": [
      "Setting `pad_token_id` to `eos_token_id`:50256 for open-end generation.\n"
     ]
    },
    {
     "name": "stdout",
     "output_type": "stream",
     "text": [
      "Obdobje žalosti tudi ni dolgo, razen če se prelevi v depresijo.\n",
      "Obdobje pa žalost ne traja od nikoder, razen če se vpleteni v kako depresijo.\n",
      "\n"
     ]
    },
    {
     "name": "stderr",
     "output_type": "stream",
     "text": [
      "Setting `pad_token_id` to `eos_token_id`:50256 for open-end generation.\n"
     ]
    },
    {
     "name": "stdout",
     "output_type": "stream",
     "text": [
      "Bolan na duši in telesu se sodobni človek utaplja v vulgarnosti, nasilju, nemorali, pobijanju, goljufijah ...\n",
      "Bolan na dušo in te dni živi v kozmopolitosti, nasilju, nepotizmu, prevari...\n",
      "\n"
     ]
    },
    {
     "name": "stderr",
     "output_type": "stream",
     "text": [
      "Setting `pad_token_id` to `eos_token_id`:50256 for open-end generation.\n"
     ]
    },
    {
     "name": "stdout",
     "output_type": "stream",
     "text": [
      "Mladi Triglavani so po vodstvu gostov po prvem polčasu v nadaljevanju prikazali bolj učinkovito igro in zasluženo zmagali.\n",
      "Mladi gorenjski napadalci so po zaslugi razpoloženih gostov bili v prvem polčasu konkretnejši in zasluženo zmagali.\n",
      "\n"
     ]
    },
    {
     "name": "stderr",
     "output_type": "stream",
     "text": [
      "Setting `pad_token_id` to `eos_token_id`:50256 for open-end generation.\n"
     ]
    },
    {
     "name": "stdout",
     "output_type": "stream",
     "text": [
      "Vi vplivate na druge ljudi, oni na vas.\n",
      "Vi vplivate na druge, oni sami pa vam oblikujemo svoje mnenje.\n",
      "\n",
      "Skrbela je za staro slepo prijateljico, ji kuhala in brala knjige.\n",
      "Skrbela je za starokopitno ženičko iz sebe, jo sadila in brala knjige.\n",
      "\n"
     ]
    }
   ],
   "source": [
    "#stevec=0\n",
    "#for i in stavkiZaPara:\n",
    "#    print(stavkiZaPara[stevec])\n",
    "#    print(clean_paraphrased(i))\n",
    "#    print()\n",
    "#    stevec += 1\n",
    "    \n",
    "for i in range(len(testniStavki)):\n",
    "    res = clean_paraphrased(testniStavki[i])\n",
    "    print(testniStavki[i])\n",
    "    print(res)\n",
    "    print()\n",
    "    celotnaTabela2[0][i] = testniStavki[i]\n",
    "    celotnaTabela2[1][i] = res\n",
    "    "
   ]
  },
  {
   "cell_type": "code",
   "execution_count": 9,
   "id": "e4124b1d-9290-44d4-bcf6-f9127049d52c",
   "metadata": {
    "tags": []
   },
   "outputs": [],
   "source": [
    "# Koda za shranjevanje v Excel\n",
    "# shranim še tabelo prevedenih\n",
    "skupna = pd.DataFrame(np.column_stack([celotnaTabela2]), \n",
    "                               columns=[\"Original\",\"Parafraza\"])\n",
    "\n",
    "skupna.to_excel(potDoModela+\".xlsx\")"
   ]
  },
  {
   "cell_type": "code",
   "execution_count": null,
   "id": "709c2a80-b5cc-465f-8285-50ca811c3581",
   "metadata": {},
   "outputs": [],
   "source": []
  }
 ],
 "metadata": {
  "kernelspec": {
   "display_name": "Python 3 (ipykernel)",
   "language": "python",
   "name": "python3"
  },
  "language_info": {
   "codemirror_mode": {
    "name": "ipython",
    "version": 3
   },
   "file_extension": ".py",
   "mimetype": "text/x-python",
   "name": "python",
   "nbconvert_exporter": "python",
   "pygments_lexer": "ipython3",
   "version": "3.10.10"
  }
 },
 "nbformat": 4,
 "nbformat_minor": 5
}
