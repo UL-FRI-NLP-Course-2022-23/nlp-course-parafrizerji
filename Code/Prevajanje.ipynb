{
 "cells": [
  {
   "cell_type": "markdown",
   "id": "7e399dc0-1168-4fad-a939-ac151ae4ec17",
   "metadata": {
    "tags": []
   },
   "source": [
    "Program, ki iz datoteke neprevedeniSloStavki.npy prebere stavke, potem pa naključno izibra določeno število stavkov in jih prevaja."
   ]
  },
  {
   "cell_type": "code",
   "execution_count": 2,
   "id": "39d58cb9-94c9-497b-b507-b2a7e371681b",
   "metadata": {
    "tags": []
   },
   "outputs": [],
   "source": [
    "import datetime\n",
    "import numpy as np\n",
    "import random\n",
    "import requests\n",
    "from requests.structures import CaseInsensitiveDict\n",
    "import deepl\n",
    "import datetime\n",
    "import numpy as np\n",
    "\n",
    "import googletrans\n",
    "from googletrans import Translator\n",
    "from json import JSONDecodeError\n",
    "\n",
    "# Clarin\n",
    "url = \"http://localhost:4000/api/translate\"\n",
    "headers = CaseInsensitiveDict()\n",
    "headers[\"Content-Type\"] = \"application/json\"\n",
    "\n",
    "# Google\n",
    "translatorGoogle = Translator()\n",
    "\n",
    "# Deepl\n",
    "auth_key = \"0237a978-df9a-da8b-275a-5b664b40feb0:fx\"  # Replace with your key\n",
    "translatorDeepl = deepl.Translator(auth_key)\n",
    "\n",
    "steviloStavkovZaPrevod = 10"
   ]
  },
  {
   "cell_type": "code",
   "execution_count": 3,
   "id": "c3e48570-75c4-401e-a3c9-265ced50d353",
   "metadata": {
    "tags": []
   },
   "outputs": [],
   "source": [
    "# Slovar oznak za shranjevanje v datoteko prevedeniStavki.npy\n",
    "# Oznaka je sestavljena iz postopka prevajanje in prevajalca, ki je prevajal\n",
    "# Primer SLO_AN_SLO_GOOGLE_DEEPL pomeni, da je najprej prevedel Google iz slovenščine v angleščino\n",
    "#    potem pa je Deepl prevedel iz angleščine v slovenščino \n",
    "\n",
    "slovar = dict({\"original\":0, \n",
    "               \"SLO_AN_CLARIN\":1, \"SLO_AN_GOOGLE\":2, \"SLO_AN_DEEPL\":3, \n",
    "               \"SLO_AN_SLO_CLARIN_CLARIN\":4, \"SLO_AN_SLO_CLARIN_GOOGLE\":5, \"SLO_AN_SLO_CLARIN_DEEPL\":6,\n",
    "               \"SLO_AN_SLO_GOOGLE_CLARIN\":7, \"SLO_AN_SLO_GOOGLE_GOOGLE\":8, \"SLO_AN_SLO_GOOGLE_DEEPL\":9,\n",
    "               \"SLO_AN_SLO_DEEPL_CLARIN\":10, \"SLO_AN_SLO_DEEPL_GOOGLE\":11, \"SLO_AN_SLO_DEEPL_DEEPL\":12\n",
    "              })"
   ]
  },
  {
   "cell_type": "code",
   "execution_count": 4,
   "id": "f24361c3-bca0-44ea-8a97-442d8d9f3810",
   "metadata": {
    "tags": []
   },
   "outputs": [],
   "source": [
    "# prebere še neprevedene stavke\n",
    "neprevedeniStavki = np.load('neprevedeniSloStavki.npy',allow_pickle=True).tolist()"
   ]
  },
  {
   "cell_type": "code",
   "execution_count": 5,
   "id": "f1fa15a3-6d43-4372-89ec-dab3d0268b97",
   "metadata": {
    "tags": []
   },
   "outputs": [],
   "source": [
    "# preberem že prevedene stavke, če obstajajo\n",
    "try:\n",
    "    tabelaPrevedenihStavkov = np.load('prevedeniStavki.npy',allow_pickle=True).tolist()\n",
    "except:\n",
    "    print(\"Ni še datoteke s prevedenimi stavki\")\n",
    "    tabelaPrevedenihStavkov = []"
   ]
  },
  {
   "cell_type": "code",
   "execution_count": 6,
   "id": "3fb21650-bc80-49a9-885c-28b4a2cac5c8",
   "metadata": {
    "tags": []
   },
   "outputs": [
    {
     "name": "stdout",
     "output_type": "stream",
     "text": [
      "6714971\n",
      "15067\n"
     ]
    }
   ],
   "source": [
    "# Število neprevedenih in prevedenih stavkov\n",
    "print(len(neprevedeniStavki))\n",
    "print(len(tabelaPrevedenihStavkov))"
   ]
  },
  {
   "cell_type": "code",
   "execution_count": 9,
   "id": "1acb9e8b-ce7b-4c5d-9697-8287d3dc5f30",
   "metadata": {
    "tags": []
   },
   "outputs": [
    {
     "name": "stdout",
     "output_type": "stream",
     "text": [
      "0\n",
      "5. delov sistema za uravnavanje izpustov.\n",
      "\n",
      "1\n",
      "Vir: Vode i ribe Jugoslavije, Zagreb 1932\n",
      "\n",
      "2\n",
      "Če je samo eden od staršev kadilec, obstaja možnost, da bo začel kaditi tudi otrok.\n",
      "\n",
      "3\n",
      "FDS/panorama-druzinsko ucenje\n",
      "Stavek je prevelik ali premajhen\n",
      "\n",
      "4\n",
      "Priznati moram, da sem imel precej sreče s štartno številko, saj sem štartal za Belorusom Vadimom Sašurinom in pred Norvežanom Frodejem Andresenom, ki sodita v svetovni vrh biatlona.\n",
      "Stavek je prevelik ali premajhen\n",
      "\n",
      "5\n",
      "Napadalci bodo bolj ustvarjalni, nevarni, manj predvidljivi.\n",
      "\n",
      "6\n",
      "To je domače vendarle prebudilo in po izkoriščeni najstrožji kazni so prek svojega najboljšega strelca Tomaža Mihelčiča znižali na 3:5.\n",
      "\n",
      "7\n",
      "1000 m z mesta: 36,3\n",
      "Stavek je prevelik ali premajhen\n",
      "\n",
      "8\n",
      "Te bi bile potem vrnjene v Iran, kjer bi z njimi oskrbovali raziskovalni medicinski reaktor, s pomočjo katerega proizvajajo izotope za boj proti raku.\n",
      "Stavek je prevelik ali premajhen\n",
      "\n",
      "9\n",
      "STOCKHOLM, 18. - Nogometaši Primorja so včeraj dopotovali v švedsko prestolnico in zvečer opravili prvi trening na lepo urejenem stadionu, kjer poleg današnjega nasprotnika AIK Solne običajno igra tudi švedska reprezentanca.\n",
      "Stavek je prevelik ali premajhen\n",
      "\n",
      "0:00:44.104261\n"
     ]
    }
   ],
   "source": [
    "zacetek = datetime.datetime.now()\n",
    "for i in range(steviloStavkovZaPrevod):\n",
    "    \n",
    "    # Izbira indeksa neprevedenega stavka\n",
    "    indeks = random.randrange(len(neprevedeniStavki))\n",
    "    stavekZaPrevod = neprevedeniStavki[indeks]\n",
    "    \n",
    "    print(i)\n",
    "    print(stavekZaPrevod)\n",
    "    \n",
    "    # preveri, da ima stavek med 5 in 20 presledkov, kar pomeni, da naj bi ieml vsaj 5 in ne več kot 20 besed\n",
    "    if stavekZaPrevod.count(' ') > 20 or stavekZaPrevod.count(' ') < 5:\n",
    "        print(\"Stavek je prevelik ali premajhen\")\n",
    "        print()\n",
    "        continue\n",
    "    \n",
    "    # spremenljivke za prevedene stavke\n",
    "    stavekSloAnClarin = \"\"\n",
    "    stavekSloAnSloClarinClarin = \"\"\n",
    "    stavekSloAnGoole = \"\"\n",
    "    stavekSloAnSloGoogleGoogle = \"\"\n",
    "    stavekSloAnDeepl = \"\"\n",
    "    stavekSloAnSloDeeplDeepl = \"\"\n",
    "    stavekSloAnSloGoogleClarin = \"\"\n",
    "    stavekSloAnSloClarinGoogle = \"\"\n",
    "    stavekSloAnSloClarinDeepl = \"\"\n",
    "    stavekSloAnSloGoogleDeepl = \"\"\n",
    "    stavekSloAnSloDeeplGoogle = \"\"\n",
    "    stavekSloAnSloDeeplClarin = \"\"\n",
    "    \n",
    "    # vrstica s stavki, ki se doda v tabelo prevedenih stavkov\n",
    "    vrstica = [\"\"]*13\n",
    "    vrstica[0] = stavekZaPrevod\n",
    "    \n",
    "    # prevod iz slovenščine v angleščino preko clarina v angleščino in potem iz angleščine nazaj v slovenščino preko Clarin\n",
    "    try:\n",
    "        data = '{ \"src_language\":\"sl\",\"tgt_language\":\"en\",\"text\":\"'+stavekZaPrevod+'\"}'\n",
    "        data = data.encode(\"utf-8\")\n",
    "        resp = requests.post(url, headers=headers, data=data)\n",
    "        stavekSloAnClarin = eval(resp.text)['result']\n",
    "        vrstica[slovar[\"SLO_AN_CLARIN\"]] = stavekSloAnClarin\n",
    "        data = '{ \"src_language\":\"en\",\"tgt_language\":\"sl\",\"text\":\"'+stavekSloAnClarin+'\"}'\n",
    "        data = data.encode(\"utf-8\")\n",
    "        resp = requests.post(url, headers=headers, data=data)\n",
    "        stavekSloAnSloClarinClarin = eval(resp.text)['result']\n",
    "        vrstica[slovar[\"SLO_AN_SLO_CLARIN_CLARIN\"]] = stavekSloAnSloClarinClarin\n",
    "    except:\n",
    "        print(\"Nekaj šlo narobe prevajanje CLARIN\")\n",
    "        print(resp)\n",
    "        \n",
    "    #print(\"Prevod CLARIN SLO AN\",stavekSloAnClarin)\n",
    "    #print(\"Prevod CLARIN CLARIN SLO AN SLO\",stavekSloAnSloClarinClarin)\n",
    "    #print()\n",
    "        \n",
    "    \n",
    "        \n",
    "    # prevod iz slovenščine v angleščino preko Google v angleščino in potem iz angleščine nazaj v slovenščino preko google\n",
    "    try:\n",
    "        result = translatorGoogle.translate(stavekZaPrevod, src='sl', dest='en')\n",
    "        stavekSloAnGoole = result.text\n",
    "        vrstica[slovar[\"SLO_AN_GOOGLE\"]] = stavekSloAnGoole\n",
    "        result = translatorGoogle.translate(stavekSloAnGoole, src='en', dest='sl')\n",
    "        stavekSloAnSloGoogleGoogle = result.text\n",
    "        vrstica[slovar[\"SLO_AN_SLO_GOOGLE_GOOGLE\"]] = stavekSloAnSloGoogleGoogle\n",
    "    except:\n",
    "        print(\"Nekaj šlo narobe prevajanje GOOGLE\")\n",
    "        \n",
    "    #print(\"Prevod GOOGLE SLO AN\",stavekSloAnGoole)\n",
    "    #print(\"Prevod GOOGLE GOOGLE SLO AN SLO\",stavekSloAnSloGoogleGoogle)\n",
    "    #print()\n",
    "        \n",
    "        \n",
    "    \"\"\"    \n",
    "    # prevod iz slovenščine v angleščino preko Deepl v angleščino in potem iz angleščine nazaj v slovenščino preko Deepl\n",
    "    try:\n",
    "        result = translatorDeepl.translate_text(stavekZaPrevod, source_lang=\"SL\", target_lang=\"EN-GB\")\n",
    "        stavekSloAnDeepl = result.text\n",
    "        vrstica[slovar[\"SLO_AN_DEEPL\"]] = stavekSloAnDeepl\n",
    "        result = translatorDeepl.translate_text(stavekSloAnDeepl, source_lang=\"EN\", target_lang=\"SL\")\n",
    "        stavekSloAnSloDeeplDeepl = result.text\n",
    "        vrstica[slovar[\"SLO_AN_SLO_DEEPL_DEEPL\"]] = stavekSloAnSloDeeplDeepl\n",
    "    except:\n",
    "        print(\"Nekaj šlo narobe prevajanje DEEPL\")\n",
    "        \n",
    "    #print(\"Prevod DEEPL SLO AN\",stavekSloAnDeepl)    \n",
    "    #print(\"Prevod DEEPL DEEPL SLO AN SLO\",stavekSloAnSloDeeplDeepl)\n",
    "    #print()\n",
    "    \"\"\"\n",
    "    \n",
    "        \n",
    "    # prevod angleškega stavka prevedenega preko Google v slovenščino preko Clarin\n",
    "    try:\n",
    "        data = '{ \"src_language\":\"en\",\"tgt_language\":\"sl\",\"text\":\"'+stavekSloAnGoole+'\"}'\n",
    "        data = data.encode(\"utf-8\")\n",
    "        resp = requests.post(url, headers=headers, data=data)\n",
    "        stavekSloAnSloGoogleClarin = eval(resp.text)['result']\n",
    "        vrstica[slovar[\"SLO_AN_SLO_GOOGLE_CLARIN\"]] = stavekSloAnSloGoogleClarin\n",
    "    except:\n",
    "        print(\"Nekaj šlo narobe prevajanje GOOGLE - CLARIN\")\n",
    "        \n",
    "    #print(\"Prevod GOOGLE CLARIN SLO AN SLO\",stavekSloAnSloGoogleClarin)\n",
    "    #print()\n",
    "        \n",
    "        \n",
    "    # prevod angleškega stavka prevedenega preko Clarin v slovenščino preko Google\n",
    "    try:\n",
    "        result = translatorGoogle.translate(stavekSloAnClarin, src='en', dest='sl')\n",
    "        stavekSloAnSloClarinGoogle = result.text\n",
    "        vrstica[slovar[\"SLO_AN_SLO_CLARIN_GOOGLE\"]] = stavekSloAnSloClarinGoogle\n",
    "    except:\n",
    "        print(\"Nekaj šlo narobe prevajanje CLARIN - GOOGLE\")\n",
    "      \n",
    "    #print(\"Prevod CLARIN GOOGLE SLO AN SLO\",stavekSloAnSloClarinGoogle)\n",
    "    #print()\n",
    "        \n",
    "        \n",
    "    \"\"\"    \n",
    "    # prevod angleškega stavka prevedenega preko Clarin v slovenščino preko Deepl\n",
    "    try:\n",
    "        result = translatorDeepl.translate_text(stavekSloAnClarin, source_lang=\"EN\", target_lang=\"SL\")\n",
    "        stavekSloAnSloClarinDeepl = result.text\n",
    "        vrstica[slovar[\"SLO_AN_SLO_CLARIN_DEEPL\"]] = stavekSloAnSloClarinDeepl\n",
    "    except:\n",
    "        print(\"Nekaj šlo narobe prevajanje CLARIN DEEPL\")\n",
    "        \n",
    "    #print(\"Prevod CLARIN DEEPL SLO AN SLO\",stavekSloAnSloClarinDeepl)\n",
    "    #print()\n",
    "    \"\"\"\n",
    "    \n",
    "    \"\"\"\n",
    "    # prevod angleškega stavka prevedenega preko Google v slovenščino preko Deepl\n",
    "    try:\n",
    "        result = translatorDeepl.translate_text(stavekSloAnGoole, source_lang=\"EN\", target_lang=\"SL\")\n",
    "        stavekSloAnSloGoogleDeepl = result.text\n",
    "        vrstica[slovar[\"SLO_AN_SLO_GOOGLE_DEEPL\"]] = stavekSloAnSloGoogleDeepl\n",
    "    except:\n",
    "        print(\"Nekaj šlo narobe prevajanje GOOGLE DEEPL\")\n",
    "        \n",
    "    #print(\"Prevod GOOGLE DEEPL SLO AN SLO\",stavekSloAnSloGoogleDeepl)\n",
    "    #print()\n",
    "    \"\"\"\n",
    "    \n",
    "    \"\"\"\n",
    "    # prevod angleškega stavka prevedenega preko Deepl v slovenščino preko Google\n",
    "    try:\n",
    "        result = translatorGoogle.translate(stavekSloAnDeepl, src='en', dest='sl')\n",
    "        stavekSloAnSloDeeplGoogle = result.text\n",
    "        vrstica[slovar[\"SLO_AN_SLO_DEEPL_GOOGLE\"]] = stavekSloAnSloDeeplGoogle\n",
    "    except:\n",
    "        print(\"Nekaj šlo narobe prevajanje DEEPL - GOOGLE\")\n",
    "        \n",
    "    #print(\"Prevod DEEPL GOOGLE SLO AN SLO\", stavekSloAnSloDeeplGoogle)\n",
    "    #print()\n",
    "    \"\"\"\n",
    "    \n",
    "    \"\"\"\n",
    "    # prevod angleškega stavka prevedenega preko Deepl v slovenščino preko Clarin\n",
    "    try:\n",
    "        data = '{ \"src_language\":\"en\",\"tgt_language\":\"sl\",\"text\":\"'+stavekSloAnDeepl+'\"}'\n",
    "        data = data.encode(\"utf-8\")\n",
    "        resp = requests.post(url, headers=headers, data=data)\n",
    "        stavekSloAnSloDeeplClarin = eval(resp.text)['result']\n",
    "        vrstica[slovar[\"SLO_AN_SLO_DEEPL_CLARIN\"]] = stavekSloAnSloDeeplClarin\n",
    "    except:\n",
    "        print(\"Nekaj šlo narobe prevajanje DEEPL - CLARIN\",stavekSloAnSloDeeplClarin)\n",
    "        \n",
    "    #print(\"Prevod DEEPL CLARIN SLO AN SLO\",stavekSloAnSloDeeplClarin)\n",
    "    #print()\n",
    "    \"\"\"\n",
    "    \n",
    "    print()\n",
    "    \n",
    "    neprevedeniStavki.pop(indeks)\n",
    "    tabelaPrevedenihStavkov.append(vrstica)\n",
    "    \n",
    "konec = datetime.datetime.now()\n",
    "print(konec-zacetek)"
   ]
  },
  {
   "cell_type": "code",
   "execution_count": 10,
   "id": "4024d1cf-6929-404c-b3b7-b88cc19a8742",
   "metadata": {
    "tags": []
   },
   "outputs": [
    {
     "name": "stdout",
     "output_type": "stream",
     "text": [
      "6714953\n",
      "15085\n"
     ]
    }
   ],
   "source": [
    "# Število neprevedenih in prevedenih stavkov\n",
    "print(len(neprevedeniStavki))\n",
    "print(len(tabelaPrevedenihStavkov))"
   ]
  },
  {
   "cell_type": "code",
   "execution_count": 11,
   "id": "462a3685-e3b3-4669-a76b-78a0f7f5e000",
   "metadata": {
    "tags": []
   },
   "outputs": [],
   "source": [
    "# Shranjevanje skupine neprevedenih stavkov\n",
    "np.save('neprevedeniSloStavki',np.asanyarray(neprevedeniStavki,dtype=object))"
   ]
  },
  {
   "cell_type": "code",
   "execution_count": 12,
   "id": "89c00cf0-7082-4afa-ac4e-7a2b176680b9",
   "metadata": {
    "tags": []
   },
   "outputs": [],
   "source": [
    "# Shranjevanje skupine prevedenih stavkov\n",
    "np.save('prevedeniStavki',np.asanyarray(tabelaPrevedenihStavkov,dtype=object))"
   ]
  },
  {
   "cell_type": "code",
   "execution_count": null,
   "id": "b5e8fc7d-f02a-4921-9667-36059e4222e0",
   "metadata": {},
   "outputs": [],
   "source": []
  }
 ],
 "metadata": {
  "kernelspec": {
   "display_name": "Python 3 (ipykernel)",
   "language": "python",
   "name": "python3"
  },
  "language_info": {
   "codemirror_mode": {
    "name": "ipython",
    "version": 3
   },
   "file_extension": ".py",
   "mimetype": "text/x-python",
   "name": "python",
   "nbconvert_exporter": "python",
   "pygments_lexer": "ipython3",
   "version": "3.10.10"
  }
 },
 "nbformat": 4,
 "nbformat_minor": 5
}
