{
  "cells": [
    {
      "cell_type": "code",
      "execution_count": null,
      "metadata": {
        "id": "GazSB5vo1a2a"
      },
      "outputs": [],
      "source": [
        "# Trening model T5\n",
        "# Za to uporablja datoteko PrevodiClarin.xlsx, ki je tudi na Git-u\n",
        "# https://github.com/UL-FRI-NLP-Course-2022-23/nlp-course-parafrizerji/blob/main/database/PrevodiClarin.xlsx"
      ]
    },
    {
      "cell_type": "code",
      "execution_count": null,
      "metadata": {
        "colab": {
          "base_uri": "https://localhost:8080/"
        },
        "id": "xQ3bNS7VWgYw",
        "outputId": "7f33ca7d-e090-4f3e-977f-c974c1ac8663"
      },
      "outputs": [
        {
          "output_type": "stream",
          "name": "stdout",
          "text": [
            "Looking in indexes: https://pypi.org/simple, https://us-python.pkg.dev/colab-wheels/public/simple/\n",
            "Requirement already satisfied: datasets in /usr/local/lib/python3.10/dist-packages (2.12.0)\n",
            "Requirement already satisfied: numpy>=1.17 in /usr/local/lib/python3.10/dist-packages (from datasets) (1.22.4)\n",
            "Requirement already satisfied: pyarrow>=8.0.0 in /usr/local/lib/python3.10/dist-packages (from datasets) (9.0.0)\n",
            "Requirement already satisfied: dill<0.3.7,>=0.3.0 in /usr/local/lib/python3.10/dist-packages (from datasets) (0.3.6)\n",
            "Requirement already satisfied: pandas in /usr/local/lib/python3.10/dist-packages (from datasets) (1.5.3)\n",
            "Requirement already satisfied: requests>=2.19.0 in /usr/local/lib/python3.10/dist-packages (from datasets) (2.27.1)\n",
            "Requirement already satisfied: tqdm>=4.62.1 in /usr/local/lib/python3.10/dist-packages (from datasets) (4.65.0)\n",
            "Requirement already satisfied: xxhash in /usr/local/lib/python3.10/dist-packages (from datasets) (3.2.0)\n",
            "Requirement already satisfied: multiprocess in /usr/local/lib/python3.10/dist-packages (from datasets) (0.70.14)\n",
            "Requirement already satisfied: fsspec[http]>=2021.11.1 in /usr/local/lib/python3.10/dist-packages (from datasets) (2023.4.0)\n",
            "Requirement already satisfied: aiohttp in /usr/local/lib/python3.10/dist-packages (from datasets) (3.8.4)\n",
            "Requirement already satisfied: huggingface-hub<1.0.0,>=0.11.0 in /usr/local/lib/python3.10/dist-packages (from datasets) (0.14.1)\n",
            "Requirement already satisfied: packaging in /usr/local/lib/python3.10/dist-packages (from datasets) (23.1)\n",
            "Requirement already satisfied: responses<0.19 in /usr/local/lib/python3.10/dist-packages (from datasets) (0.18.0)\n",
            "Requirement already satisfied: pyyaml>=5.1 in /usr/local/lib/python3.10/dist-packages (from datasets) (6.0)\n",
            "Requirement already satisfied: attrs>=17.3.0 in /usr/local/lib/python3.10/dist-packages (from aiohttp->datasets) (23.1.0)\n",
            "Requirement already satisfied: charset-normalizer<4.0,>=2.0 in /usr/local/lib/python3.10/dist-packages (from aiohttp->datasets) (2.0.12)\n",
            "Requirement already satisfied: multidict<7.0,>=4.5 in /usr/local/lib/python3.10/dist-packages (from aiohttp->datasets) (6.0.4)\n",
            "Requirement already satisfied: async-timeout<5.0,>=4.0.0a3 in /usr/local/lib/python3.10/dist-packages (from aiohttp->datasets) (4.0.2)\n",
            "Requirement already satisfied: yarl<2.0,>=1.0 in /usr/local/lib/python3.10/dist-packages (from aiohttp->datasets) (1.9.2)\n",
            "Requirement already satisfied: frozenlist>=1.1.1 in /usr/local/lib/python3.10/dist-packages (from aiohttp->datasets) (1.3.3)\n",
            "Requirement already satisfied: aiosignal>=1.1.2 in /usr/local/lib/python3.10/dist-packages (from aiohttp->datasets) (1.3.1)\n",
            "Requirement already satisfied: filelock in /usr/local/lib/python3.10/dist-packages (from huggingface-hub<1.0.0,>=0.11.0->datasets) (3.12.0)\n",
            "Requirement already satisfied: typing-extensions>=3.7.4.3 in /usr/local/lib/python3.10/dist-packages (from huggingface-hub<1.0.0,>=0.11.0->datasets) (4.5.0)\n",
            "Requirement already satisfied: urllib3<1.27,>=1.21.1 in /usr/local/lib/python3.10/dist-packages (from requests>=2.19.0->datasets) (1.26.15)\n",
            "Requirement already satisfied: certifi>=2017.4.17 in /usr/local/lib/python3.10/dist-packages (from requests>=2.19.0->datasets) (2022.12.7)\n",
            "Requirement already satisfied: idna<4,>=2.5 in /usr/local/lib/python3.10/dist-packages (from requests>=2.19.0->datasets) (3.4)\n",
            "Requirement already satisfied: python-dateutil>=2.8.1 in /usr/local/lib/python3.10/dist-packages (from pandas->datasets) (2.8.2)\n",
            "Requirement already satisfied: pytz>=2020.1 in /usr/local/lib/python3.10/dist-packages (from pandas->datasets) (2022.7.1)\n",
            "Requirement already satisfied: six>=1.5 in /usr/local/lib/python3.10/dist-packages (from python-dateutil>=2.8.1->pandas->datasets) (1.16.0)\n",
            "Looking in indexes: https://pypi.org/simple, https://us-python.pkg.dev/colab-wheels/public/simple/\n",
            "Requirement already satisfied: transformers in /usr/local/lib/python3.10/dist-packages (4.29.1)\n",
            "Requirement already satisfied: filelock in /usr/local/lib/python3.10/dist-packages (from transformers) (3.12.0)\n",
            "Requirement already satisfied: huggingface-hub<1.0,>=0.14.1 in /usr/local/lib/python3.10/dist-packages (from transformers) (0.14.1)\n",
            "Requirement already satisfied: numpy>=1.17 in /usr/local/lib/python3.10/dist-packages (from transformers) (1.22.4)\n",
            "Requirement already satisfied: packaging>=20.0 in /usr/local/lib/python3.10/dist-packages (from transformers) (23.1)\n",
            "Requirement already satisfied: pyyaml>=5.1 in /usr/local/lib/python3.10/dist-packages (from transformers) (6.0)\n",
            "Requirement already satisfied: regex!=2019.12.17 in /usr/local/lib/python3.10/dist-packages (from transformers) (2022.10.31)\n",
            "Requirement already satisfied: requests in /usr/local/lib/python3.10/dist-packages (from transformers) (2.27.1)\n",
            "Requirement already satisfied: tokenizers!=0.11.3,<0.14,>=0.11.1 in /usr/local/lib/python3.10/dist-packages (from transformers) (0.13.3)\n",
            "Requirement already satisfied: tqdm>=4.27 in /usr/local/lib/python3.10/dist-packages (from transformers) (4.65.0)\n",
            "Requirement already satisfied: fsspec in /usr/local/lib/python3.10/dist-packages (from huggingface-hub<1.0,>=0.14.1->transformers) (2023.4.0)\n",
            "Requirement already satisfied: typing-extensions>=3.7.4.3 in /usr/local/lib/python3.10/dist-packages (from huggingface-hub<1.0,>=0.14.1->transformers) (4.5.0)\n",
            "Requirement already satisfied: urllib3<1.27,>=1.21.1 in /usr/local/lib/python3.10/dist-packages (from requests->transformers) (1.26.15)\n",
            "Requirement already satisfied: certifi>=2017.4.17 in /usr/local/lib/python3.10/dist-packages (from requests->transformers) (2022.12.7)\n",
            "Requirement already satisfied: charset-normalizer~=2.0.0 in /usr/local/lib/python3.10/dist-packages (from requests->transformers) (2.0.12)\n",
            "Requirement already satisfied: idna<4,>=2.5 in /usr/local/lib/python3.10/dist-packages (from requests->transformers) (3.4)\n",
            "Looking in indexes: https://pypi.org/simple, https://us-python.pkg.dev/colab-wheels/public/simple/\n",
            "Requirement already satisfied: SentencePiece in /usr/local/lib/python3.10/dist-packages (0.1.99)\n",
            "Looking in indexes: https://pypi.org/simple, https://us-python.pkg.dev/colab-wheels/public/simple/\n",
            "Requirement already satisfied: evaluate in /usr/local/lib/python3.10/dist-packages (0.4.0)\n",
            "Requirement already satisfied: datasets>=2.0.0 in /usr/local/lib/python3.10/dist-packages (from evaluate) (2.12.0)\n",
            "Requirement already satisfied: numpy>=1.17 in /usr/local/lib/python3.10/dist-packages (from evaluate) (1.22.4)\n",
            "Requirement already satisfied: dill in /usr/local/lib/python3.10/dist-packages (from evaluate) (0.3.6)\n",
            "Requirement already satisfied: pandas in /usr/local/lib/python3.10/dist-packages (from evaluate) (1.5.3)\n",
            "Requirement already satisfied: requests>=2.19.0 in /usr/local/lib/python3.10/dist-packages (from evaluate) (2.27.1)\n",
            "Requirement already satisfied: tqdm>=4.62.1 in /usr/local/lib/python3.10/dist-packages (from evaluate) (4.65.0)\n",
            "Requirement already satisfied: xxhash in /usr/local/lib/python3.10/dist-packages (from evaluate) (3.2.0)\n",
            "Requirement already satisfied: multiprocess in /usr/local/lib/python3.10/dist-packages (from evaluate) (0.70.14)\n",
            "Requirement already satisfied: fsspec[http]>=2021.05.0 in /usr/local/lib/python3.10/dist-packages (from evaluate) (2023.4.0)\n",
            "Requirement already satisfied: huggingface-hub>=0.7.0 in /usr/local/lib/python3.10/dist-packages (from evaluate) (0.14.1)\n",
            "Requirement already satisfied: packaging in /usr/local/lib/python3.10/dist-packages (from evaluate) (23.1)\n",
            "Requirement already satisfied: responses<0.19 in /usr/local/lib/python3.10/dist-packages (from evaluate) (0.18.0)\n",
            "Requirement already satisfied: pyarrow>=8.0.0 in /usr/local/lib/python3.10/dist-packages (from datasets>=2.0.0->evaluate) (9.0.0)\n",
            "Requirement already satisfied: aiohttp in /usr/local/lib/python3.10/dist-packages (from datasets>=2.0.0->evaluate) (3.8.4)\n",
            "Requirement already satisfied: pyyaml>=5.1 in /usr/local/lib/python3.10/dist-packages (from datasets>=2.0.0->evaluate) (6.0)\n",
            "Requirement already satisfied: filelock in /usr/local/lib/python3.10/dist-packages (from huggingface-hub>=0.7.0->evaluate) (3.12.0)\n",
            "Requirement already satisfied: typing-extensions>=3.7.4.3 in /usr/local/lib/python3.10/dist-packages (from huggingface-hub>=0.7.0->evaluate) (4.5.0)\n",
            "Requirement already satisfied: urllib3<1.27,>=1.21.1 in /usr/local/lib/python3.10/dist-packages (from requests>=2.19.0->evaluate) (1.26.15)\n",
            "Requirement already satisfied: certifi>=2017.4.17 in /usr/local/lib/python3.10/dist-packages (from requests>=2.19.0->evaluate) (2022.12.7)\n",
            "Requirement already satisfied: charset-normalizer~=2.0.0 in /usr/local/lib/python3.10/dist-packages (from requests>=2.19.0->evaluate) (2.0.12)\n",
            "Requirement already satisfied: idna<4,>=2.5 in /usr/local/lib/python3.10/dist-packages (from requests>=2.19.0->evaluate) (3.4)\n",
            "Requirement already satisfied: python-dateutil>=2.8.1 in /usr/local/lib/python3.10/dist-packages (from pandas->evaluate) (2.8.2)\n",
            "Requirement already satisfied: pytz>=2020.1 in /usr/local/lib/python3.10/dist-packages (from pandas->evaluate) (2022.7.1)\n",
            "Requirement already satisfied: attrs>=17.3.0 in /usr/local/lib/python3.10/dist-packages (from aiohttp->datasets>=2.0.0->evaluate) (23.1.0)\n",
            "Requirement already satisfied: multidict<7.0,>=4.5 in /usr/local/lib/python3.10/dist-packages (from aiohttp->datasets>=2.0.0->evaluate) (6.0.4)\n",
            "Requirement already satisfied: async-timeout<5.0,>=4.0.0a3 in /usr/local/lib/python3.10/dist-packages (from aiohttp->datasets>=2.0.0->evaluate) (4.0.2)\n",
            "Requirement already satisfied: yarl<2.0,>=1.0 in /usr/local/lib/python3.10/dist-packages (from aiohttp->datasets>=2.0.0->evaluate) (1.9.2)\n",
            "Requirement already satisfied: frozenlist>=1.1.1 in /usr/local/lib/python3.10/dist-packages (from aiohttp->datasets>=2.0.0->evaluate) (1.3.3)\n",
            "Requirement already satisfied: aiosignal>=1.1.2 in /usr/local/lib/python3.10/dist-packages (from aiohttp->datasets>=2.0.0->evaluate) (1.3.1)\n",
            "Requirement already satisfied: six>=1.5 in /usr/local/lib/python3.10/dist-packages (from python-dateutil>=2.8.1->pandas->evaluate) (1.16.0)\n",
            "Looking in indexes: https://pypi.org/simple, https://us-python.pkg.dev/colab-wheels/public/simple/\n",
            "Requirement already satisfied: rouge_score in /usr/local/lib/python3.10/dist-packages (0.1.2)\n",
            "Requirement already satisfied: absl-py in /usr/local/lib/python3.10/dist-packages (from rouge_score) (1.4.0)\n",
            "Requirement already satisfied: nltk in /usr/local/lib/python3.10/dist-packages (from rouge_score) (3.8.1)\n",
            "Requirement already satisfied: numpy in /usr/local/lib/python3.10/dist-packages (from rouge_score) (1.22.4)\n",
            "Requirement already satisfied: six>=1.14.0 in /usr/local/lib/python3.10/dist-packages (from rouge_score) (1.16.0)\n",
            "Requirement already satisfied: click in /usr/local/lib/python3.10/dist-packages (from nltk->rouge_score) (8.1.3)\n",
            "Requirement already satisfied: joblib in /usr/local/lib/python3.10/dist-packages (from nltk->rouge_score) (1.2.0)\n",
            "Requirement already satisfied: regex>=2021.8.3 in /usr/local/lib/python3.10/dist-packages (from nltk->rouge_score) (2022.10.31)\n",
            "Requirement already satisfied: tqdm in /usr/local/lib/python3.10/dist-packages (from nltk->rouge_score) (4.65.0)\n",
            "Looking in indexes: https://pypi.org/simple, https://us-python.pkg.dev/colab-wheels/public/simple/\n",
            "Requirement already satisfied: tensorflow_text in /usr/local/lib/python3.10/dist-packages (2.12.1)\n",
            "Requirement already satisfied: tensorflow-hub>=0.8.0 in /usr/local/lib/python3.10/dist-packages (from tensorflow_text) (0.13.0)\n",
            "Requirement already satisfied: tensorflow<2.13,>=2.12.0 in /usr/local/lib/python3.10/dist-packages (from tensorflow_text) (2.12.0)\n",
            "Requirement already satisfied: absl-py>=1.0.0 in /usr/local/lib/python3.10/dist-packages (from tensorflow<2.13,>=2.12.0->tensorflow_text) (1.4.0)\n",
            "Requirement already satisfied: astunparse>=1.6.0 in /usr/local/lib/python3.10/dist-packages (from tensorflow<2.13,>=2.12.0->tensorflow_text) (1.6.3)\n",
            "Requirement already satisfied: flatbuffers>=2.0 in /usr/local/lib/python3.10/dist-packages (from tensorflow<2.13,>=2.12.0->tensorflow_text) (23.3.3)\n",
            "Requirement already satisfied: gast<=0.4.0,>=0.2.1 in /usr/local/lib/python3.10/dist-packages (from tensorflow<2.13,>=2.12.0->tensorflow_text) (0.4.0)\n",
            "Requirement already satisfied: google-pasta>=0.1.1 in /usr/local/lib/python3.10/dist-packages (from tensorflow<2.13,>=2.12.0->tensorflow_text) (0.2.0)\n",
            "Requirement already satisfied: grpcio<2.0,>=1.24.3 in /usr/local/lib/python3.10/dist-packages (from tensorflow<2.13,>=2.12.0->tensorflow_text) (1.54.0)\n",
            "Requirement already satisfied: h5py>=2.9.0 in /usr/local/lib/python3.10/dist-packages (from tensorflow<2.13,>=2.12.0->tensorflow_text) (3.8.0)\n",
            "Requirement already satisfied: jax>=0.3.15 in /usr/local/lib/python3.10/dist-packages (from tensorflow<2.13,>=2.12.0->tensorflow_text) (0.4.8)\n",
            "Requirement already satisfied: keras<2.13,>=2.12.0 in /usr/local/lib/python3.10/dist-packages (from tensorflow<2.13,>=2.12.0->tensorflow_text) (2.12.0)\n",
            "Requirement already satisfied: libclang>=13.0.0 in /usr/local/lib/python3.10/dist-packages (from tensorflow<2.13,>=2.12.0->tensorflow_text) (16.0.0)\n",
            "Requirement already satisfied: numpy<1.24,>=1.22 in /usr/local/lib/python3.10/dist-packages (from tensorflow<2.13,>=2.12.0->tensorflow_text) (1.22.4)\n",
            "Requirement already satisfied: opt-einsum>=2.3.2 in /usr/local/lib/python3.10/dist-packages (from tensorflow<2.13,>=2.12.0->tensorflow_text) (3.3.0)\n",
            "Requirement already satisfied: packaging in /usr/local/lib/python3.10/dist-packages (from tensorflow<2.13,>=2.12.0->tensorflow_text) (23.1)\n",
            "Requirement already satisfied: protobuf!=4.21.0,!=4.21.1,!=4.21.2,!=4.21.3,!=4.21.4,!=4.21.5,<5.0.0dev,>=3.20.3 in /usr/local/lib/python3.10/dist-packages (from tensorflow<2.13,>=2.12.0->tensorflow_text) (3.20.3)\n",
            "Requirement already satisfied: setuptools in /usr/local/lib/python3.10/dist-packages (from tensorflow<2.13,>=2.12.0->tensorflow_text) (67.7.2)\n",
            "Requirement already satisfied: six>=1.12.0 in /usr/local/lib/python3.10/dist-packages (from tensorflow<2.13,>=2.12.0->tensorflow_text) (1.16.0)\n",
            "Requirement already satisfied: tensorboard<2.13,>=2.12 in /usr/local/lib/python3.10/dist-packages (from tensorflow<2.13,>=2.12.0->tensorflow_text) (2.12.2)\n",
            "Requirement already satisfied: tensorflow-estimator<2.13,>=2.12.0 in /usr/local/lib/python3.10/dist-packages (from tensorflow<2.13,>=2.12.0->tensorflow_text) (2.12.0)\n",
            "Requirement already satisfied: termcolor>=1.1.0 in /usr/local/lib/python3.10/dist-packages (from tensorflow<2.13,>=2.12.0->tensorflow_text) (2.3.0)\n",
            "Requirement already satisfied: typing-extensions>=3.6.6 in /usr/local/lib/python3.10/dist-packages (from tensorflow<2.13,>=2.12.0->tensorflow_text) (4.5.0)\n",
            "Requirement already satisfied: wrapt<1.15,>=1.11.0 in /usr/local/lib/python3.10/dist-packages (from tensorflow<2.13,>=2.12.0->tensorflow_text) (1.14.1)\n",
            "Requirement already satisfied: tensorflow-io-gcs-filesystem>=0.23.1 in /usr/local/lib/python3.10/dist-packages (from tensorflow<2.13,>=2.12.0->tensorflow_text) (0.32.0)\n",
            "Requirement already satisfied: wheel<1.0,>=0.23.0 in /usr/local/lib/python3.10/dist-packages (from astunparse>=1.6.0->tensorflow<2.13,>=2.12.0->tensorflow_text) (0.40.0)\n",
            "Requirement already satisfied: ml-dtypes>=0.0.3 in /usr/local/lib/python3.10/dist-packages (from jax>=0.3.15->tensorflow<2.13,>=2.12.0->tensorflow_text) (0.1.0)\n",
            "Requirement already satisfied: scipy>=1.7 in /usr/local/lib/python3.10/dist-packages (from jax>=0.3.15->tensorflow<2.13,>=2.12.0->tensorflow_text) (1.10.1)\n",
            "Requirement already satisfied: google-auth<3,>=1.6.3 in /usr/local/lib/python3.10/dist-packages (from tensorboard<2.13,>=2.12->tensorflow<2.13,>=2.12.0->tensorflow_text) (2.17.3)\n",
            "Requirement already satisfied: google-auth-oauthlib<1.1,>=0.5 in /usr/local/lib/python3.10/dist-packages (from tensorboard<2.13,>=2.12->tensorflow<2.13,>=2.12.0->tensorflow_text) (1.0.0)\n",
            "Requirement already satisfied: markdown>=2.6.8 in /usr/local/lib/python3.10/dist-packages (from tensorboard<2.13,>=2.12->tensorflow<2.13,>=2.12.0->tensorflow_text) (3.4.3)\n",
            "Requirement already satisfied: requests<3,>=2.21.0 in /usr/local/lib/python3.10/dist-packages (from tensorboard<2.13,>=2.12->tensorflow<2.13,>=2.12.0->tensorflow_text) (2.27.1)\n",
            "Requirement already satisfied: tensorboard-data-server<0.8.0,>=0.7.0 in /usr/local/lib/python3.10/dist-packages (from tensorboard<2.13,>=2.12->tensorflow<2.13,>=2.12.0->tensorflow_text) (0.7.0)\n",
            "Requirement already satisfied: tensorboard-plugin-wit>=1.6.0 in /usr/local/lib/python3.10/dist-packages (from tensorboard<2.13,>=2.12->tensorflow<2.13,>=2.12.0->tensorflow_text) (1.8.1)\n",
            "Requirement already satisfied: werkzeug>=1.0.1 in /usr/local/lib/python3.10/dist-packages (from tensorboard<2.13,>=2.12->tensorflow<2.13,>=2.12.0->tensorflow_text) (2.3.0)\n",
            "Requirement already satisfied: cachetools<6.0,>=2.0.0 in /usr/local/lib/python3.10/dist-packages (from google-auth<3,>=1.6.3->tensorboard<2.13,>=2.12->tensorflow<2.13,>=2.12.0->tensorflow_text) (5.3.0)\n",
            "Requirement already satisfied: pyasn1-modules>=0.2.1 in /usr/local/lib/python3.10/dist-packages (from google-auth<3,>=1.6.3->tensorboard<2.13,>=2.12->tensorflow<2.13,>=2.12.0->tensorflow_text) (0.3.0)\n",
            "Requirement already satisfied: rsa<5,>=3.1.4 in /usr/local/lib/python3.10/dist-packages (from google-auth<3,>=1.6.3->tensorboard<2.13,>=2.12->tensorflow<2.13,>=2.12.0->tensorflow_text) (4.9)\n",
            "Requirement already satisfied: requests-oauthlib>=0.7.0 in /usr/local/lib/python3.10/dist-packages (from google-auth-oauthlib<1.1,>=0.5->tensorboard<2.13,>=2.12->tensorflow<2.13,>=2.12.0->tensorflow_text) (1.3.1)\n",
            "Requirement already satisfied: urllib3<1.27,>=1.21.1 in /usr/local/lib/python3.10/dist-packages (from requests<3,>=2.21.0->tensorboard<2.13,>=2.12->tensorflow<2.13,>=2.12.0->tensorflow_text) (1.26.15)\n",
            "Requirement already satisfied: certifi>=2017.4.17 in /usr/local/lib/python3.10/dist-packages (from requests<3,>=2.21.0->tensorboard<2.13,>=2.12->tensorflow<2.13,>=2.12.0->tensorflow_text) (2022.12.7)\n",
            "Requirement already satisfied: charset-normalizer~=2.0.0 in /usr/local/lib/python3.10/dist-packages (from requests<3,>=2.21.0->tensorboard<2.13,>=2.12->tensorflow<2.13,>=2.12.0->tensorflow_text) (2.0.12)\n",
            "Requirement already satisfied: idna<4,>=2.5 in /usr/local/lib/python3.10/dist-packages (from requests<3,>=2.21.0->tensorboard<2.13,>=2.12->tensorflow<2.13,>=2.12.0->tensorflow_text) (3.4)\n",
            "Requirement already satisfied: MarkupSafe>=2.1.1 in /usr/local/lib/python3.10/dist-packages (from werkzeug>=1.0.1->tensorboard<2.13,>=2.12->tensorflow<2.13,>=2.12.0->tensorflow_text) (2.1.2)\n",
            "Requirement already satisfied: pyasn1<0.6.0,>=0.4.6 in /usr/local/lib/python3.10/dist-packages (from pyasn1-modules>=0.2.1->google-auth<3,>=1.6.3->tensorboard<2.13,>=2.12->tensorflow<2.13,>=2.12.0->tensorflow_text) (0.5.0)\n",
            "Requirement already satisfied: oauthlib>=3.0.0 in /usr/local/lib/python3.10/dist-packages (from requests-oauthlib>=0.7.0->google-auth-oauthlib<1.1,>=0.5->tensorboard<2.13,>=2.12->tensorflow<2.13,>=2.12.0->tensorflow_text) (3.2.2)\n",
            "Looking in indexes: https://pypi.org/simple, https://us-python.pkg.dev/colab-wheels/public/simple/\n",
            "Requirement already satisfied: torchtext in /usr/local/lib/python3.10/dist-packages (0.15.1)\n",
            "Requirement already satisfied: tqdm in /usr/local/lib/python3.10/dist-packages (from torchtext) (4.65.0)\n",
            "Requirement already satisfied: requests in /usr/local/lib/python3.10/dist-packages (from torchtext) (2.27.1)\n",
            "Requirement already satisfied: torch==2.0.0 in /usr/local/lib/python3.10/dist-packages (from torchtext) (2.0.0+cu118)\n",
            "Requirement already satisfied: numpy in /usr/local/lib/python3.10/dist-packages (from torchtext) (1.22.4)\n",
            "Requirement already satisfied: torchdata==0.6.0 in /usr/local/lib/python3.10/dist-packages (from torchtext) (0.6.0)\n",
            "Requirement already satisfied: filelock in /usr/local/lib/python3.10/dist-packages (from torch==2.0.0->torchtext) (3.12.0)\n",
            "Requirement already satisfied: typing-extensions in /usr/local/lib/python3.10/dist-packages (from torch==2.0.0->torchtext) (4.5.0)\n",
            "Requirement already satisfied: sympy in /usr/local/lib/python3.10/dist-packages (from torch==2.0.0->torchtext) (1.11.1)\n",
            "Requirement already satisfied: networkx in /usr/local/lib/python3.10/dist-packages (from torch==2.0.0->torchtext) (3.1)\n",
            "Requirement already satisfied: jinja2 in /usr/local/lib/python3.10/dist-packages (from torch==2.0.0->torchtext) (3.1.2)\n",
            "Requirement already satisfied: triton==2.0.0 in /usr/local/lib/python3.10/dist-packages (from torch==2.0.0->torchtext) (2.0.0)\n",
            "Requirement already satisfied: urllib3>=1.25 in /usr/local/lib/python3.10/dist-packages (from torchdata==0.6.0->torchtext) (1.26.15)\n",
            "Requirement already satisfied: cmake in /usr/local/lib/python3.10/dist-packages (from triton==2.0.0->torch==2.0.0->torchtext) (3.25.2)\n",
            "Requirement already satisfied: lit in /usr/local/lib/python3.10/dist-packages (from triton==2.0.0->torch==2.0.0->torchtext) (16.0.3)\n",
            "Requirement already satisfied: certifi>=2017.4.17 in /usr/local/lib/python3.10/dist-packages (from requests->torchtext) (2022.12.7)\n",
            "Requirement already satisfied: charset-normalizer~=2.0.0 in /usr/local/lib/python3.10/dist-packages (from requests->torchtext) (2.0.12)\n",
            "Requirement already satisfied: idna<4,>=2.5 in /usr/local/lib/python3.10/dist-packages (from requests->torchtext) (3.4)\n",
            "Requirement already satisfied: MarkupSafe>=2.0 in /usr/local/lib/python3.10/dist-packages (from jinja2->torch==2.0.0->torchtext) (2.1.2)\n",
            "Requirement already satisfied: mpmath>=0.19 in /usr/local/lib/python3.10/dist-packages (from sympy->torch==2.0.0->torchtext) (1.3.0)\n"
          ]
        }
      ],
      "source": [
        "!pip install datasets\n",
        "!pip install transformers \n",
        "!pip install SentencePiece \n",
        "!pip install evaluate\n",
        "!pip install rouge_score\n",
        "!pip install tensorflow_text\n",
        "!pip install torchtext\n"
      ]
    },
    {
      "cell_type": "code",
      "execution_count": null,
      "metadata": {
        "id": "pCB9ALabWpMI"
      },
      "outputs": [],
      "source": [
        "# importi\n",
        "import pandas as pd\n",
        "import torch\n",
        "import numpy as np\n",
        "from datasets import Dataset\n",
        "import pyarrow as pa\n",
        "import evaluate\n",
        "from google.colab import drive\n",
        "from datetime import datetime as dt\n",
        "import os\n",
        "from torch.utils.data import DataLoader"
      ]
    },
    {
      "cell_type": "code",
      "execution_count": null,
      "metadata": {
        "id": "WjG3NSpdeWDT"
      },
      "outputs": [],
      "source": [
        "novModel = False\n",
        "# Če je določena kot True, potem vzame model cjvt/t5-sl-small\n",
        "# Če je False, pa pogleda na Google Drive in vzame shranjen model ter ga dodatno trenira"
      ]
    },
    {
      "cell_type": "code",
      "execution_count": null,
      "metadata": {
        "colab": {
          "base_uri": "https://localhost:8080/"
        },
        "id": "7hHXUxqdGW-7",
        "outputId": "128e3438-f920-4cf1-894e-c1811c270c66"
      },
      "outputs": [
        {
          "output_type": "stream",
          "name": "stdout",
          "text": [
            "Mounted at /content/gdrive/\n"
          ]
        }
      ],
      "source": [
        "# povezava z drive in branje baze\n",
        "drive.mount('/content/gdrive/', force_remount=True)\n",
        "skupna = pd.read_excel(\"/content/gdrive/MyDrive/NLP/DeeplTrening.xlsx\")"
      ]
    },
    {
      "cell_type": "code",
      "execution_count": null,
      "metadata": {
        "colab": {
          "base_uri": "https://localhost:8080/"
        },
        "id": "pxvBBlpuZvo2",
        "outputId": "83e8a76a-9dd8-4bb1-9f65-cfab581da3fa"
      },
      "outputs": [
        {
          "output_type": "stream",
          "name": "stdout",
          "text": [
            "/content/gdrive/MyDrive/NLP/2023-05-13T09:31:07.283367 1683970268.0\n"
          ]
        }
      ],
      "source": [
        "# Na Google drive pogleda, kje se nahaja najnovejši model\n",
        "# Model mora biti v direktoriju NLP\n",
        "pot = \"/content/gdrive/MyDrive/NLP\"\n",
        "\n",
        "potDoModela = \"\"\n",
        "cas = 0\n",
        "\n",
        "# Pregleda kateri model je zadnji\n",
        "for filename in os.listdir(pot):\n",
        "    if os.path.isdir(os.path.join(pot,filename)):\n",
        "      if os.path.getmtime(os.path.join(pot,filename)) > cas:\n",
        "        cas = os.path.getmtime(os.path.join(pot,filename))\n",
        "        potDoModela = os.path.join(pot,filename)\n",
        "\n",
        "print(potDoModela,cas)"
      ]
    },
    {
      "cell_type": "code",
      "execution_count": null,
      "metadata": {
        "id": "eQHA5UljWsrm"
      },
      "outputs": [],
      "source": [
        "from transformers import T5Tokenizer\n",
        "tokenizer = T5Tokenizer.from_pretrained(\"cjvt/t5-sl-small\")"
      ]
    },
    {
      "cell_type": "code",
      "execution_count": null,
      "metadata": {
        "id": "lyMsqeI-WuCT"
      },
      "outputs": [],
      "source": [
        "# Doda štiri kolone v Dataset\n",
        "\n",
        "skupna['input_ids'] = None\n",
        "skupna['attention_mask'] = None\n",
        "skupna['labels'] = None\n",
        "skupna['decoder_attention_mask'] = None"
      ]
    },
    {
      "cell_type": "code",
      "execution_count": null,
      "metadata": {
        "id": "MmoDfYpVWvpF"
      },
      "outputs": [],
      "source": [
        "# Doda tokene v Dataset\n",
        "for i in skupna.index:\n",
        "    a = tokenizer(\"parafraza: \"+skupna.at[i,'original'], padding=\"max_length\", truncation=True, max_length=50)\n",
        "    b = tokenizer(skupna.at[i,'parafraza'], padding=\"max_length\", truncation=True, max_length=50)\n",
        "    skupna.at[i,'input_ids'] = a.input_ids\n",
        "    skupna.at[i,'attention_mask'] = a.attention_mask\n",
        "    skupna.at[i,'labels'] = b.input_ids\n",
        "    skupna.at[i,'decoder_attention_mask'] = b.attention_mask"
      ]
    },
    {
      "cell_type": "code",
      "execution_count": null,
      "metadata": {
        "id": "qLqXxFLIWxb8"
      },
      "outputs": [],
      "source": [
        "# Zbriše nepotrebne kolone v Datasetu\n",
        "skupna = skupna.drop(['original','anprevod','parafraza'],axis=1)"
      ]
    },
    {
      "cell_type": "code",
      "execution_count": null,
      "metadata": {
        "id": "km4vPWdcWy9J"
      },
      "outputs": [],
      "source": [
        "# Pretvorba in pandas dataframe v arrow dataset \n",
        "a = pa.Table.from_pandas(skupna)\n",
        "skupni_dataset = Dataset(a)"
      ]
    },
    {
      "cell_type": "code",
      "execution_count": null,
      "metadata": {
        "colab": {
          "base_uri": "https://localhost:8080/"
        },
        "id": "-i1X6DI9W0X0",
        "outputId": "9aa8eb8e-3d31-4230-8dd1-6220fa8b9c70"
      },
      "outputs": [
        {
          "output_type": "stream",
          "name": "stdout",
          "text": [
            "7755\n"
          ]
        }
      ],
      "source": [
        "# Tukaj izračuna koliko je 10% od vseh stavkov v bazi.\n",
        "st_train = int(len(skupni_dataset)*0.7)\n",
        "print(st_train)"
      ]
    },
    {
      "cell_type": "code",
      "execution_count": null,
      "metadata": {
        "id": "IoIqAnbLW1-B"
      },
      "outputs": [],
      "source": [
        "skupni_dataset.set_format(\"torch\")"
      ]
    },
    {
      "cell_type": "code",
      "execution_count": null,
      "metadata": {
        "id": "COuwUNoeW2d2"
      },
      "outputs": [],
      "source": [
        "# izberem 70% za train in 30 za val\n",
        "#moj_train_dataset = skupni_dataset.shuffle(seed=42).select(range(st_train))\n",
        "#moj_val_dataset = skupni_dataset.shuffle(seed=42).select(range(len(skupni_dataset)-st_train))\n",
        "\n",
        "#Lahko vzamem tudi fiksno število primerov\n",
        "moj_train_dataset = skupni_dataset.shuffle(seed=42).select(range(10000))\n",
        "moj_val_dataset = skupni_dataset.shuffle(seed=42).select(range(1000))"
      ]
    },
    {
      "cell_type": "code",
      "execution_count": null,
      "metadata": {
        "colab": {
          "base_uri": "https://localhost:8080/"
        },
        "id": "-irhFPrrW7ct",
        "outputId": "77dfc9e7-4223-4966-8b32-53d2d0a330cf"
      },
      "outputs": [
        {
          "output_type": "stream",
          "name": "stdout",
          "text": [
            "Dataset({\n",
            "    features: ['input_ids', 'attention_mask', 'labels', 'decoder_attention_mask'],\n",
            "    num_rows: 10000\n",
            "})\n",
            "Dataset({\n",
            "    features: ['input_ids', 'attention_mask', 'labels', 'decoder_attention_mask'],\n",
            "    num_rows: 1000\n",
            "})\n"
          ]
        }
      ],
      "source": [
        "print(moj_train_dataset)\n",
        "print(moj_val_dataset)"
      ]
    },
    {
      "cell_type": "code",
      "execution_count": null,
      "metadata": {
        "id": "1Z3rxlLaXAra"
      },
      "outputs": [],
      "source": [
        "# Spremeni podatke v primerno obliko\n",
        "\n",
        "train_dataloader = DataLoader(moj_train_dataset, shuffle=True, batch_size=64)\n",
        "eval_dataloader = DataLoader(moj_val_dataset, batch_size=64)"
      ]
    },
    {
      "cell_type": "code",
      "execution_count": null,
      "metadata": {
        "colab": {
          "base_uri": "https://localhost:8080/"
        },
        "id": "cRzCzBzLZTXL",
        "outputId": "a19fceed-7eb9-4170-8549-c0c6c1fdf4ca"
      },
      "outputs": [
        {
          "output_type": "stream",
          "name": "stdout",
          "text": [
            "Prilagajam obstoječ model\n"
          ]
        }
      ],
      "source": [
        "from transformers import T5ForConditionalGeneration\n",
        "if novModel:\n",
        "  print(\"Prilagajam nov model.\")\n",
        "  model = T5ForConditionalGeneration.from_pretrained(\"cjvt/t5-sl-small\")\n",
        "else:\n",
        "  print(\"Prilagajam obstoječ model\")\n",
        "  model = T5ForConditionalGeneration.from_pretrained(potDoModela)\n"
      ]
    },
    {
      "cell_type": "code",
      "execution_count": null,
      "metadata": {
        "id": "5iMSKxBNZaNY"
      },
      "outputs": [],
      "source": [
        "from torch.optim import AdamW\n",
        "#optimizer = AdamW(model.parameters(), lr=5e-5)\n",
        "optimizer = AdamW(model.parameters(), lr=3e-4, eps=1e-8)"
      ]
    },
    {
      "cell_type": "code",
      "execution_count": null,
      "metadata": {
        "id": "9BQpkUOVZeqM"
      },
      "outputs": [],
      "source": [
        "from transformers import get_scheduler\n",
        "\n",
        "num_epochs = 50\n",
        "num_training_steps = num_epochs * len(train_dataloader)\n",
        "lr_scheduler = get_scheduler(\n",
        "    name=\"linear\", optimizer=optimizer, num_warmup_steps=0, num_training_steps=num_training_steps\n",
        ")"
      ]
    },
    {
      "cell_type": "code",
      "execution_count": null,
      "metadata": {
        "colab": {
          "base_uri": "https://localhost:8080/"
        },
        "id": "_Xc6_g51Zkwy",
        "outputId": "4eb2e0a0-fd98-4060-a9ac-6ee08557e5a1"
      },
      "outputs": [
        {
          "output_type": "execute_result",
          "data": {
            "text/plain": [
              "T5ForConditionalGeneration(\n",
              "  (shared): Embedding(32000, 512)\n",
              "  (encoder): T5Stack(\n",
              "    (embed_tokens): Embedding(32000, 512)\n",
              "    (block): ModuleList(\n",
              "      (0): T5Block(\n",
              "        (layer): ModuleList(\n",
              "          (0): T5LayerSelfAttention(\n",
              "            (SelfAttention): T5Attention(\n",
              "              (q): Linear(in_features=512, out_features=384, bias=False)\n",
              "              (k): Linear(in_features=512, out_features=384, bias=False)\n",
              "              (v): Linear(in_features=512, out_features=384, bias=False)\n",
              "              (o): Linear(in_features=384, out_features=512, bias=False)\n",
              "              (relative_attention_bias): Embedding(32, 6)\n",
              "            )\n",
              "            (layer_norm): T5LayerNorm()\n",
              "            (dropout): Dropout(p=0.1, inplace=False)\n",
              "          )\n",
              "          (1): T5LayerFF(\n",
              "            (DenseReluDense): T5DenseGatedActDense(\n",
              "              (wi_0): Linear(in_features=512, out_features=1024, bias=False)\n",
              "              (wi_1): Linear(in_features=512, out_features=1024, bias=False)\n",
              "              (wo): Linear(in_features=1024, out_features=512, bias=False)\n",
              "              (dropout): Dropout(p=0.1, inplace=False)\n",
              "              (act): NewGELUActivation()\n",
              "            )\n",
              "            (layer_norm): T5LayerNorm()\n",
              "            (dropout): Dropout(p=0.1, inplace=False)\n",
              "          )\n",
              "        )\n",
              "      )\n",
              "      (1-7): 7 x T5Block(\n",
              "        (layer): ModuleList(\n",
              "          (0): T5LayerSelfAttention(\n",
              "            (SelfAttention): T5Attention(\n",
              "              (q): Linear(in_features=512, out_features=384, bias=False)\n",
              "              (k): Linear(in_features=512, out_features=384, bias=False)\n",
              "              (v): Linear(in_features=512, out_features=384, bias=False)\n",
              "              (o): Linear(in_features=384, out_features=512, bias=False)\n",
              "            )\n",
              "            (layer_norm): T5LayerNorm()\n",
              "            (dropout): Dropout(p=0.1, inplace=False)\n",
              "          )\n",
              "          (1): T5LayerFF(\n",
              "            (DenseReluDense): T5DenseGatedActDense(\n",
              "              (wi_0): Linear(in_features=512, out_features=1024, bias=False)\n",
              "              (wi_1): Linear(in_features=512, out_features=1024, bias=False)\n",
              "              (wo): Linear(in_features=1024, out_features=512, bias=False)\n",
              "              (dropout): Dropout(p=0.1, inplace=False)\n",
              "              (act): NewGELUActivation()\n",
              "            )\n",
              "            (layer_norm): T5LayerNorm()\n",
              "            (dropout): Dropout(p=0.1, inplace=False)\n",
              "          )\n",
              "        )\n",
              "      )\n",
              "    )\n",
              "    (final_layer_norm): T5LayerNorm()\n",
              "    (dropout): Dropout(p=0.1, inplace=False)\n",
              "  )\n",
              "  (decoder): T5Stack(\n",
              "    (embed_tokens): Embedding(32000, 512)\n",
              "    (block): ModuleList(\n",
              "      (0): T5Block(\n",
              "        (layer): ModuleList(\n",
              "          (0): T5LayerSelfAttention(\n",
              "            (SelfAttention): T5Attention(\n",
              "              (q): Linear(in_features=512, out_features=384, bias=False)\n",
              "              (k): Linear(in_features=512, out_features=384, bias=False)\n",
              "              (v): Linear(in_features=512, out_features=384, bias=False)\n",
              "              (o): Linear(in_features=384, out_features=512, bias=False)\n",
              "              (relative_attention_bias): Embedding(32, 6)\n",
              "            )\n",
              "            (layer_norm): T5LayerNorm()\n",
              "            (dropout): Dropout(p=0.1, inplace=False)\n",
              "          )\n",
              "          (1): T5LayerCrossAttention(\n",
              "            (EncDecAttention): T5Attention(\n",
              "              (q): Linear(in_features=512, out_features=384, bias=False)\n",
              "              (k): Linear(in_features=512, out_features=384, bias=False)\n",
              "              (v): Linear(in_features=512, out_features=384, bias=False)\n",
              "              (o): Linear(in_features=384, out_features=512, bias=False)\n",
              "            )\n",
              "            (layer_norm): T5LayerNorm()\n",
              "            (dropout): Dropout(p=0.1, inplace=False)\n",
              "          )\n",
              "          (2): T5LayerFF(\n",
              "            (DenseReluDense): T5DenseGatedActDense(\n",
              "              (wi_0): Linear(in_features=512, out_features=1024, bias=False)\n",
              "              (wi_1): Linear(in_features=512, out_features=1024, bias=False)\n",
              "              (wo): Linear(in_features=1024, out_features=512, bias=False)\n",
              "              (dropout): Dropout(p=0.1, inplace=False)\n",
              "              (act): NewGELUActivation()\n",
              "            )\n",
              "            (layer_norm): T5LayerNorm()\n",
              "            (dropout): Dropout(p=0.1, inplace=False)\n",
              "          )\n",
              "        )\n",
              "      )\n",
              "      (1-7): 7 x T5Block(\n",
              "        (layer): ModuleList(\n",
              "          (0): T5LayerSelfAttention(\n",
              "            (SelfAttention): T5Attention(\n",
              "              (q): Linear(in_features=512, out_features=384, bias=False)\n",
              "              (k): Linear(in_features=512, out_features=384, bias=False)\n",
              "              (v): Linear(in_features=512, out_features=384, bias=False)\n",
              "              (o): Linear(in_features=384, out_features=512, bias=False)\n",
              "            )\n",
              "            (layer_norm): T5LayerNorm()\n",
              "            (dropout): Dropout(p=0.1, inplace=False)\n",
              "          )\n",
              "          (1): T5LayerCrossAttention(\n",
              "            (EncDecAttention): T5Attention(\n",
              "              (q): Linear(in_features=512, out_features=384, bias=False)\n",
              "              (k): Linear(in_features=512, out_features=384, bias=False)\n",
              "              (v): Linear(in_features=512, out_features=384, bias=False)\n",
              "              (o): Linear(in_features=384, out_features=512, bias=False)\n",
              "            )\n",
              "            (layer_norm): T5LayerNorm()\n",
              "            (dropout): Dropout(p=0.1, inplace=False)\n",
              "          )\n",
              "          (2): T5LayerFF(\n",
              "            (DenseReluDense): T5DenseGatedActDense(\n",
              "              (wi_0): Linear(in_features=512, out_features=1024, bias=False)\n",
              "              (wi_1): Linear(in_features=512, out_features=1024, bias=False)\n",
              "              (wo): Linear(in_features=1024, out_features=512, bias=False)\n",
              "              (dropout): Dropout(p=0.1, inplace=False)\n",
              "              (act): NewGELUActivation()\n",
              "            )\n",
              "            (layer_norm): T5LayerNorm()\n",
              "            (dropout): Dropout(p=0.1, inplace=False)\n",
              "          )\n",
              "        )\n",
              "      )\n",
              "    )\n",
              "    (final_layer_norm): T5LayerNorm()\n",
              "    (dropout): Dropout(p=0.1, inplace=False)\n",
              "  )\n",
              "  (lm_head): Linear(in_features=512, out_features=32000, bias=False)\n",
              ")"
            ]
          },
          "metadata": {},
          "execution_count": 20
        }
      ],
      "source": [
        "import torch\n",
        "\n",
        "device = torch.device(\"cuda\") if torch.cuda.is_available() else torch.device(\"cpu\")\n",
        "model.to(device)"
      ]
    },
    {
      "cell_type": "code",
      "execution_count": null,
      "metadata": {
        "colab": {
          "base_uri": "https://localhost:8080/",
          "height": 1000,
          "referenced_widgets": [
            "df37eae22eb444f6b4faecdbaf431dfb",
            "087c5d748013466aa55c1a7a5beda1aa",
            "5e817fa6c0404c66bb1172735969166b",
            "97ca55bac5e7408eb8e8d4991c11218f",
            "001f92ab4ab64d1c9f2ad6fa593ac217",
            "e0d68dc57da644e587a16039f88c6ca5",
            "c7689928d27c486f92e85f5d74eb6fd4",
            "dab42b73c3c84d7dbeae5525da37e758",
            "15ea5d46c9bf4b328d01fe18d0414895",
            "c6145f3b4faa47249f585f8ef9aedfe9",
            "e9d7c40c2bbe49a590fe16dbcecbe6ac"
          ]
        },
        "id": "D0TDZvigZsyc",
        "outputId": "62459da8-8b70-4295-f8fc-98f43e0742b5"
      },
      "outputs": [
        {
          "output_type": "display_data",
          "data": {
            "text/plain": [
              "  0%|          | 0/7850 [00:00<?, ?it/s]"
            ],
            "application/vnd.jupyter.widget-view+json": {
              "version_major": 2,
              "version_minor": 0,
              "model_id": "df37eae22eb444f6b4faecdbaf431dfb"
            }
          },
          "metadata": {}
        },
        {
          "output_type": "stream",
          "name": "stdout",
          "text": [
            "0\n",
            "{'bleu': 0.9772802871309195, 'precisions': [0.9888964055382673, 0.9803030992581805, 0.9730675607403665, 0.9670606776989755], 'brevity_penalty': 0.9999819602042109, 'length_ratio': 0.9999819603669261, 'translation_length': 110865, 'reference_length': 110867}\n",
            "1\n",
            "{'bleu': 1.0, 'precisions': [1.0, 1.0, 1.0, 1.0], 'brevity_penalty': 1.0, 'length_ratio': 1.0, 'translation_length': 110867, 'reference_length': 110867}\n",
            "2\n",
            "{'bleu': 1.0, 'precisions': [1.0, 1.0, 1.0, 1.0], 'brevity_penalty': 1.0, 'length_ratio': 1.0, 'translation_length': 110867, 'reference_length': 110867}\n",
            "3\n",
            "{'bleu': 1.0, 'precisions': [1.0, 1.0, 1.0, 1.0], 'brevity_penalty': 1.0, 'length_ratio': 1.0, 'translation_length': 110867, 'reference_length': 110867}\n",
            "4\n",
            "{'bleu': 1.0, 'precisions': [1.0, 1.0, 1.0, 1.0], 'brevity_penalty': 1.0, 'length_ratio': 1.0, 'translation_length': 110867, 'reference_length': 110867}\n",
            "5\n",
            "{'bleu': 1.0, 'precisions': [1.0, 1.0, 1.0, 1.0], 'brevity_penalty': 1.0, 'length_ratio': 1.0, 'translation_length': 110867, 'reference_length': 110867}\n",
            "6\n",
            "{'bleu': 1.0, 'precisions': [1.0, 1.0, 1.0, 1.0], 'brevity_penalty': 1.0, 'length_ratio': 1.0, 'translation_length': 110867, 'reference_length': 110867}\n",
            "7\n",
            "{'bleu': 1.0, 'precisions': [1.0, 1.0, 1.0, 1.0], 'brevity_penalty': 1.0, 'length_ratio': 1.0, 'translation_length': 110867, 'reference_length': 110867}\n",
            "8\n",
            "{'bleu': 1.0, 'precisions': [1.0, 1.0, 1.0, 1.0], 'brevity_penalty': 1.0, 'length_ratio': 1.0, 'translation_length': 110867, 'reference_length': 110867}\n",
            "9\n",
            "{'bleu': 1.0, 'precisions': [1.0, 1.0, 1.0, 1.0], 'brevity_penalty': 1.0, 'length_ratio': 1.0, 'translation_length': 110867, 'reference_length': 110867}\n",
            "10\n",
            "{'bleu': 1.0, 'precisions': [1.0, 1.0, 1.0, 1.0], 'brevity_penalty': 1.0, 'length_ratio': 1.0, 'translation_length': 110867, 'reference_length': 110867}\n",
            "11\n",
            "{'bleu': 1.0, 'precisions': [1.0, 1.0, 1.0, 1.0], 'brevity_penalty': 1.0, 'length_ratio': 1.0, 'translation_length': 110867, 'reference_length': 110867}\n",
            "12\n",
            "{'bleu': 1.0, 'precisions': [1.0, 1.0, 1.0, 1.0], 'brevity_penalty': 1.0, 'length_ratio': 1.0, 'translation_length': 110867, 'reference_length': 110867}\n",
            "13\n",
            "{'bleu': 1.0, 'precisions': [1.0, 1.0, 1.0, 1.0], 'brevity_penalty': 1.0, 'length_ratio': 1.0, 'translation_length': 110867, 'reference_length': 110867}\n",
            "14\n",
            "{'bleu': 1.0, 'precisions': [1.0, 1.0, 1.0, 1.0], 'brevity_penalty': 1.0, 'length_ratio': 1.0, 'translation_length': 110867, 'reference_length': 110867}\n",
            "15\n",
            "{'bleu': 1.0, 'precisions': [1.0, 1.0, 1.0, 1.0], 'brevity_penalty': 1.0, 'length_ratio': 1.0, 'translation_length': 110867, 'reference_length': 110867}\n",
            "16\n",
            "{'bleu': 1.0, 'precisions': [1.0, 1.0, 1.0, 1.0], 'brevity_penalty': 1.0, 'length_ratio': 1.0, 'translation_length': 110867, 'reference_length': 110867}\n",
            "17\n",
            "{'bleu': 1.0, 'precisions': [1.0, 1.0, 1.0, 1.0], 'brevity_penalty': 1.0, 'length_ratio': 1.0, 'translation_length': 110867, 'reference_length': 110867}\n",
            "18\n",
            "{'bleu': 1.0, 'precisions': [1.0, 1.0, 1.0, 1.0], 'brevity_penalty': 1.0, 'length_ratio': 1.0, 'translation_length': 110867, 'reference_length': 110867}\n",
            "19\n",
            "{'bleu': 1.0, 'precisions': [1.0, 1.0, 1.0, 1.0], 'brevity_penalty': 1.0, 'length_ratio': 1.0, 'translation_length': 110867, 'reference_length': 110867}\n",
            "20\n",
            "{'bleu': 1.0, 'precisions': [1.0, 1.0, 1.0, 1.0], 'brevity_penalty': 1.0, 'length_ratio': 1.0, 'translation_length': 110867, 'reference_length': 110867}\n",
            "21\n",
            "{'bleu': 1.0, 'precisions': [1.0, 1.0, 1.0, 1.0], 'brevity_penalty': 1.0, 'length_ratio': 1.0, 'translation_length': 110867, 'reference_length': 110867}\n",
            "22\n",
            "{'bleu': 1.0, 'precisions': [1.0, 1.0, 1.0, 1.0], 'brevity_penalty': 1.0, 'length_ratio': 1.0, 'translation_length': 110867, 'reference_length': 110867}\n",
            "23\n",
            "{'bleu': 1.0, 'precisions': [1.0, 1.0, 1.0, 1.0], 'brevity_penalty': 1.0, 'length_ratio': 1.0, 'translation_length': 110867, 'reference_length': 110867}\n",
            "24\n",
            "{'bleu': 1.0, 'precisions': [1.0, 1.0, 1.0, 1.0], 'brevity_penalty': 1.0, 'length_ratio': 1.0, 'translation_length': 110867, 'reference_length': 110867}\n",
            "25\n",
            "{'bleu': 1.0, 'precisions': [1.0, 1.0, 1.0, 1.0], 'brevity_penalty': 1.0, 'length_ratio': 1.0, 'translation_length': 110867, 'reference_length': 110867}\n",
            "26\n",
            "{'bleu': 0.9999564903232269, 'precisions': [0.9999639207338523, 0.9999635923434699, 0.9999540724002682, 0.9999443759444501], 'brevity_penalty': 1.0, 'length_ratio': 1.0, 'translation_length': 110867, 'reference_length': 110867}\n",
            "27\n",
            "{'bleu': 0.9998471916983801, 'precisions': [0.9999007784382526, 0.9998907730537123, 0.9998805838530997, 0.9998609347042081], 'brevity_penalty': 0.9999639200829878, 'length_ratio': 0.9999639207338523, 'translation_length': 110863, 'reference_length': 110867}\n",
            "28\n",
            "{'bleu': 0.9997756686867629, 'precisions': [0.9998196215660455, 0.9997906769325979, 0.999761200609857, 0.9997311778119727], 'brevity_penalty': 1.0, 'length_ratio': 1.0000992179819062, 'translation_length': 110878, 'reference_length': 110867}\n",
            "29\n",
            "{'bleu': 0.99996373296112, 'precisions': [1.0, 0.9999908978373262, 0.9999908142269254, 0.9999814581324631], 'brevity_penalty': 0.9999729401842791, 'length_ratio': 0.9999729405503892, 'translation_length': 110864, 'reference_length': 110867}\n",
            "30\n",
            "{'bleu': 0.9989750481470276, 'precisions': [0.9995309441552935, 0.9991989878118713, 0.998860932749102, 0.9985258805314247], 'brevity_penalty': 0.9999458796363244, 'length_ratio': 0.9999458811007784, 'translation_length': 110861, 'reference_length': 110867}\n",
            "31\n",
            "{'bleu': 0.9988643270381926, 'precisions': [0.9994227733934611, 0.9990352673492605, 0.9986681974741676, 0.9983314020857474], 'brevity_penalty': 1.0, 'length_ratio': 1.0000721585322954, 'translation_length': 110875, 'reference_length': 110867}\n",
            "32\n",
            "{'bleu': 0.9996970361644807, 'precisions': [0.9998556842371108, 0.9997542505552117, 0.9996417680126392, 0.9995364705009827], 'brevity_penalty': 1.0, 'length_ratio': 1.000009019816537, 'translation_length': 110868, 'reference_length': 110867}\n",
            "33\n",
            "{'bleu': 0.9998579241618579, 'precisions': [0.9999278408168419, 0.9998907760362623, 0.9998438447265445, 0.9998053140007046], 'brevity_penalty': 0.9999909801427843, 'length_ratio': 0.9999909801834631, 'translation_length': 110866, 'reference_length': 110867}\n",
            "34\n",
            "{'bleu': 0.9999106831048911, 'precisions': [0.9999549005105263, 0.999936286021153, 0.999908143956791, 0.9998794800956743], 'brevity_penalty': 0.9999909801427843, 'length_ratio': 0.9999909801834631, 'translation_length': 110866, 'reference_length': 110867}\n",
            "35\n",
            "{'bleu': 0.9999106831048911, 'precisions': [0.9999549005105263, 0.999936286021153, 0.999908143956791, 0.9998794800956743], 'brevity_penalty': 0.9999909801427843, 'length_ratio': 0.9999909801834631, 'translation_length': 110866, 'reference_length': 110867}\n",
            "36\n",
            "{'bleu': 1.0, 'precisions': [1.0, 1.0, 1.0, 1.0], 'brevity_penalty': 1.0, 'length_ratio': 1.0, 'translation_length': 110867, 'reference_length': 110867}\n",
            "37\n",
            "{'bleu': 1.0, 'precisions': [1.0, 1.0, 1.0, 1.0], 'brevity_penalty': 1.0, 'length_ratio': 1.0, 'translation_length': 110867, 'reference_length': 110867}\n",
            "38\n",
            "{'bleu': 1.0, 'precisions': [1.0, 1.0, 1.0, 1.0], 'brevity_penalty': 1.0, 'length_ratio': 1.0, 'translation_length': 110867, 'reference_length': 110867}\n",
            "39\n",
            "{'bleu': 1.0, 'precisions': [1.0, 1.0, 1.0, 1.0], 'brevity_penalty': 1.0, 'length_ratio': 1.0, 'translation_length': 110867, 'reference_length': 110867}\n",
            "40\n",
            "{'bleu': 1.0, 'precisions': [1.0, 1.0, 1.0, 1.0], 'brevity_penalty': 1.0, 'length_ratio': 1.0, 'translation_length': 110867, 'reference_length': 110867}\n",
            "41\n",
            "{'bleu': 1.0, 'precisions': [1.0, 1.0, 1.0, 1.0], 'brevity_penalty': 1.0, 'length_ratio': 1.0, 'translation_length': 110867, 'reference_length': 110867}\n",
            "42\n",
            "{'bleu': 1.0, 'precisions': [1.0, 1.0, 1.0, 1.0], 'brevity_penalty': 1.0, 'length_ratio': 1.0, 'translation_length': 110867, 'reference_length': 110867}\n",
            "43\n",
            "{'bleu': 1.0, 'precisions': [1.0, 1.0, 1.0, 1.0], 'brevity_penalty': 1.0, 'length_ratio': 1.0, 'translation_length': 110867, 'reference_length': 110867}\n",
            "44\n",
            "{'bleu': 1.0, 'precisions': [1.0, 1.0, 1.0, 1.0], 'brevity_penalty': 1.0, 'length_ratio': 1.0, 'translation_length': 110867, 'reference_length': 110867}\n",
            "45\n",
            "{'bleu': 1.0, 'precisions': [1.0, 1.0, 1.0, 1.0], 'brevity_penalty': 1.0, 'length_ratio': 1.0, 'translation_length': 110867, 'reference_length': 110867}\n",
            "46\n",
            "{'bleu': 1.0, 'precisions': [1.0, 1.0, 1.0, 1.0], 'brevity_penalty': 1.0, 'length_ratio': 1.0, 'translation_length': 110867, 'reference_length': 110867}\n",
            "47\n",
            "{'bleu': 1.0, 'precisions': [1.0, 1.0, 1.0, 1.0], 'brevity_penalty': 1.0, 'length_ratio': 1.0, 'translation_length': 110867, 'reference_length': 110867}\n",
            "48\n",
            "{'bleu': 1.0, 'precisions': [1.0, 1.0, 1.0, 1.0], 'brevity_penalty': 1.0, 'length_ratio': 1.0, 'translation_length': 110867, 'reference_length': 110867}\n",
            "49\n",
            "{'bleu': 1.0, 'precisions': [1.0, 1.0, 1.0, 1.0], 'brevity_penalty': 1.0, 'length_ratio': 1.0, 'translation_length': 110867, 'reference_length': 110867}\n"
          ]
        }
      ],
      "source": [
        "from tqdm.auto import tqdm\n",
        "\n",
        "progress_bar = tqdm(range(num_training_steps))\n",
        "\n",
        "model.train()\n",
        "for epoch in range(num_epochs):\n",
        "    print(epoch)\n",
        "    for batch in train_dataloader:\n",
        "        batch = {k: v.to(device) for k, v in batch.items()}\n",
        "        #print(batch)\n",
        "        outputs = model(**batch)\n",
        "        loss = outputs.loss\n",
        "        loss.backward()\n",
        "\n",
        "        optimizer.step()\n",
        "        lr_scheduler.step()\n",
        "        optimizer.zero_grad()\n",
        "        progress_bar.update(1)\n",
        "\n",
        "    metric = evaluate.load(\"bleu\")\n",
        "    model.eval()\n",
        "    for batch in eval_dataloader:\n",
        "      napovedi = []\n",
        "      resnice = []\n",
        "      batch = {k: v.to(device) for k, v in batch.items()}\n",
        "      with torch.no_grad():\n",
        "        outputs = model(**batch)\n",
        "\n",
        "      logits = outputs.logits\n",
        "      predictions = torch.argmax(logits, dim=-1)\n",
        "      for i in predictions:\n",
        "        napovedi.append(tokenizer.decode(i.tolist()))\n",
        "      predikcija = predictions[0].tolist()\n",
        "      #predikcija = tf_sp.detokenize(predikcija)\n",
        "      predikcija = [tokenizer.decode(predikcija)]\n",
        "      zares = batch[\"labels\"].tolist()\n",
        "      for i in zares:\n",
        "        resnice.append(tokenizer.decode(i))\n",
        "      metric.add_batch(predictions=napovedi, references=resnice)\n",
        "\n",
        "    rez = metric.compute()\n",
        "    print(rez)"
      ]
    },
    {
      "cell_type": "code",
      "execution_count": null,
      "metadata": {
        "id": "dum6_1CDxjRD"
      },
      "outputs": [],
      "source": [
        "# Shranjevanje modela na Google drive\n",
        "\n",
        "potZaModel = \"/content/gdrive/MyDrive/NLP/\"+dt.now().isoformat()\n",
        "\n",
        "\n",
        "model.save_pretrained(potZaModel, from_pt=True) \n"
      ]
    },
    {
      "cell_type": "code",
      "execution_count": null,
      "metadata": {
        "colab": {
          "base_uri": "https://localhost:8080/",
          "height": 130
        },
        "id": "SsnAWxKeXHIB",
        "outputId": "701d051f-bacd-4505-cfc9-01f9cfddf53c"
      },
      "outputs": [
        {
          "output_type": "error",
          "ename": "SyntaxError",
          "evalue": "ignored",
          "traceback": [
            "\u001b[0;36m  File \u001b[0;32m\"<ipython-input-23-00e9ca97f99c>\"\u001b[0;36m, line \u001b[0;32m1\u001b[0m\n\u001b[0;31m    Ta stavek je tu samo zato, da se izvajanje ustavi in preverjanje požene ročno\u001b[0m\n\u001b[0m       ^\u001b[0m\n\u001b[0;31mSyntaxError\u001b[0m\u001b[0;31m:\u001b[0m invalid syntax\n"
          ]
        }
      ],
      "source": [
        "Ta stavek je tu samo zato, da se izvajanje ustavi in preverjanje požene ročno"
      ]
    },
    {
      "cell_type": "code",
      "execution_count": null,
      "metadata": {
        "id": "0yMO3wAPqu3t"
      },
      "outputs": [],
      "source": [
        "stavkiZaPara = []\n",
        "stavkiZaPara.append(\"Še nobeni vladi ni uspelo odpraviti dopolnilnega zdravstvenega zavarovanja, ki v resnici sploh ni zavarovanje.\")\n",
        "stavkiZaPara.append(\"Bila so čisto navadna torkova večerna poročila na POP TV, torej oddaja 24ur, in je Darja Zgonc čisto mirno, kot da napoveduje, da vreme pač bo, izrekla naslednjo napoved prispevka.\")\n",
        "stavkiZaPara.append(\"Življenje samohranilke z dvema otrokoma se vrti nevarno blizu roba.\")\n",
        "stavkiZaPara.append(\"Janez Vogrinc je dekan Pedagoške fakultete v Ljubljani. \")\n",
        "stavkiZaPara.append(\"Je tudi vodja delovne skupine za pripravo novega nacionalnega programa vzgoje in izobraževanja za obdobje 2023–2033, ki jo je oblikovalo resorno ministrstvo.\")\n",
        "stavkiZaPara.append(\"Glasbeni megahit, ki ga je še danes mogoče slišati na številnih plesiščih (ali pa vsaj po radijskih valovih), je opeval tradicionalno moške lastnosti in njihove adute.\")\n",
        "stavkiZaPara.append(\"Upravno sodišče je sredi letošnjega januarja izdalo odločbo, v kateri je ugodilo tožbi kmeta, ki mu je bilo razlaščeno 17.785 kvadratnih metrov kmetijskega zemljišča v korist Občine Hoče - Slivnica.\")\n",
        "stavkiZaPara.append(\"V okviru 14. Dneva za spremembe Slovenska filantropija po vsej Sloveniji organizira akcije, ki spodbujajo državljane k aktivnemu odzivu na potrebe svoje skupnosti.\")\n",
        "stavkiZaPara.append(\"Slovenijo je zajela protestniška inflacija.\")\n",
        "stavkiZaPara.append(\"Protestov je čedalje več, njihova vrednost pa je čedalje manjša.\")"
      ]
    },
    {
      "cell_type": "code",
      "execution_count": null,
      "metadata": {
        "colab": {
          "base_uri": "https://localhost:8080/"
        },
        "id": "h2XS156pqyGf",
        "outputId": "b8d77039-e117-40a9-9780-2e76a03391c1"
      },
      "outputs": [
        {
          "output_type": "stream",
          "name": "stderr",
          "text": [
            "/usr/local/lib/python3.10/dist-packages/transformers/tokenization_utils_base.py:2364: FutureWarning: The `pad_to_max_length` argument is deprecated and will be removed in a future version, use `padding=True` or `padding='longest'` to pad to the longest sequence in the batch, or use `padding='max_length'` to pad to a max length. In this case, you can give a specific length with `max_length` (e.g. `max_length=45`) or leave max_length to None to pad to the maximal input size of the model (e.g. 512 for Bert).\n",
            "  warnings.warn(\n"
          ]
        },
        {
          "output_type": "stream",
          "name": "stdout",
          "text": [
            "\n",
            "Originalni stavek:\n",
            "Še nobeni vladi ni uspelo odpraviti dopolnilnega zdravstvenega zavarovanja, ki v resnici sploh ni zavarovanje.\n",
            "\n",
            "\n",
            "Parafrazirani stavki:\n",
            "0: Še nobena vlada ni uspela ukiniti dopolnilnega zdravstvenega zavarovanja, ki dejansko ni zavarovanje.\n",
            "1: Še nobena vlada ni uspela ukiniti dopolnilnega zdravstvenega zavarovanja, ki v resnici ni zavarovanje.\n",
            "\n",
            "-----------------------\n",
            "\n",
            "\n",
            "Originalni stavek:\n",
            "Bila so čisto navadna torkova večerna poročila na POP TV, torej oddaja 24ur, in je Darja Zgonc čisto mirno, kot da napoveduje, da vreme pač bo, izrekla naslednjo napoved prispevka.\n",
            "\n",
            "\n",
            "Parafrazirani stavki:\n",
            "0: Bila so navadna torkova večerna poročila na POP TV, torej 24ur, in Darja Zgonc je mirno, kot da bi rekla, da je vreme to res, in Darja Zgonc je bila tiho, kot da bi rekla, da bo vreme jutri, rekla naslednja napoved prispevka.\n",
            "1: Bila so navadna torkova večerna poročila na POP TV, torej 24ur, in Darja Zgonc mirno, kot da bi rekla, da bo vreme to, in Darja Zgonc mirno rekla, da bo vreme, in Darja Zgonc je mirno rekla, da bo vreme jutri, sprejela naslednjo napoved za prispevek.\n",
            "2: Bila so navadna torkova večerna poročila na POP TV, torej 24ur, in Darja Zgonc je mirno, kot da bi rekla, da je vreme to res, in Darja Zgonc je mirno, kot da bi rekla, da je vreme mogoče, sprejela naslednjo napoved za prispevek.\n",
            "3: Bila so navadna torkova večerna poročila na POP TV, torej 24ur, in Darja Zgonc mirno, kot da bi rekla, da je vreme res takšno, in Da bi rekla naslednja napoved prispevka, je Darja Zgonc mirno rekla, da bo vreme to napoved, in Darja Zgonc je mirno rekla, da bo vreme to, in Darja Zgonc je bila takoj za tem, ko napoveduje vreme, da bo vreme, sprejela naslednjo napoved za prispevek.\n",
            "4: Bila so navadna torkova večerna poročila na POP TV, torej 24ur, in Darja Zgonc je mirno, kot da bi rekla, da bo vreme jutri, rekla naslednja napoved prispevka.\n",
            "5: Bila so navadna torkova večerna poročila na POP TV, torej 24ur, in Darja Zgonc je mirno, kot da bi rekla, da je vreme to že zdaj vreme, in Darja Zgonc je mirno rekla, da bo vreme to, in Darja Zgonc je bila tiho, kot da bi rekla, da bo vreme to, in Darja Zgonc je bila takoj za tem, ko napovednik oddaje, sprejela naslednjo napoved za prispevek.\n",
            "6: Bila so navadna torkova večerna poročila na POP TV, v kateri je bila Darja Zgonc mirno, kot da bi napovedovala vreme, in Darja Zgonc mirno, kot da bi rekla, da je vreme to mogoče, sprejela naslednjo napoved za prispevek.\n",
            "7: Bila so navadna torkova večerna poročila na POP TV, v kateri je bila Darja Zgonc mirno, kot da bi rekla, da je vreme to že zdaj vreme, in Darja Zgonc mirno, kot da bi napovedala, da bo vreme to, sprejela naslednjo napoved za prispevek.\n",
            "8: Bila so navadna torkova večerna poročila na POP TV, torej 24ur, in Darja Zgonc je mirno, kot da bi rekla, da je vreme jutri, sprejela naslednjo napoved za prispevek.\n",
            "9: Bila so navadna torkova večerna poročila na POP TV, v kateri je bila Darja Zgonc mirno, kot da bi rekla, da bo vreme jutri, in Darja Zgonc mirno, kot da napoveduje vreme, je Napoved programa rekla Darja Zgonc.\n",
            "\n",
            "-----------------------\n",
            "\n",
            "\n",
            "Originalni stavek:\n",
            "Življenje samohranilke z dvema otrokoma se vrti nevarno blizu roba.\n",
            "\n",
            "\n",
            "Parafrazirani stavki:\n",
            "0: Življenjski prostor samohranilke z dvema otrokoma se giblje nevarno blizu roba.\n",
            "1: Življenjski prostor maternice z dvema otrokoma se zelo približa robu.\n",
            "2: Življenjski slog maternice z dvema otrokoma se giblje nevarno blizu roba.\n",
            "3: Življenjski tempo matere z dvema otrokoma se nevarno približa robu.\n",
            "4: Življenjski slog maternice z dvema otrokoma se nevarno približuje robu.\n",
            "5: Življenjski slog matere z dvema otrokoma se giblje nevarno blizu roba.\n",
            "6: Življenje samohranilke z dvema otrokoma se giblje nevarno blizu roba.\n",
            "7: Življenjski prostor samohranilke z dvema otrokoma se zelo oddaljuje.\n",
            "8: Življenjski prostor maternice z dvema otrokoma se giblje zelo blizu roba.\n",
            "\n",
            "-----------------------\n",
            "\n",
            "\n",
            "Originalni stavek:\n",
            "Janez Vogrinc je dekan Pedagoške fakultete v Ljubljani. \n",
            "\n",
            "\n",
            "Parafrazirani stavki:\n",
            "0: Janez Vogrinc je dekan Pedagoške fakultete v Ljubljani.\n",
            "\n",
            "-----------------------\n",
            "\n",
            "\n",
            "Originalni stavek:\n",
            "Je tudi vodja delovne skupine za pripravo novega nacionalnega programa vzgoje in izobraževanja za obdobje 2023–2033, ki jo je oblikovalo resorno ministrstvo.\n",
            "\n",
            "\n",
            "Parafrazirani stavki:\n",
            "0: Je tudi vodja delovne skupine za pripravo novega nacionalnega programa vzgoje in izobraževanja za obdobje 2023–2033, ki ga je naročilo ministrstvo za izobraževanje.\n",
            "1: Je tudi vodja delovne skupine za pripravo novega nacionalnega programa za izobraževanje za obdobje 2023–2033, ki ga je ministrstvo za izobraževanje odobrilo.\n",
            "2: Je tudi vodja delovne skupine za pripravo novega nacionalnega programa vzgoje in izobraževanja za obdobje 2023–2033, ki ga je oblikovalo ministrstvo za izobraževanje.\n",
            "3: Je tudi vodja delovne skupine za pripravo novega nacionalnega programa za izobraževanje za obdobje 2023–2033, ki ga je naročilo ministrstvo za izobraževanje.\n",
            "4: Je tudi vodja delovne skupine za pripravo novega nacionalnega programa vzgoje in izobraževanja za obdobje 2023–2033, ki ga je ministrstvo za izobraževanje odobrilo.\n",
            "5: Je tudi vodja delovne skupine za pripravo novega nacionalnega programa vzgoje in izobraževanja za obdobje 2023–2033, ki jo je oblikovalo ministrstvo za izobraževanje.\n",
            "\n",
            "-----------------------\n",
            "\n",
            "\n",
            "Originalni stavek:\n",
            "Glasbeni megahit, ki ga je še danes mogoče slišati na številnih plesiščih (ali pa vsaj po radijskih valovih), je opeval tradicionalno moške lastnosti in njihove adute.\n",
            "\n",
            "\n",
            "Parafrazirani stavki:\n",
            "0: Glasbeni megahit, ki se ga da še danes slišati na številnih plesiščih (ali vsaj na nekaterih radijskih valovih).\n",
            "1: Glasbeni megahit, ki ga je mogoče slišati na številnih plesiščih (ali vsaj na radijski postaji), je opeval tradicionalno moško plat glasbe.\n",
            "2: Glasbeni megahit, ki ga je mogoče slišati na številnih plesiščih (ali vsaj na nekaterih radijskih valovih), je opeval tradicionalno moško moč in njihove adute.\n",
            "3: Glasbeni megahit, ki ga je še danes mogoče slišati na številnih plesiščih (ali vsaj na radijski postaji).\n",
            "4: Glasbeni megahit, ki se ga da slišati na številnih plesiščih (ali vsaj na radijski postaji), je opeval tradicionalno moško naravo in njihove adute.\n",
            "5: Glasbeni megahit, ki ga je še danes mogoče slišati na številnih plesiščih (ali vsaj na nekaterih radijskih valovih).\n",
            "6: Glasbeni megahit, ki se ga da še danes slišati na številnih plesiščih (ali vsaj po radijski zvezi), je še danes priljubljen na številnih plesiščih (ali vsaj po radijski zvezi).\n",
            "7: Glasbeni megahit, ki ga lahko še danes slišimo na številnih plesiščih (ali vsaj po radijski zvezi), je še danes priljubljen na številnih plesiščih (ali vsaj po radijski zvezi).\n",
            "8: Glasbeni megahit, ki ga je mogoče slišati na številnih plesiščih (ali vsaj na radijski postaji), je opeval tradicionalno moško naravo in njihove adute.\n",
            "\n",
            "-----------------------\n",
            "\n",
            "\n",
            "Originalni stavek:\n",
            "Upravno sodišče je sredi letošnjega januarja izdalo odločbo, v kateri je ugodilo tožbi kmeta, ki mu je bilo razlaščeno 17.785 kvadratnih metrov kmetijskega zemljišča v korist Občine Hoče - Slivnica.\n",
            "\n",
            "\n",
            "Parafrazirani stavki:\n",
            "0: Upravno sodišče je sredi lanskega januarja zavrnilo tožbo kmeta, ki mu je bilo izropano 17.855 kvadratnih metrov kmetijskega zemljišča v korist Občine Hoče - Slivnica.\n",
            "1: Upravno sodišče je sredi lanskega januarja zavrnilo tožbo kmeta, ki mu je bilo vrnjeno 17.785 kvadratnih metrov kmetijskega zemljišča v korist Občine Hoče - Slivnica.\n",
            "2: Upravno sodišče je sredi letošnjega januarja zavrnilo tožbo kmeta, ki mu je bilo izropano 17.855 kvadratnih metrov kmetijskega zemljišča v korist Občine Hoče - Slivnica.\n",
            "3: Upravno sodišče je sredi letošnjega januarja zavrnilo tožbo kmeta, ki mu je bilo 17.755 kvadratnih metrov kmetijskega zemljišča v korist Občine Hoče - Slivnica.\n",
            "4: Upravno sodišče je sredi letošnjega januarja zavrnilo tožbo kmeta, ki mu je bilo izropal 17.855 kvadratnih metrov kmetijskega zemljišča v korist Občine Hoče - Slivnica.\n",
            "5: Upravno sodišče je sredi letošnjega januarja zavrnilo tožbo kmeta, ki mu je bilo zaplenjeno 17.825 kvadratnih metrov kmetijskega zemljišča v korist Občine Hoče - Slivnica.\n",
            "\n",
            "-----------------------\n",
            "\n",
            "\n",
            "Originalni stavek:\n",
            "V okviru 14. Dneva za spremembe Slovenska filantropija po vsej Sloveniji organizira akcije, ki spodbujajo državljane k aktivnemu odzivu na potrebe svoje skupnosti.\n",
            "\n",
            "\n",
            "Parafrazirani stavki:\n",
            "0: V okviru 14. Dneva za spremembe Slovenska filantropija po vsej Sloveniji organizira dogodke, ki spodbujajo državljane k aktivnemu odzivu na potrebe svoje skupnosti.\n",
            "1: V okviru 14. dneva za spremembe Slovenska filantropija po vsej Sloveniji organizira dogodke, ki spodbujajo državljane k aktivnemu odzivu na potrebe svoje skupnosti.\n",
            "\n",
            "-----------------------\n",
            "\n",
            "\n",
            "Originalni stavek:\n",
            "Slovenijo je zajela protestniška inflacija.\n",
            "\n",
            "\n",
            "Parafrazirani stavki:\n",
            "0: Slovenija je presegla proračunski primanjkljaj.\n",
            "1: Slovenijo je zajela visoka inflacija.\n",
            "\n",
            "-----------------------\n",
            "\n",
            "\n",
            "Originalni stavek:\n",
            "Protestov je čedalje več, njihova vrednost pa je čedalje manjša.\n",
            "\n",
            "\n",
            "Parafrazirani stavki:\n",
            "0: Protest je vse pogostejši in njihova vrednost se povečuje.\n",
            "1: Prostijev je vse več, njihova vrednost pa je vse manjša.\n",
            "2: Prometnih nemirov je vedno več, njihove vrednosti pa so vse manjše.\n",
            "3: Promete je vedno več, njihova vrednost pa je vse manjša.\n",
            "4: Promete je vse več, njegove vrednosti pa so vse manjše.\n",
            "5: Protest je vse pogostejša in njegova vrednost je vse manjša.\n",
            "6: Protest je vse pogostejši in njegova vrednost se je vse manjša.\n",
            "7: Prometu se je treba zoperstaviti, njena vrednost pa se povečuje.\n",
            "8: Protest je vse pogostejša in njegova vrednost se je vse manjša.\n",
            "9: Prosimo za spremembe, njihova vrednost pa se povečuje.\n",
            "\n",
            "-----------------------\n",
            "\n"
          ]
        }
      ],
      "source": [
        "for i in stavkiZaPara:\n",
        "  #text =  \"paraphrase: \" + i + \" </s>\"\n",
        "  #text =  i + \" </s>\"\n",
        "  text =  \"parafraza: \" + i\n",
        "\n",
        "  max_len = 256\n",
        "  encoding = tokenizer.encode_plus(text,pad_to_max_length=True, return_tensors=\"pt\")\n",
        "  input_ids, attention_masks = encoding[\"input_ids\"].to(device), encoding[\"attention_mask\"].to(device)\n",
        "\n",
        "\n",
        "  # set top_k = 50 and set top_p = 0.95 and num_return_sequences = 3\n",
        "  beam_outputs = model.generate(\n",
        "      input_ids=input_ids, attention_mask=attention_masks,\n",
        "      do_sample=True,\n",
        "      max_length=256,\n",
        "      top_k=120,\n",
        "      top_p=0.98,\n",
        "      early_stopping=True,\n",
        "      num_return_sequences=10\n",
        "  )\n",
        "\n",
        "\n",
        "  print (\"\\nOriginalni stavek:\")\n",
        "  print (i)\n",
        "  print (\"\\n\")\n",
        "  print (\"Parafrazirani stavki:\")\n",
        "  final_outputs =[]\n",
        "  for beam_output in beam_outputs:\n",
        "    sent = tokenizer.decode(beam_output, skip_special_tokens=True,clean_up_tokenization_spaces=True)\n",
        "    if sent.lower() != i.lower() and sent not in final_outputs:\n",
        "      final_outputs.append(sent)\n",
        "\n",
        "  for i, final_output in enumerate(final_outputs):\n",
        "    print(\"{}: {}\".format(i, final_output))\n",
        "\n",
        "  print(\"\\n-----------------------\\n\")"
      ]
    }
  ],
  "metadata": {
    "accelerator": "GPU",
    "colab": {
      "gpuType": "T4",
      "machine_shape": "hm",
      "provenance": []
    },
    "gpuClass": "standard",
    "kernelspec": {
      "display_name": "Python 3",
      "name": "python3"
    },
    "language_info": {
      "name": "python"
    },
    "widgets": {
      "application/vnd.jupyter.widget-state+json": {
        "df37eae22eb444f6b4faecdbaf431dfb": {
          "model_module": "@jupyter-widgets/controls",
          "model_name": "HBoxModel",
          "model_module_version": "1.5.0",
          "state": {
            "_dom_classes": [],
            "_model_module": "@jupyter-widgets/controls",
            "_model_module_version": "1.5.0",
            "_model_name": "HBoxModel",
            "_view_count": null,
            "_view_module": "@jupyter-widgets/controls",
            "_view_module_version": "1.5.0",
            "_view_name": "HBoxView",
            "box_style": "",
            "children": [
              "IPY_MODEL_087c5d748013466aa55c1a7a5beda1aa",
              "IPY_MODEL_5e817fa6c0404c66bb1172735969166b",
              "IPY_MODEL_97ca55bac5e7408eb8e8d4991c11218f"
            ],
            "layout": "IPY_MODEL_001f92ab4ab64d1c9f2ad6fa593ac217"
          }
        },
        "087c5d748013466aa55c1a7a5beda1aa": {
          "model_module": "@jupyter-widgets/controls",
          "model_name": "HTMLModel",
          "model_module_version": "1.5.0",
          "state": {
            "_dom_classes": [],
            "_model_module": "@jupyter-widgets/controls",
            "_model_module_version": "1.5.0",
            "_model_name": "HTMLModel",
            "_view_count": null,
            "_view_module": "@jupyter-widgets/controls",
            "_view_module_version": "1.5.0",
            "_view_name": "HTMLView",
            "description": "",
            "description_tooltip": null,
            "layout": "IPY_MODEL_e0d68dc57da644e587a16039f88c6ca5",
            "placeholder": "​",
            "style": "IPY_MODEL_c7689928d27c486f92e85f5d74eb6fd4",
            "value": "100%"
          }
        },
        "5e817fa6c0404c66bb1172735969166b": {
          "model_module": "@jupyter-widgets/controls",
          "model_name": "FloatProgressModel",
          "model_module_version": "1.5.0",
          "state": {
            "_dom_classes": [],
            "_model_module": "@jupyter-widgets/controls",
            "_model_module_version": "1.5.0",
            "_model_name": "FloatProgressModel",
            "_view_count": null,
            "_view_module": "@jupyter-widgets/controls",
            "_view_module_version": "1.5.0",
            "_view_name": "ProgressView",
            "bar_style": "",
            "description": "",
            "description_tooltip": null,
            "layout": "IPY_MODEL_dab42b73c3c84d7dbeae5525da37e758",
            "max": 7850,
            "min": 0,
            "orientation": "horizontal",
            "style": "IPY_MODEL_15ea5d46c9bf4b328d01fe18d0414895",
            "value": 7850
          }
        },
        "97ca55bac5e7408eb8e8d4991c11218f": {
          "model_module": "@jupyter-widgets/controls",
          "model_name": "HTMLModel",
          "model_module_version": "1.5.0",
          "state": {
            "_dom_classes": [],
            "_model_module": "@jupyter-widgets/controls",
            "_model_module_version": "1.5.0",
            "_model_name": "HTMLModel",
            "_view_count": null,
            "_view_module": "@jupyter-widgets/controls",
            "_view_module_version": "1.5.0",
            "_view_name": "HTMLView",
            "description": "",
            "description_tooltip": null,
            "layout": "IPY_MODEL_c6145f3b4faa47249f585f8ef9aedfe9",
            "placeholder": "​",
            "style": "IPY_MODEL_e9d7c40c2bbe49a590fe16dbcecbe6ac",
            "value": " 7850/7850 [1:02:51&lt;00:00,  2.97it/s]"
          }
        },
        "001f92ab4ab64d1c9f2ad6fa593ac217": {
          "model_module": "@jupyter-widgets/base",
          "model_name": "LayoutModel",
          "model_module_version": "1.2.0",
          "state": {
            "_model_module": "@jupyter-widgets/base",
            "_model_module_version": "1.2.0",
            "_model_name": "LayoutModel",
            "_view_count": null,
            "_view_module": "@jupyter-widgets/base",
            "_view_module_version": "1.2.0",
            "_view_name": "LayoutView",
            "align_content": null,
            "align_items": null,
            "align_self": null,
            "border": null,
            "bottom": null,
            "display": null,
            "flex": null,
            "flex_flow": null,
            "grid_area": null,
            "grid_auto_columns": null,
            "grid_auto_flow": null,
            "grid_auto_rows": null,
            "grid_column": null,
            "grid_gap": null,
            "grid_row": null,
            "grid_template_areas": null,
            "grid_template_columns": null,
            "grid_template_rows": null,
            "height": null,
            "justify_content": null,
            "justify_items": null,
            "left": null,
            "margin": null,
            "max_height": null,
            "max_width": null,
            "min_height": null,
            "min_width": null,
            "object_fit": null,
            "object_position": null,
            "order": null,
            "overflow": null,
            "overflow_x": null,
            "overflow_y": null,
            "padding": null,
            "right": null,
            "top": null,
            "visibility": null,
            "width": null
          }
        },
        "e0d68dc57da644e587a16039f88c6ca5": {
          "model_module": "@jupyter-widgets/base",
          "model_name": "LayoutModel",
          "model_module_version": "1.2.0",
          "state": {
            "_model_module": "@jupyter-widgets/base",
            "_model_module_version": "1.2.0",
            "_model_name": "LayoutModel",
            "_view_count": null,
            "_view_module": "@jupyter-widgets/base",
            "_view_module_version": "1.2.0",
            "_view_name": "LayoutView",
            "align_content": null,
            "align_items": null,
            "align_self": null,
            "border": null,
            "bottom": null,
            "display": null,
            "flex": null,
            "flex_flow": null,
            "grid_area": null,
            "grid_auto_columns": null,
            "grid_auto_flow": null,
            "grid_auto_rows": null,
            "grid_column": null,
            "grid_gap": null,
            "grid_row": null,
            "grid_template_areas": null,
            "grid_template_columns": null,
            "grid_template_rows": null,
            "height": null,
            "justify_content": null,
            "justify_items": null,
            "left": null,
            "margin": null,
            "max_height": null,
            "max_width": null,
            "min_height": null,
            "min_width": null,
            "object_fit": null,
            "object_position": null,
            "order": null,
            "overflow": null,
            "overflow_x": null,
            "overflow_y": null,
            "padding": null,
            "right": null,
            "top": null,
            "visibility": null,
            "width": null
          }
        },
        "c7689928d27c486f92e85f5d74eb6fd4": {
          "model_module": "@jupyter-widgets/controls",
          "model_name": "DescriptionStyleModel",
          "model_module_version": "1.5.0",
          "state": {
            "_model_module": "@jupyter-widgets/controls",
            "_model_module_version": "1.5.0",
            "_model_name": "DescriptionStyleModel",
            "_view_count": null,
            "_view_module": "@jupyter-widgets/base",
            "_view_module_version": "1.2.0",
            "_view_name": "StyleView",
            "description_width": ""
          }
        },
        "dab42b73c3c84d7dbeae5525da37e758": {
          "model_module": "@jupyter-widgets/base",
          "model_name": "LayoutModel",
          "model_module_version": "1.2.0",
          "state": {
            "_model_module": "@jupyter-widgets/base",
            "_model_module_version": "1.2.0",
            "_model_name": "LayoutModel",
            "_view_count": null,
            "_view_module": "@jupyter-widgets/base",
            "_view_module_version": "1.2.0",
            "_view_name": "LayoutView",
            "align_content": null,
            "align_items": null,
            "align_self": null,
            "border": null,
            "bottom": null,
            "display": null,
            "flex": null,
            "flex_flow": null,
            "grid_area": null,
            "grid_auto_columns": null,
            "grid_auto_flow": null,
            "grid_auto_rows": null,
            "grid_column": null,
            "grid_gap": null,
            "grid_row": null,
            "grid_template_areas": null,
            "grid_template_columns": null,
            "grid_template_rows": null,
            "height": null,
            "justify_content": null,
            "justify_items": null,
            "left": null,
            "margin": null,
            "max_height": null,
            "max_width": null,
            "min_height": null,
            "min_width": null,
            "object_fit": null,
            "object_position": null,
            "order": null,
            "overflow": null,
            "overflow_x": null,
            "overflow_y": null,
            "padding": null,
            "right": null,
            "top": null,
            "visibility": null,
            "width": null
          }
        },
        "15ea5d46c9bf4b328d01fe18d0414895": {
          "model_module": "@jupyter-widgets/controls",
          "model_name": "ProgressStyleModel",
          "model_module_version": "1.5.0",
          "state": {
            "_model_module": "@jupyter-widgets/controls",
            "_model_module_version": "1.5.0",
            "_model_name": "ProgressStyleModel",
            "_view_count": null,
            "_view_module": "@jupyter-widgets/base",
            "_view_module_version": "1.2.0",
            "_view_name": "StyleView",
            "bar_color": null,
            "description_width": ""
          }
        },
        "c6145f3b4faa47249f585f8ef9aedfe9": {
          "model_module": "@jupyter-widgets/base",
          "model_name": "LayoutModel",
          "model_module_version": "1.2.0",
          "state": {
            "_model_module": "@jupyter-widgets/base",
            "_model_module_version": "1.2.0",
            "_model_name": "LayoutModel",
            "_view_count": null,
            "_view_module": "@jupyter-widgets/base",
            "_view_module_version": "1.2.0",
            "_view_name": "LayoutView",
            "align_content": null,
            "align_items": null,
            "align_self": null,
            "border": null,
            "bottom": null,
            "display": null,
            "flex": null,
            "flex_flow": null,
            "grid_area": null,
            "grid_auto_columns": null,
            "grid_auto_flow": null,
            "grid_auto_rows": null,
            "grid_column": null,
            "grid_gap": null,
            "grid_row": null,
            "grid_template_areas": null,
            "grid_template_columns": null,
            "grid_template_rows": null,
            "height": null,
            "justify_content": null,
            "justify_items": null,
            "left": null,
            "margin": null,
            "max_height": null,
            "max_width": null,
            "min_height": null,
            "min_width": null,
            "object_fit": null,
            "object_position": null,
            "order": null,
            "overflow": null,
            "overflow_x": null,
            "overflow_y": null,
            "padding": null,
            "right": null,
            "top": null,
            "visibility": null,
            "width": null
          }
        },
        "e9d7c40c2bbe49a590fe16dbcecbe6ac": {
          "model_module": "@jupyter-widgets/controls",
          "model_name": "DescriptionStyleModel",
          "model_module_version": "1.5.0",
          "state": {
            "_model_module": "@jupyter-widgets/controls",
            "_model_module_version": "1.5.0",
            "_model_name": "DescriptionStyleModel",
            "_view_count": null,
            "_view_module": "@jupyter-widgets/base",
            "_view_module_version": "1.2.0",
            "_view_name": "StyleView",
            "description_width": ""
          }
        }
      }
    }
  },
  "nbformat": 4,
  "nbformat_minor": 0
}