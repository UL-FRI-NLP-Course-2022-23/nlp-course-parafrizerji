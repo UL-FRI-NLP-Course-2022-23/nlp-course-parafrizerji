{
  "nbformat": 4,
  "nbformat_minor": 0,
  "metadata": {
    "colab": {
      "provenance": [],
      "machine_shape": "hm",
      "gpuType": "T4"
    },
    "kernelspec": {
      "name": "python3",
      "display_name": "Python 3"
    },
    "language_info": {
      "name": "python"
    },
    "gpuClass": "standard",
    "widgets": {
      "application/vnd.jupyter.widget-state+json": {
        "eb54969fb21a456597de99fe7046bf80": {
          "model_module": "@jupyter-widgets/controls",
          "model_name": "HBoxModel",
          "model_module_version": "1.5.0",
          "state": {
            "_dom_classes": [],
            "_model_module": "@jupyter-widgets/controls",
            "_model_module_version": "1.5.0",
            "_model_name": "HBoxModel",
            "_view_count": null,
            "_view_module": "@jupyter-widgets/controls",
            "_view_module_version": "1.5.0",
            "_view_name": "HBoxView",
            "box_style": "",
            "children": [
              "IPY_MODEL_ab248bb841824c2eb1b2e105d68236e4",
              "IPY_MODEL_6a3d0307567c47278ce939ac00d32115",
              "IPY_MODEL_0abf39d7293c4405b775e3a1df9089ec"
            ],
            "layout": "IPY_MODEL_581abf1b4ff34c69a329320fa567d32f"
          }
        },
        "ab248bb841824c2eb1b2e105d68236e4": {
          "model_module": "@jupyter-widgets/controls",
          "model_name": "HTMLModel",
          "model_module_version": "1.5.0",
          "state": {
            "_dom_classes": [],
            "_model_module": "@jupyter-widgets/controls",
            "_model_module_version": "1.5.0",
            "_model_name": "HTMLModel",
            "_view_count": null,
            "_view_module": "@jupyter-widgets/controls",
            "_view_module_version": "1.5.0",
            "_view_name": "HTMLView",
            "description": "",
            "description_tooltip": null,
            "layout": "IPY_MODEL_c4db21792ad246508a2e19798ae4ad28",
            "placeholder": "​",
            "style": "IPY_MODEL_968e94eb4dc6427ea5d603c791be3c6d",
            "value": "100%"
          }
        },
        "6a3d0307567c47278ce939ac00d32115": {
          "model_module": "@jupyter-widgets/controls",
          "model_name": "FloatProgressModel",
          "model_module_version": "1.5.0",
          "state": {
            "_dom_classes": [],
            "_model_module": "@jupyter-widgets/controls",
            "_model_module_version": "1.5.0",
            "_model_name": "FloatProgressModel",
            "_view_count": null,
            "_view_module": "@jupyter-widgets/controls",
            "_view_module_version": "1.5.0",
            "_view_name": "ProgressView",
            "bar_style": "",
            "description": "",
            "description_tooltip": null,
            "layout": "IPY_MODEL_ef0576db960f49efb9ab3da076206e94",
            "max": 16,
            "min": 0,
            "orientation": "horizontal",
            "style": "IPY_MODEL_74c91ad23f054546839a7321aedcf1fa",
            "value": 16
          }
        },
        "0abf39d7293c4405b775e3a1df9089ec": {
          "model_module": "@jupyter-widgets/controls",
          "model_name": "HTMLModel",
          "model_module_version": "1.5.0",
          "state": {
            "_dom_classes": [],
            "_model_module": "@jupyter-widgets/controls",
            "_model_module_version": "1.5.0",
            "_model_name": "HTMLModel",
            "_view_count": null,
            "_view_module": "@jupyter-widgets/controls",
            "_view_module_version": "1.5.0",
            "_view_name": "HTMLView",
            "description": "",
            "description_tooltip": null,
            "layout": "IPY_MODEL_d983d1405be0493ca80e2a868050aad9",
            "placeholder": "​",
            "style": "IPY_MODEL_e2babbce627f49efbb38c0b481c53896",
            "value": " 16/16 [00:07&lt;00:00,  2.60it/s]"
          }
        },
        "581abf1b4ff34c69a329320fa567d32f": {
          "model_module": "@jupyter-widgets/base",
          "model_name": "LayoutModel",
          "model_module_version": "1.2.0",
          "state": {
            "_model_module": "@jupyter-widgets/base",
            "_model_module_version": "1.2.0",
            "_model_name": "LayoutModel",
            "_view_count": null,
            "_view_module": "@jupyter-widgets/base",
            "_view_module_version": "1.2.0",
            "_view_name": "LayoutView",
            "align_content": null,
            "align_items": null,
            "align_self": null,
            "border": null,
            "bottom": null,
            "display": null,
            "flex": null,
            "flex_flow": null,
            "grid_area": null,
            "grid_auto_columns": null,
            "grid_auto_flow": null,
            "grid_auto_rows": null,
            "grid_column": null,
            "grid_gap": null,
            "grid_row": null,
            "grid_template_areas": null,
            "grid_template_columns": null,
            "grid_template_rows": null,
            "height": null,
            "justify_content": null,
            "justify_items": null,
            "left": null,
            "margin": null,
            "max_height": null,
            "max_width": null,
            "min_height": null,
            "min_width": null,
            "object_fit": null,
            "object_position": null,
            "order": null,
            "overflow": null,
            "overflow_x": null,
            "overflow_y": null,
            "padding": null,
            "right": null,
            "top": null,
            "visibility": null,
            "width": null
          }
        },
        "c4db21792ad246508a2e19798ae4ad28": {
          "model_module": "@jupyter-widgets/base",
          "model_name": "LayoutModel",
          "model_module_version": "1.2.0",
          "state": {
            "_model_module": "@jupyter-widgets/base",
            "_model_module_version": "1.2.0",
            "_model_name": "LayoutModel",
            "_view_count": null,
            "_view_module": "@jupyter-widgets/base",
            "_view_module_version": "1.2.0",
            "_view_name": "LayoutView",
            "align_content": null,
            "align_items": null,
            "align_self": null,
            "border": null,
            "bottom": null,
            "display": null,
            "flex": null,
            "flex_flow": null,
            "grid_area": null,
            "grid_auto_columns": null,
            "grid_auto_flow": null,
            "grid_auto_rows": null,
            "grid_column": null,
            "grid_gap": null,
            "grid_row": null,
            "grid_template_areas": null,
            "grid_template_columns": null,
            "grid_template_rows": null,
            "height": null,
            "justify_content": null,
            "justify_items": null,
            "left": null,
            "margin": null,
            "max_height": null,
            "max_width": null,
            "min_height": null,
            "min_width": null,
            "object_fit": null,
            "object_position": null,
            "order": null,
            "overflow": null,
            "overflow_x": null,
            "overflow_y": null,
            "padding": null,
            "right": null,
            "top": null,
            "visibility": null,
            "width": null
          }
        },
        "968e94eb4dc6427ea5d603c791be3c6d": {
          "model_module": "@jupyter-widgets/controls",
          "model_name": "DescriptionStyleModel",
          "model_module_version": "1.5.0",
          "state": {
            "_model_module": "@jupyter-widgets/controls",
            "_model_module_version": "1.5.0",
            "_model_name": "DescriptionStyleModel",
            "_view_count": null,
            "_view_module": "@jupyter-widgets/base",
            "_view_module_version": "1.2.0",
            "_view_name": "StyleView",
            "description_width": ""
          }
        },
        "ef0576db960f49efb9ab3da076206e94": {
          "model_module": "@jupyter-widgets/base",
          "model_name": "LayoutModel",
          "model_module_version": "1.2.0",
          "state": {
            "_model_module": "@jupyter-widgets/base",
            "_model_module_version": "1.2.0",
            "_model_name": "LayoutModel",
            "_view_count": null,
            "_view_module": "@jupyter-widgets/base",
            "_view_module_version": "1.2.0",
            "_view_name": "LayoutView",
            "align_content": null,
            "align_items": null,
            "align_self": null,
            "border": null,
            "bottom": null,
            "display": null,
            "flex": null,
            "flex_flow": null,
            "grid_area": null,
            "grid_auto_columns": null,
            "grid_auto_flow": null,
            "grid_auto_rows": null,
            "grid_column": null,
            "grid_gap": null,
            "grid_row": null,
            "grid_template_areas": null,
            "grid_template_columns": null,
            "grid_template_rows": null,
            "height": null,
            "justify_content": null,
            "justify_items": null,
            "left": null,
            "margin": null,
            "max_height": null,
            "max_width": null,
            "min_height": null,
            "min_width": null,
            "object_fit": null,
            "object_position": null,
            "order": null,
            "overflow": null,
            "overflow_x": null,
            "overflow_y": null,
            "padding": null,
            "right": null,
            "top": null,
            "visibility": null,
            "width": null
          }
        },
        "74c91ad23f054546839a7321aedcf1fa": {
          "model_module": "@jupyter-widgets/controls",
          "model_name": "ProgressStyleModel",
          "model_module_version": "1.5.0",
          "state": {
            "_model_module": "@jupyter-widgets/controls",
            "_model_module_version": "1.5.0",
            "_model_name": "ProgressStyleModel",
            "_view_count": null,
            "_view_module": "@jupyter-widgets/base",
            "_view_module_version": "1.2.0",
            "_view_name": "StyleView",
            "bar_color": null,
            "description_width": ""
          }
        },
        "d983d1405be0493ca80e2a868050aad9": {
          "model_module": "@jupyter-widgets/base",
          "model_name": "LayoutModel",
          "model_module_version": "1.2.0",
          "state": {
            "_model_module": "@jupyter-widgets/base",
            "_model_module_version": "1.2.0",
            "_model_name": "LayoutModel",
            "_view_count": null,
            "_view_module": "@jupyter-widgets/base",
            "_view_module_version": "1.2.0",
            "_view_name": "LayoutView",
            "align_content": null,
            "align_items": null,
            "align_self": null,
            "border": null,
            "bottom": null,
            "display": null,
            "flex": null,
            "flex_flow": null,
            "grid_area": null,
            "grid_auto_columns": null,
            "grid_auto_flow": null,
            "grid_auto_rows": null,
            "grid_column": null,
            "grid_gap": null,
            "grid_row": null,
            "grid_template_areas": null,
            "grid_template_columns": null,
            "grid_template_rows": null,
            "height": null,
            "justify_content": null,
            "justify_items": null,
            "left": null,
            "margin": null,
            "max_height": null,
            "max_width": null,
            "min_height": null,
            "min_width": null,
            "object_fit": null,
            "object_position": null,
            "order": null,
            "overflow": null,
            "overflow_x": null,
            "overflow_y": null,
            "padding": null,
            "right": null,
            "top": null,
            "visibility": null,
            "width": null
          }
        },
        "e2babbce627f49efbb38c0b481c53896": {
          "model_module": "@jupyter-widgets/controls",
          "model_name": "DescriptionStyleModel",
          "model_module_version": "1.5.0",
          "state": {
            "_model_module": "@jupyter-widgets/controls",
            "_model_module_version": "1.5.0",
            "_model_name": "DescriptionStyleModel",
            "_view_count": null,
            "_view_module": "@jupyter-widgets/base",
            "_view_module_version": "1.2.0",
            "_view_name": "StyleView",
            "description_width": ""
          }
        }
      }
    },
    "accelerator": "GPU"
  },
  "cells": [
    {
      "cell_type": "code",
      "source": [
        "# Trening model T5\n",
        "# Za to uporablja datoteko PrevodiClarin.xlsx, ki je tudi na Git-u\n",
        "# https://github.com/UL-FRI-NLP-Course-2022-23/nlp-course-parafrizerji/blob/main/database/PrevodiClarin.xlsx"
      ],
      "metadata": {
        "id": "GazSB5vo1a2a"
      },
      "execution_count": 1,
      "outputs": []
    },
    {
      "cell_type": "code",
      "execution_count": 2,
      "metadata": {
        "colab": {
          "base_uri": "https://localhost:8080/"
        },
        "id": "xQ3bNS7VWgYw",
        "outputId": "1ba6a237-2314-472b-f766-2e188d4ce975"
      },
      "outputs": [
        {
          "output_type": "stream",
          "name": "stdout",
          "text": [
            "Looking in indexes: https://pypi.org/simple, https://us-python.pkg.dev/colab-wheels/public/simple/\n",
            "Requirement already satisfied: datasets in /usr/local/lib/python3.10/dist-packages (2.12.0)\n",
            "Requirement already satisfied: aiohttp in /usr/local/lib/python3.10/dist-packages (from datasets) (3.8.4)\n",
            "Requirement already satisfied: pyyaml>=5.1 in /usr/local/lib/python3.10/dist-packages (from datasets) (6.0)\n",
            "Requirement already satisfied: packaging in /usr/local/lib/python3.10/dist-packages (from datasets) (23.1)\n",
            "Requirement already satisfied: multiprocess in /usr/local/lib/python3.10/dist-packages (from datasets) (0.70.14)\n",
            "Requirement already satisfied: requests>=2.19.0 in /usr/local/lib/python3.10/dist-packages (from datasets) (2.27.1)\n",
            "Requirement already satisfied: huggingface-hub<1.0.0,>=0.11.0 in /usr/local/lib/python3.10/dist-packages (from datasets) (0.14.1)\n",
            "Requirement already satisfied: fsspec[http]>=2021.11.1 in /usr/local/lib/python3.10/dist-packages (from datasets) (2023.4.0)\n",
            "Requirement already satisfied: xxhash in /usr/local/lib/python3.10/dist-packages (from datasets) (3.2.0)\n",
            "Requirement already satisfied: pandas in /usr/local/lib/python3.10/dist-packages (from datasets) (1.5.3)\n",
            "Requirement already satisfied: dill<0.3.7,>=0.3.0 in /usr/local/lib/python3.10/dist-packages (from datasets) (0.3.6)\n",
            "Requirement already satisfied: numpy>=1.17 in /usr/local/lib/python3.10/dist-packages (from datasets) (1.22.4)\n",
            "Requirement already satisfied: pyarrow>=8.0.0 in /usr/local/lib/python3.10/dist-packages (from datasets) (9.0.0)\n",
            "Requirement already satisfied: responses<0.19 in /usr/local/lib/python3.10/dist-packages (from datasets) (0.18.0)\n",
            "Requirement already satisfied: tqdm>=4.62.1 in /usr/local/lib/python3.10/dist-packages (from datasets) (4.65.0)\n",
            "Requirement already satisfied: multidict<7.0,>=4.5 in /usr/local/lib/python3.10/dist-packages (from aiohttp->datasets) (6.0.4)\n",
            "Requirement already satisfied: yarl<2.0,>=1.0 in /usr/local/lib/python3.10/dist-packages (from aiohttp->datasets) (1.9.2)\n",
            "Requirement already satisfied: aiosignal>=1.1.2 in /usr/local/lib/python3.10/dist-packages (from aiohttp->datasets) (1.3.1)\n",
            "Requirement already satisfied: attrs>=17.3.0 in /usr/local/lib/python3.10/dist-packages (from aiohttp->datasets) (23.1.0)\n",
            "Requirement already satisfied: async-timeout<5.0,>=4.0.0a3 in /usr/local/lib/python3.10/dist-packages (from aiohttp->datasets) (4.0.2)\n",
            "Requirement already satisfied: frozenlist>=1.1.1 in /usr/local/lib/python3.10/dist-packages (from aiohttp->datasets) (1.3.3)\n",
            "Requirement already satisfied: charset-normalizer<4.0,>=2.0 in /usr/local/lib/python3.10/dist-packages (from aiohttp->datasets) (2.0.12)\n",
            "Requirement already satisfied: typing-extensions>=3.7.4.3 in /usr/local/lib/python3.10/dist-packages (from huggingface-hub<1.0.0,>=0.11.0->datasets) (4.5.0)\n",
            "Requirement already satisfied: filelock in /usr/local/lib/python3.10/dist-packages (from huggingface-hub<1.0.0,>=0.11.0->datasets) (3.12.0)\n",
            "Requirement already satisfied: urllib3<1.27,>=1.21.1 in /usr/local/lib/python3.10/dist-packages (from requests>=2.19.0->datasets) (1.26.15)\n",
            "Requirement already satisfied: certifi>=2017.4.17 in /usr/local/lib/python3.10/dist-packages (from requests>=2.19.0->datasets) (2022.12.7)\n",
            "Requirement already satisfied: idna<4,>=2.5 in /usr/local/lib/python3.10/dist-packages (from requests>=2.19.0->datasets) (3.4)\n",
            "Requirement already satisfied: python-dateutil>=2.8.1 in /usr/local/lib/python3.10/dist-packages (from pandas->datasets) (2.8.2)\n",
            "Requirement already satisfied: pytz>=2020.1 in /usr/local/lib/python3.10/dist-packages (from pandas->datasets) (2022.7.1)\n",
            "Requirement already satisfied: six>=1.5 in /usr/local/lib/python3.10/dist-packages (from python-dateutil>=2.8.1->pandas->datasets) (1.16.0)\n",
            "Looking in indexes: https://pypi.org/simple, https://us-python.pkg.dev/colab-wheels/public/simple/\n",
            "Requirement already satisfied: transformers in /usr/local/lib/python3.10/dist-packages (4.28.1)\n",
            "Requirement already satisfied: regex!=2019.12.17 in /usr/local/lib/python3.10/dist-packages (from transformers) (2022.10.31)\n",
            "Requirement already satisfied: numpy>=1.17 in /usr/local/lib/python3.10/dist-packages (from transformers) (1.22.4)\n",
            "Requirement already satisfied: tqdm>=4.27 in /usr/local/lib/python3.10/dist-packages (from transformers) (4.65.0)\n",
            "Requirement already satisfied: huggingface-hub<1.0,>=0.11.0 in /usr/local/lib/python3.10/dist-packages (from transformers) (0.14.1)\n",
            "Requirement already satisfied: requests in /usr/local/lib/python3.10/dist-packages (from transformers) (2.27.1)\n",
            "Requirement already satisfied: tokenizers!=0.11.3,<0.14,>=0.11.1 in /usr/local/lib/python3.10/dist-packages (from transformers) (0.13.3)\n",
            "Requirement already satisfied: packaging>=20.0 in /usr/local/lib/python3.10/dist-packages (from transformers) (23.1)\n",
            "Requirement already satisfied: pyyaml>=5.1 in /usr/local/lib/python3.10/dist-packages (from transformers) (6.0)\n",
            "Requirement already satisfied: filelock in /usr/local/lib/python3.10/dist-packages (from transformers) (3.12.0)\n",
            "Requirement already satisfied: fsspec in /usr/local/lib/python3.10/dist-packages (from huggingface-hub<1.0,>=0.11.0->transformers) (2023.4.0)\n",
            "Requirement already satisfied: typing-extensions>=3.7.4.3 in /usr/local/lib/python3.10/dist-packages (from huggingface-hub<1.0,>=0.11.0->transformers) (4.5.0)\n",
            "Requirement already satisfied: urllib3<1.27,>=1.21.1 in /usr/local/lib/python3.10/dist-packages (from requests->transformers) (1.26.15)\n",
            "Requirement already satisfied: certifi>=2017.4.17 in /usr/local/lib/python3.10/dist-packages (from requests->transformers) (2022.12.7)\n",
            "Requirement already satisfied: charset-normalizer~=2.0.0 in /usr/local/lib/python3.10/dist-packages (from requests->transformers) (2.0.12)\n",
            "Requirement already satisfied: idna<4,>=2.5 in /usr/local/lib/python3.10/dist-packages (from requests->transformers) (3.4)\n",
            "Looking in indexes: https://pypi.org/simple, https://us-python.pkg.dev/colab-wheels/public/simple/\n",
            "Requirement already satisfied: SentencePiece in /usr/local/lib/python3.10/dist-packages (0.1.99)\n",
            "Looking in indexes: https://pypi.org/simple, https://us-python.pkg.dev/colab-wheels/public/simple/\n",
            "Requirement already satisfied: evaluate in /usr/local/lib/python3.10/dist-packages (0.4.0)\n",
            "Requirement already satisfied: pandas in /usr/local/lib/python3.10/dist-packages (from evaluate) (1.5.3)\n",
            "Requirement already satisfied: fsspec[http]>=2021.05.0 in /usr/local/lib/python3.10/dist-packages (from evaluate) (2023.4.0)\n",
            "Requirement already satisfied: dill in /usr/local/lib/python3.10/dist-packages (from evaluate) (0.3.6)\n",
            "Requirement already satisfied: responses<0.19 in /usr/local/lib/python3.10/dist-packages (from evaluate) (0.18.0)\n",
            "Requirement already satisfied: datasets>=2.0.0 in /usr/local/lib/python3.10/dist-packages (from evaluate) (2.12.0)\n",
            "Requirement already satisfied: huggingface-hub>=0.7.0 in /usr/local/lib/python3.10/dist-packages (from evaluate) (0.14.1)\n",
            "Requirement already satisfied: requests>=2.19.0 in /usr/local/lib/python3.10/dist-packages (from evaluate) (2.27.1)\n",
            "Requirement already satisfied: multiprocess in /usr/local/lib/python3.10/dist-packages (from evaluate) (0.70.14)\n",
            "Requirement already satisfied: xxhash in /usr/local/lib/python3.10/dist-packages (from evaluate) (3.2.0)\n",
            "Requirement already satisfied: numpy>=1.17 in /usr/local/lib/python3.10/dist-packages (from evaluate) (1.22.4)\n",
            "Requirement already satisfied: packaging in /usr/local/lib/python3.10/dist-packages (from evaluate) (23.1)\n",
            "Requirement already satisfied: tqdm>=4.62.1 in /usr/local/lib/python3.10/dist-packages (from evaluate) (4.65.0)\n",
            "Requirement already satisfied: pyarrow>=8.0.0 in /usr/local/lib/python3.10/dist-packages (from datasets>=2.0.0->evaluate) (9.0.0)\n",
            "Requirement already satisfied: aiohttp in /usr/local/lib/python3.10/dist-packages (from datasets>=2.0.0->evaluate) (3.8.4)\n",
            "Requirement already satisfied: pyyaml>=5.1 in /usr/local/lib/python3.10/dist-packages (from datasets>=2.0.0->evaluate) (6.0)\n",
            "Requirement already satisfied: filelock in /usr/local/lib/python3.10/dist-packages (from huggingface-hub>=0.7.0->evaluate) (3.12.0)\n",
            "Requirement already satisfied: typing-extensions>=3.7.4.3 in /usr/local/lib/python3.10/dist-packages (from huggingface-hub>=0.7.0->evaluate) (4.5.0)\n",
            "Requirement already satisfied: idna<4,>=2.5 in /usr/local/lib/python3.10/dist-packages (from requests>=2.19.0->evaluate) (3.4)\n",
            "Requirement already satisfied: urllib3<1.27,>=1.21.1 in /usr/local/lib/python3.10/dist-packages (from requests>=2.19.0->evaluate) (1.26.15)\n",
            "Requirement already satisfied: certifi>=2017.4.17 in /usr/local/lib/python3.10/dist-packages (from requests>=2.19.0->evaluate) (2022.12.7)\n",
            "Requirement already satisfied: charset-normalizer~=2.0.0 in /usr/local/lib/python3.10/dist-packages (from requests>=2.19.0->evaluate) (2.0.12)\n",
            "Requirement already satisfied: python-dateutil>=2.8.1 in /usr/local/lib/python3.10/dist-packages (from pandas->evaluate) (2.8.2)\n",
            "Requirement already satisfied: pytz>=2020.1 in /usr/local/lib/python3.10/dist-packages (from pandas->evaluate) (2022.7.1)\n",
            "Requirement already satisfied: yarl<2.0,>=1.0 in /usr/local/lib/python3.10/dist-packages (from aiohttp->datasets>=2.0.0->evaluate) (1.9.2)\n",
            "Requirement already satisfied: frozenlist>=1.1.1 in /usr/local/lib/python3.10/dist-packages (from aiohttp->datasets>=2.0.0->evaluate) (1.3.3)\n",
            "Requirement already satisfied: attrs>=17.3.0 in /usr/local/lib/python3.10/dist-packages (from aiohttp->datasets>=2.0.0->evaluate) (23.1.0)\n",
            "Requirement already satisfied: async-timeout<5.0,>=4.0.0a3 in /usr/local/lib/python3.10/dist-packages (from aiohttp->datasets>=2.0.0->evaluate) (4.0.2)\n",
            "Requirement already satisfied: multidict<7.0,>=4.5 in /usr/local/lib/python3.10/dist-packages (from aiohttp->datasets>=2.0.0->evaluate) (6.0.4)\n",
            "Requirement already satisfied: aiosignal>=1.1.2 in /usr/local/lib/python3.10/dist-packages (from aiohttp->datasets>=2.0.0->evaluate) (1.3.1)\n",
            "Requirement already satisfied: six>=1.5 in /usr/local/lib/python3.10/dist-packages (from python-dateutil>=2.8.1->pandas->evaluate) (1.16.0)\n",
            "Looking in indexes: https://pypi.org/simple, https://us-python.pkg.dev/colab-wheels/public/simple/\n",
            "Requirement already satisfied: rouge_score in /usr/local/lib/python3.10/dist-packages (0.1.2)\n",
            "Requirement already satisfied: numpy in /usr/local/lib/python3.10/dist-packages (from rouge_score) (1.22.4)\n",
            "Requirement already satisfied: absl-py in /usr/local/lib/python3.10/dist-packages (from rouge_score) (1.4.0)\n",
            "Requirement already satisfied: six>=1.14.0 in /usr/local/lib/python3.10/dist-packages (from rouge_score) (1.16.0)\n",
            "Requirement already satisfied: nltk in /usr/local/lib/python3.10/dist-packages (from rouge_score) (3.8.1)\n",
            "Requirement already satisfied: click in /usr/local/lib/python3.10/dist-packages (from nltk->rouge_score) (8.1.3)\n",
            "Requirement already satisfied: regex>=2021.8.3 in /usr/local/lib/python3.10/dist-packages (from nltk->rouge_score) (2022.10.31)\n",
            "Requirement already satisfied: tqdm in /usr/local/lib/python3.10/dist-packages (from nltk->rouge_score) (4.65.0)\n",
            "Requirement already satisfied: joblib in /usr/local/lib/python3.10/dist-packages (from nltk->rouge_score) (1.2.0)\n",
            "Looking in indexes: https://pypi.org/simple, https://us-python.pkg.dev/colab-wheels/public/simple/\n",
            "Requirement already satisfied: tensorflow_text in /usr/local/lib/python3.10/dist-packages (2.12.1)\n",
            "Requirement already satisfied: tensorflow-hub>=0.8.0 in /usr/local/lib/python3.10/dist-packages (from tensorflow_text) (0.13.0)\n",
            "Requirement already satisfied: tensorflow<2.13,>=2.12.0 in /usr/local/lib/python3.10/dist-packages (from tensorflow_text) (2.12.0)\n",
            "Requirement already satisfied: keras<2.13,>=2.12.0 in /usr/local/lib/python3.10/dist-packages (from tensorflow<2.13,>=2.12.0->tensorflow_text) (2.12.0)\n",
            "Requirement already satisfied: wrapt<1.15,>=1.11.0 in /usr/local/lib/python3.10/dist-packages (from tensorflow<2.13,>=2.12.0->tensorflow_text) (1.14.1)\n",
            "Requirement already satisfied: packaging in /usr/local/lib/python3.10/dist-packages (from tensorflow<2.13,>=2.12.0->tensorflow_text) (23.1)\n",
            "Requirement already satisfied: tensorflow-estimator<2.13,>=2.12.0 in /usr/local/lib/python3.10/dist-packages (from tensorflow<2.13,>=2.12.0->tensorflow_text) (2.12.0)\n",
            "Requirement already satisfied: libclang>=13.0.0 in /usr/local/lib/python3.10/dist-packages (from tensorflow<2.13,>=2.12.0->tensorflow_text) (16.0.0)\n",
            "Requirement already satisfied: protobuf!=4.21.0,!=4.21.1,!=4.21.2,!=4.21.3,!=4.21.4,!=4.21.5,<5.0.0dev,>=3.20.3 in /usr/local/lib/python3.10/dist-packages (from tensorflow<2.13,>=2.12.0->tensorflow_text) (3.20.3)\n",
            "Requirement already satisfied: absl-py>=1.0.0 in /usr/local/lib/python3.10/dist-packages (from tensorflow<2.13,>=2.12.0->tensorflow_text) (1.4.0)\n",
            "Requirement already satisfied: termcolor>=1.1.0 in /usr/local/lib/python3.10/dist-packages (from tensorflow<2.13,>=2.12.0->tensorflow_text) (2.3.0)\n",
            "Requirement already satisfied: h5py>=2.9.0 in /usr/local/lib/python3.10/dist-packages (from tensorflow<2.13,>=2.12.0->tensorflow_text) (3.8.0)\n",
            "Requirement already satisfied: astunparse>=1.6.0 in /usr/local/lib/python3.10/dist-packages (from tensorflow<2.13,>=2.12.0->tensorflow_text) (1.6.3)\n",
            "Requirement already satisfied: numpy<1.24,>=1.22 in /usr/local/lib/python3.10/dist-packages (from tensorflow<2.13,>=2.12.0->tensorflow_text) (1.22.4)\n",
            "Requirement already satisfied: grpcio<2.0,>=1.24.3 in /usr/local/lib/python3.10/dist-packages (from tensorflow<2.13,>=2.12.0->tensorflow_text) (1.54.0)\n",
            "Requirement already satisfied: tensorboard<2.13,>=2.12 in /usr/local/lib/python3.10/dist-packages (from tensorflow<2.13,>=2.12.0->tensorflow_text) (2.12.2)\n",
            "Requirement already satisfied: six>=1.12.0 in /usr/local/lib/python3.10/dist-packages (from tensorflow<2.13,>=2.12.0->tensorflow_text) (1.16.0)\n",
            "Requirement already satisfied: jax>=0.3.15 in /usr/local/lib/python3.10/dist-packages (from tensorflow<2.13,>=2.12.0->tensorflow_text) (0.4.8)\n",
            "Requirement already satisfied: gast<=0.4.0,>=0.2.1 in /usr/local/lib/python3.10/dist-packages (from tensorflow<2.13,>=2.12.0->tensorflow_text) (0.4.0)\n",
            "Requirement already satisfied: opt-einsum>=2.3.2 in /usr/local/lib/python3.10/dist-packages (from tensorflow<2.13,>=2.12.0->tensorflow_text) (3.3.0)\n",
            "Requirement already satisfied: typing-extensions>=3.6.6 in /usr/local/lib/python3.10/dist-packages (from tensorflow<2.13,>=2.12.0->tensorflow_text) (4.5.0)\n",
            "Requirement already satisfied: flatbuffers>=2.0 in /usr/local/lib/python3.10/dist-packages (from tensorflow<2.13,>=2.12.0->tensorflow_text) (23.3.3)\n",
            "Requirement already satisfied: setuptools in /usr/local/lib/python3.10/dist-packages (from tensorflow<2.13,>=2.12.0->tensorflow_text) (67.7.2)\n",
            "Requirement already satisfied: google-pasta>=0.1.1 in /usr/local/lib/python3.10/dist-packages (from tensorflow<2.13,>=2.12.0->tensorflow_text) (0.2.0)\n",
            "Requirement already satisfied: tensorflow-io-gcs-filesystem>=0.23.1 in /usr/local/lib/python3.10/dist-packages (from tensorflow<2.13,>=2.12.0->tensorflow_text) (0.32.0)\n",
            "Requirement already satisfied: wheel<1.0,>=0.23.0 in /usr/local/lib/python3.10/dist-packages (from astunparse>=1.6.0->tensorflow<2.13,>=2.12.0->tensorflow_text) (0.40.0)\n",
            "Requirement already satisfied: ml-dtypes>=0.0.3 in /usr/local/lib/python3.10/dist-packages (from jax>=0.3.15->tensorflow<2.13,>=2.12.0->tensorflow_text) (0.1.0)\n",
            "Requirement already satisfied: scipy>=1.7 in /usr/local/lib/python3.10/dist-packages (from jax>=0.3.15->tensorflow<2.13,>=2.12.0->tensorflow_text) (1.10.1)\n",
            "Requirement already satisfied: tensorboard-data-server<0.8.0,>=0.7.0 in /usr/local/lib/python3.10/dist-packages (from tensorboard<2.13,>=2.12->tensorflow<2.13,>=2.12.0->tensorflow_text) (0.7.0)\n",
            "Requirement already satisfied: werkzeug>=1.0.1 in /usr/local/lib/python3.10/dist-packages (from tensorboard<2.13,>=2.12->tensorflow<2.13,>=2.12.0->tensorflow_text) (2.3.0)\n",
            "Requirement already satisfied: google-auth-oauthlib<1.1,>=0.5 in /usr/local/lib/python3.10/dist-packages (from tensorboard<2.13,>=2.12->tensorflow<2.13,>=2.12.0->tensorflow_text) (1.0.0)\n",
            "Requirement already satisfied: tensorboard-plugin-wit>=1.6.0 in /usr/local/lib/python3.10/dist-packages (from tensorboard<2.13,>=2.12->tensorflow<2.13,>=2.12.0->tensorflow_text) (1.8.1)\n",
            "Requirement already satisfied: markdown>=2.6.8 in /usr/local/lib/python3.10/dist-packages (from tensorboard<2.13,>=2.12->tensorflow<2.13,>=2.12.0->tensorflow_text) (3.4.3)\n",
            "Requirement already satisfied: requests<3,>=2.21.0 in /usr/local/lib/python3.10/dist-packages (from tensorboard<2.13,>=2.12->tensorflow<2.13,>=2.12.0->tensorflow_text) (2.27.1)\n",
            "Requirement already satisfied: google-auth<3,>=1.6.3 in /usr/local/lib/python3.10/dist-packages (from tensorboard<2.13,>=2.12->tensorflow<2.13,>=2.12.0->tensorflow_text) (2.17.3)\n",
            "Requirement already satisfied: rsa<5,>=3.1.4 in /usr/local/lib/python3.10/dist-packages (from google-auth<3,>=1.6.3->tensorboard<2.13,>=2.12->tensorflow<2.13,>=2.12.0->tensorflow_text) (4.9)\n",
            "Requirement already satisfied: cachetools<6.0,>=2.0.0 in /usr/local/lib/python3.10/dist-packages (from google-auth<3,>=1.6.3->tensorboard<2.13,>=2.12->tensorflow<2.13,>=2.12.0->tensorflow_text) (5.3.0)\n",
            "Requirement already satisfied: pyasn1-modules>=0.2.1 in /usr/local/lib/python3.10/dist-packages (from google-auth<3,>=1.6.3->tensorboard<2.13,>=2.12->tensorflow<2.13,>=2.12.0->tensorflow_text) (0.3.0)\n",
            "Requirement already satisfied: requests-oauthlib>=0.7.0 in /usr/local/lib/python3.10/dist-packages (from google-auth-oauthlib<1.1,>=0.5->tensorboard<2.13,>=2.12->tensorflow<2.13,>=2.12.0->tensorflow_text) (1.3.1)\n",
            "Requirement already satisfied: charset-normalizer~=2.0.0 in /usr/local/lib/python3.10/dist-packages (from requests<3,>=2.21.0->tensorboard<2.13,>=2.12->tensorflow<2.13,>=2.12.0->tensorflow_text) (2.0.12)\n",
            "Requirement already satisfied: urllib3<1.27,>=1.21.1 in /usr/local/lib/python3.10/dist-packages (from requests<3,>=2.21.0->tensorboard<2.13,>=2.12->tensorflow<2.13,>=2.12.0->tensorflow_text) (1.26.15)\n",
            "Requirement already satisfied: certifi>=2017.4.17 in /usr/local/lib/python3.10/dist-packages (from requests<3,>=2.21.0->tensorboard<2.13,>=2.12->tensorflow<2.13,>=2.12.0->tensorflow_text) (2022.12.7)\n",
            "Requirement already satisfied: idna<4,>=2.5 in /usr/local/lib/python3.10/dist-packages (from requests<3,>=2.21.0->tensorboard<2.13,>=2.12->tensorflow<2.13,>=2.12.0->tensorflow_text) (3.4)\n",
            "Requirement already satisfied: MarkupSafe>=2.1.1 in /usr/local/lib/python3.10/dist-packages (from werkzeug>=1.0.1->tensorboard<2.13,>=2.12->tensorflow<2.13,>=2.12.0->tensorflow_text) (2.1.2)\n",
            "Requirement already satisfied: pyasn1<0.6.0,>=0.4.6 in /usr/local/lib/python3.10/dist-packages (from pyasn1-modules>=0.2.1->google-auth<3,>=1.6.3->tensorboard<2.13,>=2.12->tensorflow<2.13,>=2.12.0->tensorflow_text) (0.5.0)\n",
            "Requirement already satisfied: oauthlib>=3.0.0 in /usr/local/lib/python3.10/dist-packages (from requests-oauthlib>=0.7.0->google-auth-oauthlib<1.1,>=0.5->tensorboard<2.13,>=2.12->tensorflow<2.13,>=2.12.0->tensorflow_text) (3.2.2)\n",
            "Looking in indexes: https://pypi.org/simple, https://us-python.pkg.dev/colab-wheels/public/simple/\n",
            "Requirement already satisfied: torchtext in /usr/local/lib/python3.10/dist-packages (0.15.1)\n",
            "Requirement already satisfied: torch==2.0.0 in /usr/local/lib/python3.10/dist-packages (from torchtext) (2.0.0+cu118)\n",
            "Requirement already satisfied: numpy in /usr/local/lib/python3.10/dist-packages (from torchtext) (1.22.4)\n",
            "Requirement already satisfied: requests in /usr/local/lib/python3.10/dist-packages (from torchtext) (2.27.1)\n",
            "Requirement already satisfied: torchdata==0.6.0 in /usr/local/lib/python3.10/dist-packages (from torchtext) (0.6.0)\n",
            "Requirement already satisfied: tqdm in /usr/local/lib/python3.10/dist-packages (from torchtext) (4.65.0)\n",
            "Requirement already satisfied: filelock in /usr/local/lib/python3.10/dist-packages (from torch==2.0.0->torchtext) (3.12.0)\n",
            "Requirement already satisfied: networkx in /usr/local/lib/python3.10/dist-packages (from torch==2.0.0->torchtext) (3.1)\n",
            "Requirement already satisfied: sympy in /usr/local/lib/python3.10/dist-packages (from torch==2.0.0->torchtext) (1.11.1)\n",
            "Requirement already satisfied: triton==2.0.0 in /usr/local/lib/python3.10/dist-packages (from torch==2.0.0->torchtext) (2.0.0)\n",
            "Requirement already satisfied: jinja2 in /usr/local/lib/python3.10/dist-packages (from torch==2.0.0->torchtext) (3.1.2)\n",
            "Requirement already satisfied: typing-extensions in /usr/local/lib/python3.10/dist-packages (from torch==2.0.0->torchtext) (4.5.0)\n",
            "Requirement already satisfied: urllib3>=1.25 in /usr/local/lib/python3.10/dist-packages (from torchdata==0.6.0->torchtext) (1.26.15)\n",
            "Requirement already satisfied: cmake in /usr/local/lib/python3.10/dist-packages (from triton==2.0.0->torch==2.0.0->torchtext) (3.25.2)\n",
            "Requirement already satisfied: lit in /usr/local/lib/python3.10/dist-packages (from triton==2.0.0->torch==2.0.0->torchtext) (16.0.2)\n",
            "Requirement already satisfied: charset-normalizer~=2.0.0 in /usr/local/lib/python3.10/dist-packages (from requests->torchtext) (2.0.12)\n",
            "Requirement already satisfied: certifi>=2017.4.17 in /usr/local/lib/python3.10/dist-packages (from requests->torchtext) (2022.12.7)\n",
            "Requirement already satisfied: idna<4,>=2.5 in /usr/local/lib/python3.10/dist-packages (from requests->torchtext) (3.4)\n",
            "Requirement already satisfied: MarkupSafe>=2.0 in /usr/local/lib/python3.10/dist-packages (from jinja2->torch==2.0.0->torchtext) (2.1.2)\n",
            "Requirement already satisfied: mpmath>=0.19 in /usr/local/lib/python3.10/dist-packages (from sympy->torch==2.0.0->torchtext) (1.3.0)\n"
          ]
        }
      ],
      "source": [
        "!pip install datasets\n",
        "!pip install transformers \n",
        "!pip install SentencePiece \n",
        "!pip install evaluate\n",
        "!pip install rouge_score\n",
        "!pip install tensorflow_text\n",
        "!pip install torchtext\n"
      ]
    },
    {
      "cell_type": "code",
      "source": [
        "# importi\n",
        "import pandas as pd\n",
        "import torch\n",
        "import numpy as np\n",
        "from datasets import Dataset\n",
        "import pyarrow as pa\n",
        "import evaluate\n",
        "from google.colab import drive\n",
        "from datetime import datetime as dt\n",
        "import os\n",
        "from torch.utils.data import DataLoader"
      ],
      "metadata": {
        "id": "pCB9ALabWpMI"
      },
      "execution_count": 3,
      "outputs": []
    },
    {
      "cell_type": "code",
      "source": [
        "novModel = False\n",
        "# Če je določena kot True, potem vzame model cjvt/t5-sl-small\n",
        "# Če je False, pa pogleda na Google Drive in vzame shranjen model ter ga dodatno trenira"
      ],
      "metadata": {
        "id": "WjG3NSpdeWDT"
      },
      "execution_count": 4,
      "outputs": []
    },
    {
      "cell_type": "code",
      "source": [
        "# povezava z drive in branje baze\n",
        "drive.mount('/content/gdrive/', force_remount=True)\n",
        "skupna = pd.read_excel(\"/content/gdrive/MyDrive/NLP/PrevodiClarin.xlsx\")"
      ],
      "metadata": {
        "colab": {
          "base_uri": "https://localhost:8080/"
        },
        "id": "7hHXUxqdGW-7",
        "outputId": "8bb001ed-cb76-4740-cf9a-dc6cdc9efe78"
      },
      "execution_count": 5,
      "outputs": [
        {
          "output_type": "stream",
          "name": "stdout",
          "text": [
            "Mounted at /content/gdrive/\n"
          ]
        }
      ]
    },
    {
      "cell_type": "code",
      "source": [
        "# Na Google drive pogleda, kje se nahaja najnovejši model\n",
        "# Model mora biti v direktoriju NLP\n",
        "pot = \"/content/gdrive/MyDrive/NLP\"\n",
        "\n",
        "potDoModela = \"\"\n",
        "cas = 0\n",
        "\n",
        "# Pregleda kateri model je zadnji\n",
        "for filename in os.listdir(pot):\n",
        "    if os.path.isdir(os.path.join(pot,filename)):\n",
        "      if os.path.getmtime(os.path.join(pot,filename)) > cas:\n",
        "        cas = os.path.getmtime(os.path.join(pot,filename))\n",
        "        potDoModela = os.path.join(pot,filename)\n",
        "\n",
        "print(potDoModela,cas)"
      ],
      "metadata": {
        "colab": {
          "base_uri": "https://localhost:8080/"
        },
        "id": "pxvBBlpuZvo2",
        "outputId": "d75030d2-56b4-4356-a9bb-e03bb69a38b8"
      },
      "execution_count": 6,
      "outputs": [
        {
          "output_type": "stream",
          "name": "stdout",
          "text": [
            "/content/gdrive/MyDrive/NLP/2023-05-08T05:50:36.586395 1683525037.0\n"
          ]
        }
      ]
    },
    {
      "cell_type": "code",
      "source": [
        "from transformers import T5Tokenizer\n",
        "tokenizer = T5Tokenizer.from_pretrained(\"cjvt/t5-sl-small\")"
      ],
      "metadata": {
        "id": "eQHA5UljWsrm"
      },
      "execution_count": 7,
      "outputs": []
    },
    {
      "cell_type": "code",
      "source": [
        "# Doda štiri kolone v Dataset\n",
        "\n",
        "skupna['input_ids'] = None\n",
        "skupna['attention_mask'] = None\n",
        "skupna['labels'] = None\n",
        "skupna['decoder_attention_mask'] = None"
      ],
      "metadata": {
        "id": "lyMsqeI-WuCT"
      },
      "execution_count": 8,
      "outputs": []
    },
    {
      "cell_type": "code",
      "source": [
        "# Doda tokene v Dataset\n",
        "for i in skupna.index:\n",
        "    a = tokenizer(\"parafraza: \"+skupna.at[i,'original'], padding=\"max_length\", truncation=True, max_length=50)\n",
        "    b = tokenizer(skupna.at[i,'parafraza'], padding=\"max_length\", truncation=True, max_length=50)\n",
        "    skupna.at[i,'input_ids'] = a.input_ids\n",
        "    skupna.at[i,'attention_mask'] = a.attention_mask\n",
        "    skupna.at[i,'labels'] = b.input_ids\n",
        "    skupna.at[i,'decoder_attention_mask'] = b.attention_mask"
      ],
      "metadata": {
        "id": "MmoDfYpVWvpF"
      },
      "execution_count": 9,
      "outputs": []
    },
    {
      "cell_type": "code",
      "source": [
        "# Zbriše nepotrebne kolone v Datasetu\n",
        "skupna = skupna.drop(['original','anprevod','parafraza'],axis=1)"
      ],
      "metadata": {
        "id": "qLqXxFLIWxb8"
      },
      "execution_count": 10,
      "outputs": []
    },
    {
      "cell_type": "code",
      "source": [
        "# Pretvorba in pandas dataframe v arrow dataset \n",
        "a = pa.Table.from_pandas(skupna)\n",
        "skupni_dataset = Dataset(a)"
      ],
      "metadata": {
        "id": "km4vPWdcWy9J"
      },
      "execution_count": 11,
      "outputs": []
    },
    {
      "cell_type": "code",
      "source": [
        "# Tukaj izračuna koliko je 10% od vseh stavkov v bazi.\n",
        "st_train = int(len(skupni_dataset)*0.7)\n",
        "print(st_train)"
      ],
      "metadata": {
        "colab": {
          "base_uri": "https://localhost:8080/"
        },
        "id": "-i1X6DI9W0X0",
        "outputId": "b129da5b-083b-47db-dbb9-a85ab75925c6"
      },
      "execution_count": 12,
      "outputs": [
        {
          "output_type": "stream",
          "name": "stdout",
          "text": [
            "18946\n"
          ]
        }
      ]
    },
    {
      "cell_type": "code",
      "source": [
        "skupni_dataset.set_format(\"torch\")"
      ],
      "metadata": {
        "id": "IoIqAnbLW1-B"
      },
      "execution_count": 13,
      "outputs": []
    },
    {
      "cell_type": "code",
      "source": [
        "# izberem 70% za train in 30 za val\n",
        "#moj_train_dataset = skupni_dataset.shuffle(seed=42).select(range(st_train))\n",
        "#moj_val_dataset = skupni_dataset.shuffle(seed=42).select(range(len(skupni_dataset)-st_train))\n",
        "\n",
        "#Lahko vzamem tudi fiksno število primerov\n",
        "moj_train_dataset = skupni_dataset.shuffle(seed=42).select(range(1000))\n",
        "moj_val_dataset = skupni_dataset.shuffle(seed=42).select(range(100))"
      ],
      "metadata": {
        "id": "COuwUNoeW2d2"
      },
      "execution_count": 14,
      "outputs": []
    },
    {
      "cell_type": "code",
      "source": [
        "print(moj_train_dataset)\n",
        "print(moj_val_dataset)"
      ],
      "metadata": {
        "colab": {
          "base_uri": "https://localhost:8080/"
        },
        "id": "-irhFPrrW7ct",
        "outputId": "4e453ceb-9a3b-4e30-8317-420c1f6cc4c3"
      },
      "execution_count": 15,
      "outputs": [
        {
          "output_type": "stream",
          "name": "stdout",
          "text": [
            "Dataset({\n",
            "    features: ['input_ids', 'attention_mask', 'labels', 'decoder_attention_mask'],\n",
            "    num_rows: 1000\n",
            "})\n",
            "Dataset({\n",
            "    features: ['input_ids', 'attention_mask', 'labels', 'decoder_attention_mask'],\n",
            "    num_rows: 100\n",
            "})\n"
          ]
        }
      ]
    },
    {
      "cell_type": "code",
      "source": [
        "# Spremeni podatke v primerno obliko\n",
        "\n",
        "train_dataloader = DataLoader(moj_train_dataset, shuffle=True, batch_size=64)\n",
        "eval_dataloader = DataLoader(moj_val_dataset, batch_size=64)"
      ],
      "metadata": {
        "id": "1Z3rxlLaXAra"
      },
      "execution_count": 16,
      "outputs": []
    },
    {
      "cell_type": "code",
      "source": [
        "from transformers import T5ForConditionalGeneration\n",
        "if novModel:\n",
        "  print(\"Prilagajam nov model.\")\n",
        "  model = T5ForConditionalGeneration.from_pretrained(\"cjvt/t5-sl-small\")\n",
        "else:\n",
        "  print(\"Prilagajam obstoječ model\")\n",
        "  model = T5ForConditionalGeneration.from_pretrained(potDoModela)\n"
      ],
      "metadata": {
        "id": "cRzCzBzLZTXL",
        "colab": {
          "base_uri": "https://localhost:8080/"
        },
        "outputId": "901b33fe-e5d7-4c9e-dd3c-a3fcb246a98f"
      },
      "execution_count": 17,
      "outputs": [
        {
          "output_type": "stream",
          "name": "stdout",
          "text": [
            "Prilagajam obstoječ model\n"
          ]
        }
      ]
    },
    {
      "cell_type": "code",
      "source": [
        "from torch.optim import AdamW\n",
        "#optimizer = AdamW(model.parameters(), lr=5e-5)\n",
        "optimizer = AdamW(model.parameters(), lr=3e-4, eps=1e-8)"
      ],
      "metadata": {
        "id": "5iMSKxBNZaNY"
      },
      "execution_count": 18,
      "outputs": []
    },
    {
      "cell_type": "code",
      "source": [
        "from transformers import get_scheduler\n",
        "\n",
        "num_epochs = 1\n",
        "num_training_steps = num_epochs * len(train_dataloader)\n",
        "lr_scheduler = get_scheduler(\n",
        "    name=\"linear\", optimizer=optimizer, num_warmup_steps=0, num_training_steps=num_training_steps\n",
        ")"
      ],
      "metadata": {
        "id": "9BQpkUOVZeqM"
      },
      "execution_count": 19,
      "outputs": []
    },
    {
      "cell_type": "code",
      "source": [
        "import torch\n",
        "\n",
        "device = torch.device(\"cuda\") if torch.cuda.is_available() else torch.device(\"cpu\")\n",
        "model.to(device)"
      ],
      "metadata": {
        "colab": {
          "base_uri": "https://localhost:8080/"
        },
        "id": "_Xc6_g51Zkwy",
        "outputId": "b526f7de-ca40-403e-9255-b395d8de6842"
      },
      "execution_count": 20,
      "outputs": [
        {
          "output_type": "execute_result",
          "data": {
            "text/plain": [
              "T5ForConditionalGeneration(\n",
              "  (shared): Embedding(32000, 512)\n",
              "  (encoder): T5Stack(\n",
              "    (embed_tokens): Embedding(32000, 512)\n",
              "    (block): ModuleList(\n",
              "      (0): T5Block(\n",
              "        (layer): ModuleList(\n",
              "          (0): T5LayerSelfAttention(\n",
              "            (SelfAttention): T5Attention(\n",
              "              (q): Linear(in_features=512, out_features=384, bias=False)\n",
              "              (k): Linear(in_features=512, out_features=384, bias=False)\n",
              "              (v): Linear(in_features=512, out_features=384, bias=False)\n",
              "              (o): Linear(in_features=384, out_features=512, bias=False)\n",
              "              (relative_attention_bias): Embedding(32, 6)\n",
              "            )\n",
              "            (layer_norm): T5LayerNorm()\n",
              "            (dropout): Dropout(p=0.1, inplace=False)\n",
              "          )\n",
              "          (1): T5LayerFF(\n",
              "            (DenseReluDense): T5DenseGatedActDense(\n",
              "              (wi_0): Linear(in_features=512, out_features=1024, bias=False)\n",
              "              (wi_1): Linear(in_features=512, out_features=1024, bias=False)\n",
              "              (wo): Linear(in_features=1024, out_features=512, bias=False)\n",
              "              (dropout): Dropout(p=0.1, inplace=False)\n",
              "              (act): NewGELUActivation()\n",
              "            )\n",
              "            (layer_norm): T5LayerNorm()\n",
              "            (dropout): Dropout(p=0.1, inplace=False)\n",
              "          )\n",
              "        )\n",
              "      )\n",
              "      (1-7): 7 x T5Block(\n",
              "        (layer): ModuleList(\n",
              "          (0): T5LayerSelfAttention(\n",
              "            (SelfAttention): T5Attention(\n",
              "              (q): Linear(in_features=512, out_features=384, bias=False)\n",
              "              (k): Linear(in_features=512, out_features=384, bias=False)\n",
              "              (v): Linear(in_features=512, out_features=384, bias=False)\n",
              "              (o): Linear(in_features=384, out_features=512, bias=False)\n",
              "            )\n",
              "            (layer_norm): T5LayerNorm()\n",
              "            (dropout): Dropout(p=0.1, inplace=False)\n",
              "          )\n",
              "          (1): T5LayerFF(\n",
              "            (DenseReluDense): T5DenseGatedActDense(\n",
              "              (wi_0): Linear(in_features=512, out_features=1024, bias=False)\n",
              "              (wi_1): Linear(in_features=512, out_features=1024, bias=False)\n",
              "              (wo): Linear(in_features=1024, out_features=512, bias=False)\n",
              "              (dropout): Dropout(p=0.1, inplace=False)\n",
              "              (act): NewGELUActivation()\n",
              "            )\n",
              "            (layer_norm): T5LayerNorm()\n",
              "            (dropout): Dropout(p=0.1, inplace=False)\n",
              "          )\n",
              "        )\n",
              "      )\n",
              "    )\n",
              "    (final_layer_norm): T5LayerNorm()\n",
              "    (dropout): Dropout(p=0.1, inplace=False)\n",
              "  )\n",
              "  (decoder): T5Stack(\n",
              "    (embed_tokens): Embedding(32000, 512)\n",
              "    (block): ModuleList(\n",
              "      (0): T5Block(\n",
              "        (layer): ModuleList(\n",
              "          (0): T5LayerSelfAttention(\n",
              "            (SelfAttention): T5Attention(\n",
              "              (q): Linear(in_features=512, out_features=384, bias=False)\n",
              "              (k): Linear(in_features=512, out_features=384, bias=False)\n",
              "              (v): Linear(in_features=512, out_features=384, bias=False)\n",
              "              (o): Linear(in_features=384, out_features=512, bias=False)\n",
              "              (relative_attention_bias): Embedding(32, 6)\n",
              "            )\n",
              "            (layer_norm): T5LayerNorm()\n",
              "            (dropout): Dropout(p=0.1, inplace=False)\n",
              "          )\n",
              "          (1): T5LayerCrossAttention(\n",
              "            (EncDecAttention): T5Attention(\n",
              "              (q): Linear(in_features=512, out_features=384, bias=False)\n",
              "              (k): Linear(in_features=512, out_features=384, bias=False)\n",
              "              (v): Linear(in_features=512, out_features=384, bias=False)\n",
              "              (o): Linear(in_features=384, out_features=512, bias=False)\n",
              "            )\n",
              "            (layer_norm): T5LayerNorm()\n",
              "            (dropout): Dropout(p=0.1, inplace=False)\n",
              "          )\n",
              "          (2): T5LayerFF(\n",
              "            (DenseReluDense): T5DenseGatedActDense(\n",
              "              (wi_0): Linear(in_features=512, out_features=1024, bias=False)\n",
              "              (wi_1): Linear(in_features=512, out_features=1024, bias=False)\n",
              "              (wo): Linear(in_features=1024, out_features=512, bias=False)\n",
              "              (dropout): Dropout(p=0.1, inplace=False)\n",
              "              (act): NewGELUActivation()\n",
              "            )\n",
              "            (layer_norm): T5LayerNorm()\n",
              "            (dropout): Dropout(p=0.1, inplace=False)\n",
              "          )\n",
              "        )\n",
              "      )\n",
              "      (1-7): 7 x T5Block(\n",
              "        (layer): ModuleList(\n",
              "          (0): T5LayerSelfAttention(\n",
              "            (SelfAttention): T5Attention(\n",
              "              (q): Linear(in_features=512, out_features=384, bias=False)\n",
              "              (k): Linear(in_features=512, out_features=384, bias=False)\n",
              "              (v): Linear(in_features=512, out_features=384, bias=False)\n",
              "              (o): Linear(in_features=384, out_features=512, bias=False)\n",
              "            )\n",
              "            (layer_norm): T5LayerNorm()\n",
              "            (dropout): Dropout(p=0.1, inplace=False)\n",
              "          )\n",
              "          (1): T5LayerCrossAttention(\n",
              "            (EncDecAttention): T5Attention(\n",
              "              (q): Linear(in_features=512, out_features=384, bias=False)\n",
              "              (k): Linear(in_features=512, out_features=384, bias=False)\n",
              "              (v): Linear(in_features=512, out_features=384, bias=False)\n",
              "              (o): Linear(in_features=384, out_features=512, bias=False)\n",
              "            )\n",
              "            (layer_norm): T5LayerNorm()\n",
              "            (dropout): Dropout(p=0.1, inplace=False)\n",
              "          )\n",
              "          (2): T5LayerFF(\n",
              "            (DenseReluDense): T5DenseGatedActDense(\n",
              "              (wi_0): Linear(in_features=512, out_features=1024, bias=False)\n",
              "              (wi_1): Linear(in_features=512, out_features=1024, bias=False)\n",
              "              (wo): Linear(in_features=1024, out_features=512, bias=False)\n",
              "              (dropout): Dropout(p=0.1, inplace=False)\n",
              "              (act): NewGELUActivation()\n",
              "            )\n",
              "            (layer_norm): T5LayerNorm()\n",
              "            (dropout): Dropout(p=0.1, inplace=False)\n",
              "          )\n",
              "        )\n",
              "      )\n",
              "    )\n",
              "    (final_layer_norm): T5LayerNorm()\n",
              "    (dropout): Dropout(p=0.1, inplace=False)\n",
              "  )\n",
              "  (lm_head): Linear(in_features=512, out_features=32000, bias=False)\n",
              ")"
            ]
          },
          "metadata": {},
          "execution_count": 20
        }
      ]
    },
    {
      "cell_type": "code",
      "source": [
        "from tqdm.auto import tqdm\n",
        "\n",
        "progress_bar = tqdm(range(num_training_steps))\n",
        "\n",
        "model.train()\n",
        "for epoch in range(num_epochs):\n",
        "    print(epoch)\n",
        "    for batch in train_dataloader:\n",
        "        batch = {k: v.to(device) for k, v in batch.items()}\n",
        "        #print(batch)\n",
        "        outputs = model(**batch)\n",
        "        loss = outputs.loss\n",
        "        loss.backward()\n",
        "\n",
        "        optimizer.step()\n",
        "        lr_scheduler.step()\n",
        "        optimizer.zero_grad()\n",
        "        progress_bar.update(1)\n",
        "\n",
        "    metric = evaluate.load(\"bleu\")\n",
        "    model.eval()\n",
        "    for batch in eval_dataloader:\n",
        "      napovedi = []\n",
        "      resnice = []\n",
        "      batch = {k: v.to(device) for k, v in batch.items()}\n",
        "      with torch.no_grad():\n",
        "        outputs = model(**batch)\n",
        "\n",
        "      logits = outputs.logits\n",
        "      predictions = torch.argmax(logits, dim=-1)\n",
        "      for i in predictions:\n",
        "        napovedi.append(tokenizer.decode(i.tolist()))\n",
        "      predikcija = predictions[0].tolist()\n",
        "      #predikcija = tf_sp.detokenize(predikcija)\n",
        "      predikcija = [tokenizer.decode(predikcija)]\n",
        "      zares = batch[\"labels\"].tolist()\n",
        "      for i in zares:\n",
        "        resnice.append(tokenizer.decode(i))\n",
        "      metric.add_batch(predictions=napovedi, references=resnice)\n",
        "\n",
        "    rez = metric.compute()\n",
        "    print(rez)"
      ],
      "metadata": {
        "colab": {
          "base_uri": "https://localhost:8080/",
          "height": 104,
          "referenced_widgets": [
            "eb54969fb21a456597de99fe7046bf80",
            "ab248bb841824c2eb1b2e105d68236e4",
            "6a3d0307567c47278ce939ac00d32115",
            "0abf39d7293c4405b775e3a1df9089ec",
            "581abf1b4ff34c69a329320fa567d32f",
            "c4db21792ad246508a2e19798ae4ad28",
            "968e94eb4dc6427ea5d603c791be3c6d",
            "ef0576db960f49efb9ab3da076206e94",
            "74c91ad23f054546839a7321aedcf1fa",
            "d983d1405be0493ca80e2a868050aad9",
            "e2babbce627f49efbb38c0b481c53896"
          ]
        },
        "id": "D0TDZvigZsyc",
        "outputId": "91ff2619-119e-4804-b48e-81dd5070bd0f"
      },
      "execution_count": 21,
      "outputs": [
        {
          "output_type": "display_data",
          "data": {
            "text/plain": [
              "  0%|          | 0/16 [00:00<?, ?it/s]"
            ],
            "application/vnd.jupyter.widget-view+json": {
              "version_major": 2,
              "version_minor": 0,
              "model_id": "eb54969fb21a456597de99fe7046bf80"
            }
          },
          "metadata": {}
        },
        {
          "output_type": "stream",
          "name": "stdout",
          "text": [
            "0\n",
            "{'bleu': 0.9872815897258838, 'precisions': [0.9944504117436448, 0.989342485549133, 0.9848705796573095, 0.9808682855040471], 'brevity_penalty': 0.9999104945178489, 'length_ratio': 0.9999104985232257, 'translation_length': 11172, 'reference_length': 11173}\n"
          ]
        }
      ]
    },
    {
      "cell_type": "code",
      "source": [
        "# Shranjevanje modela na Google drive\n",
        "\n",
        "potZaModel = \"/content/gdrive/MyDrive/NLP/\"+dt.now().isoformat()\n",
        "\n",
        "\n",
        "model.save_pretrained(potZaModel, from_pt=True) \n"
      ],
      "metadata": {
        "id": "dum6_1CDxjRD"
      },
      "execution_count": 22,
      "outputs": []
    },
    {
      "cell_type": "code",
      "source": [
        "Ta stavek je tu samo zato, da se izvajanje ustavi in preverjanje požene ročno"
      ],
      "metadata": {
        "id": "SsnAWxKeXHIB",
        "colab": {
          "base_uri": "https://localhost:8080/",
          "height": 130
        },
        "outputId": "98f5ac04-37d4-48fc-8d88-bfd2e735d0d0"
      },
      "execution_count": 23,
      "outputs": [
        {
          "output_type": "error",
          "ename": "SyntaxError",
          "evalue": "ignored",
          "traceback": [
            "\u001b[0;36m  File \u001b[0;32m\"<ipython-input-23-00e9ca97f99c>\"\u001b[0;36m, line \u001b[0;32m1\u001b[0m\n\u001b[0;31m    Ta stavek je tu samo zato, da se izvajanje ustavi in preverjanje požene ročno\u001b[0m\n\u001b[0m       ^\u001b[0m\n\u001b[0;31mSyntaxError\u001b[0m\u001b[0;31m:\u001b[0m invalid syntax\n"
          ]
        }
      ]
    },
    {
      "cell_type": "code",
      "source": [
        "stavkiZaPara = []\n",
        "stavkiZaPara.append(\"Še nobeni vladi ni uspelo odpraviti dopolnilnega zdravstvenega zavarovanja, ki v resnici sploh ni zavarovanje.\")\n",
        "stavkiZaPara.append(\"Bila so čisto navadna torkova večerna poročila na POP TV, torej oddaja 24ur, in je Darja Zgonc čisto mirno, kot da napoveduje, da vreme pač bo, izrekla naslednjo napoved prispevka.\")\n",
        "stavkiZaPara.append(\"Življenje samohranilke z dvema otrokoma se vrti nevarno blizu roba.\")\n",
        "stavkiZaPara.append(\"Janez Vogrinc je dekan Pedagoške fakultete v Ljubljani. \")\n",
        "stavkiZaPara.append(\"Je tudi vodja delovne skupine za pripravo novega nacionalnega programa vzgoje in izobraževanja za obdobje 2023–2033, ki jo je oblikovalo resorno ministrstvo.\")\n",
        "stavkiZaPara.append(\"Glasbeni megahit, ki ga je še danes mogoče slišati na številnih plesiščih (ali pa vsaj po radijskih valovih), je opeval tradicionalno moške lastnosti in njihove adute.\")\n",
        "stavkiZaPara.append(\"Upravno sodišče je sredi letošnjega januarja izdalo odločbo, v kateri je ugodilo tožbi kmeta, ki mu je bilo razlaščeno 17.785 kvadratnih metrov kmetijskega zemljišča v korist Občine Hoče - Slivnica.\")\n",
        "stavkiZaPara.append(\"V okviru 14. Dneva za spremembe Slovenska filantropija po vsej Sloveniji organizira akcije, ki spodbujajo državljane k aktivnemu odzivu na potrebe svoje skupnosti.\")\n",
        "stavkiZaPara.append(\"Slovenijo je zajela protestniška inflacija.\")\n",
        "stavkiZaPara.append(\"Protestov je čedalje več, njihova vrednost pa je čedalje manjša.\")"
      ],
      "metadata": {
        "id": "0yMO3wAPqu3t"
      },
      "execution_count": 24,
      "outputs": []
    },
    {
      "cell_type": "code",
      "source": [
        "for i in stavkiZaPara:\n",
        "  #text =  \"paraphrase: \" + i + \" </s>\"\n",
        "  #text =  i + \" </s>\"\n",
        "  text =  \"parafraza: \" + i\n",
        "\n",
        "  max_len = 256\n",
        "\n",
        "  encoding = tokenizer.encode_plus(text,pad_to_max_length=True, return_tensors=\"pt\")\n",
        "  input_ids, attention_masks = encoding[\"input_ids\"].to(device), encoding[\"attention_mask\"].to(device)\n",
        "\n",
        "\n",
        "  # set top_k = 50 and set top_p = 0.95 and num_return_sequences = 3\n",
        "  beam_outputs = model.generate(\n",
        "      input_ids=input_ids, attention_mask=attention_masks,\n",
        "      do_sample=True,\n",
        "      max_length=256,\n",
        "      top_k=120,\n",
        "      top_p=0.98,\n",
        "      early_stopping=True,\n",
        "      num_return_sequences=10\n",
        "  )\n",
        "\n",
        "\n",
        "  print (\"\\nOriginalni stavek:\")\n",
        "  print (i)\n",
        "  print (\"\\n\")\n",
        "  print (\"Parafrazirani stavki:\")\n",
        "  final_outputs =[]\n",
        "  for beam_output in beam_outputs:\n",
        "    sent = tokenizer.decode(beam_output, skip_special_tokens=True,clean_up_tokenization_spaces=True)\n",
        "    if sent.lower() != i.lower() and sent not in final_outputs:\n",
        "      final_outputs.append(sent)\n",
        "\n",
        "  for i, final_output in enumerate(final_outputs):\n",
        "    print(\"{}: {}\".format(i, final_output))\n",
        "\n",
        "  print(\"\\n-----------------------\\n\")"
      ],
      "metadata": {
        "id": "h2XS156pqyGf",
        "colab": {
          "base_uri": "https://localhost:8080/"
        },
        "outputId": "580143e6-bf86-460c-c905-2742564a263c"
      },
      "execution_count": 25,
      "outputs": [
        {
          "output_type": "stream",
          "name": "stderr",
          "text": [
            "/usr/local/lib/python3.10/dist-packages/transformers/tokenization_utils_base.py:2354: FutureWarning: The `pad_to_max_length` argument is deprecated and will be removed in a future version, use `padding=True` or `padding='longest'` to pad to the longest sequence in the batch, or use `padding='max_length'` to pad to a max length. In this case, you can give a specific length with `max_length` (e.g. `max_length=45`) or leave max_length to None to pad to the maximal input size of the model (e.g. 512 for Bert).\n",
            "  warnings.warn(\n"
          ]
        },
        {
          "output_type": "stream",
          "name": "stdout",
          "text": [
            "\n",
            "Originalni stavek:\n",
            "Še nobeni vladi ni uspelo odpraviti dopolnilnega zdravstvenega zavarovanja, ki v resnici sploh ni zavarovanje.\n",
            "\n",
            "\n",
            "Parafrazirani stavki:\n",
            "0: Še nobeni vladi ni uspelo odpraviti dopolnilnega zdravstvenega zavarovanja, ki v resnici ni zavarovanje.\n",
            "1: Še nobena vlada ni odpravila dopolnilnega zdravstvenega zavarovanja, ki ni zavarovanje.\n",
            "2: Še nobena vlada ni uspelo odpraviti dopolnilnega zdravstvenega zavarovanja, ki pravzaprav ni zavarovanje.\n",
            "3: Še nobena vlada ni mogla odpraviti dopolnilnega zdravstvenega zavarovanja, ki pravzaprav ni zavarovanje.\n",
            "4: Še nobeno zdravstveno zavarovanje ni bilo vključeno v zavarovanje, ki je dejansko le zavarovanje.\n",
            "5: Še nobena vlada ni mogla odpraviti dopolnilnega zdravstvenega zavarovanja, ki ni zavarovanje.\n",
            "6: Še nobena vlada ni uspelo odpraviti dopolnilnega zdravstvenega zavarovanja, ki ni zavarovanje.\n",
            "7: Še nobena vlada ni mogla odpraviti dopolnilnega zdravstvenega zavarovanja, ki v resnici ni zavarovanje.\n",
            "8: Še nobena vlada ni poskusila odpraviti dopolnilnega zdravstvenega zavarovanja, ki v resnici ni zavarovanje.\n",
            "\n",
            "-----------------------\n",
            "\n",
            "\n",
            "Originalni stavek:\n",
            "Bila so čisto navadna torkova večerna poročila na POP TV, torej oddaja 24ur, in je Darja Zgonc čisto mirno, kot da napoveduje, da vreme pač bo, izrekla naslednjo napoved prispevka.\n",
            "\n",
            "\n",
            "Parafrazirani stavki:\n",
            "0: Bila je čisto navadna torkova večerna poročila na POP TV, torej 24ur, in je Darja Zgonc mirno, kot da napoveduje vreme, in je Darja Zgonc napovedala, da bo torek.\n",
            "1: Bila je čisto navadna torkova večerna poročila POP TV, torej 24ur, in je Darja Zgonc čisto mirno, kot da napoveduje vreme, in je Darja Zgonc mirno napovedala, da bo torek zapustila, da bo posredovala naslednjo napoved za prispevek.\n",
            "2: Bila so povsem normalna torkova večerna poročila na POP TV, in Darja Zgonc je rekla, da bo vreme, kot da napoveduje vreme, ali da bo vreme res), podala naslednjo napoved za prispevek.\n",
            "3: Bila je čisto navadna torkova večerna poročila na POP TV, torej 24ur, in je Darja Zgonc mirno, kot da napoveduje vreme, napovedala naslednjo napoved.\n",
            "4: Bila so navadna torkova večerna poročila na POP TV, torej 24ur, in je Darja Zgonc mirno, kot da napoveduje vreme, in je Darja Zgonc čisto mirno, kot da napoveduje vreme, in je rekla naslednjo napoved za prispevek.\n",
            "5: Torej, to je bilo čisto navadna torkova večerna poročila na POP TV, torej 24ur, in je Darja Zgonc mirno, kot da napoveduje vreme, napovedala naslednjo napoved.\n",
            "6: Bila so čisto navadna torkova večerna poročila na POP TV, torej 24ur, in je Darja Zgonc mirno, kot da napoveduje vreme, in je Darja Zgonc mirno, kot da napoveduje vreme, ki bo poročal naslednjo napoved.\n",
            "7: Bila so čisto navadna torkova večerna poročila na POP TV, torej 24ur, in je tako mirno, kot da napoveduje vreme, rekla naslednjo napoved.\n",
            "8: To je bila čisto navadna torkova večerna poročila na POP TV, to je 24ur, in je Darja Zgonc mirno, kot da napoveduje vreme, in je Darja Zgonc mirno napovedala, da bo vreme, potem ko je napovedala, da bo vreme samo še povedala.\n",
            "9: Bila je čisto navadna torkova večerna poročila na POP TV, torej 24ur, in je Darja Zgonc mirno napovedala, da bo vreme morda res prišlo do naslednjega komentarja.\n",
            "\n",
            "-----------------------\n",
            "\n",
            "\n",
            "Originalni stavek:\n",
            "Življenje samohranilke z dvema otrokoma se vrti nevarno blizu roba.\n",
            "\n",
            "\n",
            "Parafrazirani stavki:\n",
            "0: Življenje samohranilka z dvema otrokoma se vrti nevarno blizu roba.\n",
            "1: Življenje samohranilca z dvema otrokoma se vrti nevarno blizu roba.\n",
            "2: Življenje samohranilke z dvema otrokom se vrti nevarno blizu roba.\n",
            "\n",
            "-----------------------\n",
            "\n",
            "\n",
            "Originalni stavek:\n",
            "Janez Vogrinc je dekan Pedagoške fakultete v Ljubljani. \n",
            "\n",
            "\n",
            "Parafrazirani stavki:\n",
            "0: Janez Vogrinc je dekan Pedagoške fakultete v Ljubljani.\n",
            "\n",
            "-----------------------\n",
            "\n",
            "\n",
            "Originalni stavek:\n",
            "Je tudi vodja delovne skupine za pripravo novega nacionalnega programa vzgoje in izobraževanja za obdobje 2023–2033, ki jo je oblikovalo resorno ministrstvo.\n",
            "\n",
            "\n",
            "Parafrazirani stavki:\n",
            "0: Je tudi vodja delovne skupine za pripravo novega nacionalnega programa vzgoje in izobraževanja za obdobje 2023–2033.\n",
            "1: Je tudi vodja delovne skupine za pripravo novega nacionalnega programa vzgoje in izobraževanja za obdobje 2023-2033, ki jo je oblikovalo Ministrstvo za izobraževanje.\n",
            "2: Je tudi vodja delovne skupine za pripravo novega nacionalnega programa vzgoje in izobraževanja za obdobje 2023-2033, ki ga je sprejela vlada.\n",
            "3: Je tudi vodja delovne skupine za pripravo novega nacionalnega programa vzgoje in izobraževanja za obdobje 2023–2033, ki jo je oblikovalo Ministrstvo za izobraževanje.\n",
            "4: Je tudi vodja delovne skupine za pripravo novega nacionalnega programa vzgoje in izobraževanja za obdobje 2023-2033, ki ga je potrdila vlada.\n",
            "5: Je tudi vodja delovne skupine za pripravo novega nacionalnega programa vzgoje in izobraževanja za obdobje 2023-2033, ki jo je odobrilo Ministrstvo za izobraževanje.\n",
            "\n",
            "-----------------------\n",
            "\n",
            "\n",
            "Originalni stavek:\n",
            "Glasbeni megahit, ki ga je še danes mogoče slišati na številnih plesiščih (ali pa vsaj po radijskih valovih), je opeval tradicionalno moške lastnosti in njihove adute.\n",
            "\n",
            "\n",
            "Parafrazirani stavki:\n",
            "0: Glasbeni megahit, ki ga še danes slišimo na številnih plesiščih (ali vsaj na radijskih valovih), je opeval tradicionalno moške lastnosti in njihove atribute.\n",
            "1: Glasbeni megahit, ki je še danes mogoče slišati na mnogih plesiščih (ali vsaj na radijskih valovih), je opeval tradicionalno moško naravo in njegove adute.\n",
            "2: Glasbeni megahit, ki ga še danes lahko slišimo na številnih plesiščih (ali vsaj po radijskih valovih) je opeval tradicionalno moške lastnosti in njihove adute.\n",
            "3: Glasbeni megahit, ki je še danes moč slišati na številnih plesiščih (ali vsaj na radijskih valovih).\n",
            "4: Glasbeni megahit, ki je še danes mogoče slišati na številnih plesiščih (ali vsaj na radijskih valovih), je opeval tradicionalno moške lastnosti in njihove atribute.\n",
            "5: Glasbeni megahit, ki je še danes moč slišati na številnih plesiščih (ali vsaj na radijskih frekvencah) je opeval tradicionalno moške lastnosti in njihove adute.\n",
            "6: Glasbeni megahit, ki je še danes lahko slišati na številnih plesiščih (ali vsaj na radijskih valovih), je opeval tradicionalno moške lastnosti in njihove adute.\n",
            "7: Glasbeni megahit, ki je še danes mogoče slišati na številnih plesiščih (in vsaj po radijskih valovih), je opeval tradicionalno moške lastnosti in njihove adute.\n",
            "8: Glasbeni megahit, ki je še danes mogoče slišati na številnih plesih (ali vsaj na radijskih valovih), je opeval tradicionalno moške lastnosti in njihove adute.\n",
            "9: Glasbeni megahit, ki ga še danes slišimo na številnih plesiščih (ali pa vsaj po radijskih valovih).\n",
            "\n",
            "-----------------------\n",
            "\n",
            "\n",
            "Originalni stavek:\n",
            "Upravno sodišče je sredi letošnjega januarja izdalo odločbo, v kateri je ugodilo tožbi kmeta, ki mu je bilo razlaščeno 17.785 kvadratnih metrov kmetijskega zemljišča v korist Občine Hoče - Slivnica.\n",
            "\n",
            "\n",
            "Parafrazirani stavki:\n",
            "0: Upravno sodišče je sredi lanskega januarja vložilo odločbo, v kateri je ugodilo pritožbi kmeta, ki je odstopil 17.785 kvadratnih metrov kmetijskega zemljišča v korist občine Hoče - Slivnica.\n",
            "1: Upravno sodišče je sredi januarja izdalo odločbo, v kateri je ugodilo tožbi kmeta, ki je bil razlaščen 17.785 kvadratnih metrov kmetijskega zemljišča v korist Občine Hoče - Slivnica.\n",
            "2: Upravni organ je sredi januarja izdal odločbo, v kateri je ugodil pritožbi kmeta, ki je nepravilno odstranjeval 17.785 kvadratnih metrov kmetijskega zemljišča v korist občine Hoče - Slivnica.\n",
            "3: Upravni organ je sredi januarja izdala odločbo, v kateri je ugodilo pritožbi kmeta, ki je nepravilno posegel v kmetijsko zemljišče v korist občine Hoče - Slivnica.\n",
            "4: Upravno sodišče je sredi januarja objavilo odločbo, v kateri je ugodilo pritožbi kmeta, ki je bil razlaščen 17.785 kvadratnih metrov kmetijskega zemljišča v korist Občine Hoče - Slivnica.\n",
            "5: Upravno sodišče je konec lanskega leta ugodilo tožbi kmeta, ki je razlažil 17.785 kvadratnih metrov kmetijskega zemljišča v korist Občine Hoče - Slivnica.\n",
            "6: Upravno sodišče je sredi januarja izdalo odločbo, v kateri je ugodilo tožbe kmeta, ki je bil razlaščen 17.785 kvadratnih metrov kmetijskega zemljišča v korist Občine Hoče - Slivnica.\n",
            "7: Upravni organ je sredi januarja izdal odločbo, v kateri je ugodil pritožbi kmeta, ki je razlaščeno kmetijsko zemljišče v korist Občine Hoče - Slivnica.\n",
            "8: Upravno sodišče je sredi lanskega januarja izdalo odločbo, v kateri je ugodilo pritožbi kmeta, ki je razlaščeno kmetijsko zemljišče v korist občine Hoče - Slivnica.\n",
            "9: Upravno sodišče je sredi januarja izdalo odločbo, v kateri je ugodilo pritožba kmeta, ki je bil razlaščen 17.785 kvadratnih metrov kmetijskega zemljišča v korist občine Hoče - Slivnica.\n",
            "\n",
            "-----------------------\n",
            "\n",
            "\n",
            "Originalni stavek:\n",
            "V okviru 14. Dneva za spremembe Slovenska filantropija po vsej Sloveniji organizira akcije, ki spodbujajo državljane k aktivnemu odzivu na potrebe svoje skupnosti.\n",
            "\n",
            "\n",
            "Parafrazirani stavki:\n",
            "0: V okviru 14. Dneva za spremembe Slovenska filantropija v Sloveniji organizira akcije, ki spodbujajo državljane k aktivnemu odzivu na potrebe svoje skupnosti.\n",
            "1: V okviru 14. Dneva za spremembe Slovenska filantropija po vsej Sloveniji organizira akcije, ki opozarjajo državljane na potrebe svoje skupnosti.\n",
            "2: V okviru 14. Dneva za spremembe Slovenska filantropija organizira akcije, ki spodbujajo državljane k aktivnejšem odzivu na njihove potrebe.\n",
            "3: V okviru 14. Dneva za spremembe Slovenska filantropija na območju Republike Slovenije izvaja akcije, ki spodbujajo državljane k aktivnemu odzivu na potrebe svoje skupnosti.\n",
            "4: V okviru 14. Dneva za spremembe Slovenska filantropija na svojem območju organizira akcije, ki spodbujajo državljane k aktivnemu odzivu na potrebe svoje skupnosti.\n",
            "5: V okviru 14. Dneva za spremembe slovenska filantropija na svojem območju organizira akcije, ki spodbujajo državljane k aktivnemu odzivu na potrebe svoje skupnosti.\n",
            "6: V okviru 14. Dneva za spremembe Slovenska filantropija na območju Slovenije izvaja akcije, ki spodbujajo državljane k aktivnemu odzivu na potrebe svojih skupnosti.\n",
            "\n",
            "-----------------------\n",
            "\n",
            "\n",
            "Originalni stavek:\n",
            "Slovenijo je zajela protestniška inflacija.\n",
            "\n",
            "\n",
            "Parafrazirani stavki:\n",
            "0: V Sloveniji je izbruhnila protestna inflacija.\n",
            "1: Slovenija je bila podvržena protestni inflaciji.\n",
            "2: V Sloveniji je bila prisotna protestna inflacija.\n",
            "3: Slovenija je bila oborožena s protestnimi protesti.\n",
            "4: Slovenija je bila preplavljena s protestnimi cenami.\n",
            "5: Slovenija je bila preplavljena s protestno inflacijo.\n",
            "6: Slovenija je bila pretresena zaradi protestantne inflacije.\n",
            "7: Slovenija je bila preobremenjena s protestnimi cenami.\n",
            "8: To je bila posledica protestne inflaciji.\n",
            "9: Sloveniji je prizadela protestna inflacija.\n",
            "\n",
            "-----------------------\n",
            "\n",
            "\n",
            "Originalni stavek:\n",
            "Protestov je čedalje več, njihova vrednost pa je čedalje manjša.\n",
            "\n",
            "\n",
            "Parafrazirani stavki:\n",
            "0: Protestov je čedalje več, njihova vrednost pa je vse večja.\n",
            "1: Protestov je vedno več, njihova vrednost pa je vse večja.\n",
            "2: Protestov je čedalje več, njihova vrednost pa postaja vse večja.\n",
            "3: Protestov je čedalje več, njihova vrednost pa narašča.\n",
            "4: Toda protestov je vedno več, njihova vrednost pa narašča.\n",
            "5: Protest je čedalje več, njihova vrednost pa postaja vse večja.\n",
            "\n",
            "-----------------------\n",
            "\n"
          ]
        }
      ]
    }
  ]
}